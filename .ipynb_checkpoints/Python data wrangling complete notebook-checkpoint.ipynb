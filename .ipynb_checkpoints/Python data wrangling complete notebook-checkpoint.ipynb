{
 "cells": [
  {
   "cell_type": "code",
   "execution_count": 2,
   "metadata": {},
   "outputs": [
    {
     "name": "stdout",
     "output_type": "stream",
     "text": [
      "[1 2 3 4 5 6]\n"
     ]
    }
   ],
   "source": [
    "#Numpy Array\n",
    "\n",
    "import numpy as np\n",
    "import pandas as pd\n",
    "\n",
    "from numpy.random import random\n",
    "np.set_printoptions(precision=2)\n",
    "a = np.array([1,2,3,4,5,6])\n",
    "\n",
    "\n",
    "print (a)\n"
   ]
  },
  {
   "cell_type": "code",
   "execution_count": 3,
   "metadata": {},
   "outputs": [
    {
     "name": "stdout",
     "output_type": "stream",
     "text": [
      "[list([1, 2, 4, 5, 6]) 1 2 4 list([1, 2, 4, 5])]\n"
     ]
    }
   ],
   "source": [
    "\n",
    "b = np.array([[1,2,4,5,6],1,2,4,[1,2,4,5]])\n",
    "print (b)\n",
    "\n"
   ]
  },
  {
   "cell_type": "code",
   "execution_count": 4,
   "metadata": {},
   "outputs": [
    {
     "name": "stdout",
     "output_type": "stream",
     "text": [
      "[  5.98  -1.81   0.28   2.87  52.36 -13.82]\n"
     ]
    }
   ],
   "source": [
    "\n",
    "z = np.random.seed\n",
    "c = 36*np.random.randn(6)\n",
    "print(c)\n",
    "\n"
   ]
  },
  {
   "cell_type": "code",
   "execution_count": 5,
   "metadata": {},
   "outputs": [
    {
     "name": "stdout",
     "output_type": "stream",
     "text": [
      "[ 1  2  3  4  5  6  7  8  9 10 11 12 13 14 15 16 17 18 19 20 21 22 23 24\n",
      " 25 26 27 28 29 30 31 32 33 34]\n"
     ]
    }
   ],
   "source": [
    "\n",
    "d = np.arange(1,35)\n",
    "print (d)\n",
    "\n"
   ]
  },
  {
   "cell_type": "code",
   "execution_count": 6,
   "metadata": {},
   "outputs": [
    {
     "data": {
      "text/plain": [
       "array([  59.81,  -18.1 ,    2.78,   28.74,  523.57, -138.16])"
      ]
     },
     "execution_count": 6,
     "metadata": {},
     "output_type": "execute_result"
    }
   ],
   "source": [
    "c*10"
   ]
  },
  {
   "cell_type": "code",
   "execution_count": 7,
   "metadata": {},
   "outputs": [
    {
     "data": {
      "text/plain": [
       "array([15.98,  8.19, 10.28, 12.87, 62.36, -3.82])"
      ]
     },
     "execution_count": 7,
     "metadata": {},
     "output_type": "execute_result"
    }
   ],
   "source": [
    "c+10"
   ]
  },
  {
   "cell_type": "code",
   "execution_count": 8,
   "metadata": {},
   "outputs": [],
   "source": [
    "array = [1,2,4,5,6]"
   ]
  },
  {
   "cell_type": "code",
   "execution_count": 9,
   "metadata": {},
   "outputs": [
    {
     "data": {
      "text/plain": [
       "[1, 2, 4, 5, 6]"
      ]
     },
     "execution_count": 9,
     "metadata": {},
     "output_type": "execute_result"
    }
   ],
   "source": [
    "array"
   ]
  },
  {
   "cell_type": "code",
   "execution_count": 14,
   "metadata": {},
   "outputs": [],
   "source": [
    "array2 = [2,3,2,5]"
   ]
  },
  {
   "cell_type": "code",
   "execution_count": 15,
   "metadata": {},
   "outputs": [
    {
     "data": {
      "text/plain": [
       "[2, 3, 2, 5]"
      ]
     },
     "execution_count": 15,
     "metadata": {},
     "output_type": "execute_result"
    }
   ],
   "source": [
    "array2\n"
   ]
  },
  {
   "cell_type": "code",
   "execution_count": 17,
   "metadata": {},
   "outputs": [
    {
     "data": {
      "text/plain": [
       "[1, 2, 4, 5, 6, 2, 3, 2, 5]"
      ]
     },
     "execution_count": 17,
     "metadata": {},
     "output_type": "execute_result"
    }
   ],
   "source": [
    "array+array2"
   ]
  },
  {
   "cell_type": "code",
   "execution_count": 22,
   "metadata": {},
   "outputs": [],
   "source": [
    "arr1 = np.array([1,2,3,4,5,6])"
   ]
  },
  {
   "cell_type": "raw",
   "metadata": {},
   "source": []
  },
  {
   "cell_type": "code",
   "execution_count": 23,
   "metadata": {},
   "outputs": [
    {
     "data": {
      "text/plain": [
       "array([1, 2, 3, 4, 5, 6])"
      ]
     },
     "execution_count": 23,
     "metadata": {},
     "output_type": "execute_result"
    }
   ],
   "source": [
    "arr1"
   ]
  },
  {
   "cell_type": "code",
   "execution_count": 25,
   "metadata": {},
   "outputs": [],
   "source": [
    "arr2 = np.array([[1,2,4],[1,4,5]])"
   ]
  },
  {
   "cell_type": "code",
   "execution_count": 26,
   "metadata": {},
   "outputs": [
    {
     "data": {
      "text/plain": [
       "array([[1, 2, 4],\n",
       "       [1, 4, 5]])"
      ]
     },
     "execution_count": 26,
     "metadata": {},
     "output_type": "execute_result"
    }
   ],
   "source": [
    "arr2"
   ]
  },
  {
   "cell_type": "code",
   "execution_count": 28,
   "metadata": {},
   "outputs": [
    {
     "data": {
      "text/plain": [
       "array([10, 20, 30, 40, 50, 60])"
      ]
     },
     "execution_count": 28,
     "metadata": {},
     "output_type": "execute_result"
    }
   ],
   "source": [
    "arr1*10"
   ]
  },
  {
   "cell_type": "code",
   "execution_count": 29,
   "metadata": {},
   "outputs": [
    {
     "data": {
      "text/plain": [
       "array([ 6.98,  0.19,  3.28,  6.87, 57.36, -7.82])"
      ]
     },
     "execution_count": 29,
     "metadata": {},
     "output_type": "execute_result"
    }
   ],
   "source": [
    "c+arr1"
   ]
  },
  {
   "cell_type": "code",
   "execution_count": 30,
   "metadata": {},
   "outputs": [
    {
     "data": {
      "text/plain": [
       "array([  4.98,  -3.81,  -2.72,  -1.13,  47.36, -19.82])"
      ]
     },
     "execution_count": 30,
     "metadata": {},
     "output_type": "execute_result"
    }
   ],
   "source": [
    "c-arr1"
   ]
  },
  {
   "cell_type": "code",
   "execution_count": 31,
   "metadata": {
    "scrolled": true
   },
   "outputs": [
    {
     "data": {
      "text/plain": [
       "array([  5.98,  -3.62,   0.83,  11.5 , 261.79, -82.89])"
      ]
     },
     "execution_count": 31,
     "metadata": {},
     "output_type": "execute_result"
    }
   ],
   "source": [
    "c*arr1"
   ]
  },
  {
   "cell_type": "code",
   "execution_count": 34,
   "metadata": {},
   "outputs": [],
   "source": [
    "import pandas as pd\n",
    "import matplotlib\n",
    "import matplotlib.pyplot as pp\n",
    "\n",
    "%matplotlib inline"
   ]
  },
  {
   "cell_type": "code",
   "execution_count": 35,
   "metadata": {},
   "outputs": [],
   "source": [
    "billboard = pd.read_csv('billboard.csv',encoding = \"ISO-8859-1\")"
   ]
  },
  {
   "cell_type": "code",
   "execution_count": 37,
   "metadata": {},
   "outputs": [
    {
     "data": {
      "text/html": [
       "<div>\n",
       "<style scoped>\n",
       "    .dataframe tbody tr th:only-of-type {\n",
       "        vertical-align: middle;\n",
       "    }\n",
       "\n",
       "    .dataframe tbody tr th {\n",
       "        vertical-align: top;\n",
       "    }\n",
       "\n",
       "    .dataframe thead th {\n",
       "        text-align: right;\n",
       "    }\n",
       "</style>\n",
       "<table border=\"1\" class=\"dataframe\">\n",
       "  <thead>\n",
       "    <tr style=\"text-align: right;\">\n",
       "      <th></th>\n",
       "      <th>year</th>\n",
       "      <th>artist</th>\n",
       "      <th>track</th>\n",
       "      <th>time</th>\n",
       "      <th>date.entered</th>\n",
       "      <th>wk1</th>\n",
       "      <th>wk2</th>\n",
       "      <th>wk3</th>\n",
       "      <th>wk4</th>\n",
       "      <th>wk5</th>\n",
       "      <th>...</th>\n",
       "      <th>wk67</th>\n",
       "      <th>wk68</th>\n",
       "      <th>wk69</th>\n",
       "      <th>wk70</th>\n",
       "      <th>wk71</th>\n",
       "      <th>wk72</th>\n",
       "      <th>wk73</th>\n",
       "      <th>wk74</th>\n",
       "      <th>wk75</th>\n",
       "      <th>wk76</th>\n",
       "    </tr>\n",
       "  </thead>\n",
       "  <tbody>\n",
       "    <tr>\n",
       "      <th>0</th>\n",
       "      <td>2000</td>\n",
       "      <td>2 Pac</td>\n",
       "      <td>Baby Don't Cry (Keep...</td>\n",
       "      <td>4:22</td>\n",
       "      <td>2000-02-26</td>\n",
       "      <td>87</td>\n",
       "      <td>82.0</td>\n",
       "      <td>72.0</td>\n",
       "      <td>77.0</td>\n",
       "      <td>87.0</td>\n",
       "      <td>...</td>\n",
       "      <td>NaN</td>\n",
       "      <td>NaN</td>\n",
       "      <td>NaN</td>\n",
       "      <td>NaN</td>\n",
       "      <td>NaN</td>\n",
       "      <td>NaN</td>\n",
       "      <td>NaN</td>\n",
       "      <td>NaN</td>\n",
       "      <td>NaN</td>\n",
       "      <td>NaN</td>\n",
       "    </tr>\n",
       "    <tr>\n",
       "      <th>1</th>\n",
       "      <td>2000</td>\n",
       "      <td>2Ge+her</td>\n",
       "      <td>The Hardest Part Of ...</td>\n",
       "      <td>3:15</td>\n",
       "      <td>2000-09-02</td>\n",
       "      <td>91</td>\n",
       "      <td>87.0</td>\n",
       "      <td>92.0</td>\n",
       "      <td>NaN</td>\n",
       "      <td>NaN</td>\n",
       "      <td>...</td>\n",
       "      <td>NaN</td>\n",
       "      <td>NaN</td>\n",
       "      <td>NaN</td>\n",
       "      <td>NaN</td>\n",
       "      <td>NaN</td>\n",
       "      <td>NaN</td>\n",
       "      <td>NaN</td>\n",
       "      <td>NaN</td>\n",
       "      <td>NaN</td>\n",
       "      <td>NaN</td>\n",
       "    </tr>\n",
       "    <tr>\n",
       "      <th>2</th>\n",
       "      <td>2000</td>\n",
       "      <td>3 Doors Down</td>\n",
       "      <td>Kryptonite</td>\n",
       "      <td>3:53</td>\n",
       "      <td>2000-04-08</td>\n",
       "      <td>81</td>\n",
       "      <td>70.0</td>\n",
       "      <td>68.0</td>\n",
       "      <td>67.0</td>\n",
       "      <td>66.0</td>\n",
       "      <td>...</td>\n",
       "      <td>NaN</td>\n",
       "      <td>NaN</td>\n",
       "      <td>NaN</td>\n",
       "      <td>NaN</td>\n",
       "      <td>NaN</td>\n",
       "      <td>NaN</td>\n",
       "      <td>NaN</td>\n",
       "      <td>NaN</td>\n",
       "      <td>NaN</td>\n",
       "      <td>NaN</td>\n",
       "    </tr>\n",
       "    <tr>\n",
       "      <th>3</th>\n",
       "      <td>2000</td>\n",
       "      <td>3 Doors Down</td>\n",
       "      <td>Loser</td>\n",
       "      <td>4:24</td>\n",
       "      <td>2000-10-21</td>\n",
       "      <td>76</td>\n",
       "      <td>76.0</td>\n",
       "      <td>72.0</td>\n",
       "      <td>69.0</td>\n",
       "      <td>67.0</td>\n",
       "      <td>...</td>\n",
       "      <td>NaN</td>\n",
       "      <td>NaN</td>\n",
       "      <td>NaN</td>\n",
       "      <td>NaN</td>\n",
       "      <td>NaN</td>\n",
       "      <td>NaN</td>\n",
       "      <td>NaN</td>\n",
       "      <td>NaN</td>\n",
       "      <td>NaN</td>\n",
       "      <td>NaN</td>\n",
       "    </tr>\n",
       "    <tr>\n",
       "      <th>4</th>\n",
       "      <td>2000</td>\n",
       "      <td>504 Boyz</td>\n",
       "      <td>Wobble Wobble</td>\n",
       "      <td>3:35</td>\n",
       "      <td>2000-04-15</td>\n",
       "      <td>57</td>\n",
       "      <td>34.0</td>\n",
       "      <td>25.0</td>\n",
       "      <td>17.0</td>\n",
       "      <td>17.0</td>\n",
       "      <td>...</td>\n",
       "      <td>NaN</td>\n",
       "      <td>NaN</td>\n",
       "      <td>NaN</td>\n",
       "      <td>NaN</td>\n",
       "      <td>NaN</td>\n",
       "      <td>NaN</td>\n",
       "      <td>NaN</td>\n",
       "      <td>NaN</td>\n",
       "      <td>NaN</td>\n",
       "      <td>NaN</td>\n",
       "    </tr>\n",
       "  </tbody>\n",
       "</table>\n",
       "<p>5 rows × 81 columns</p>\n",
       "</div>"
      ],
      "text/plain": [
       "   year        artist                    track  time date.entered  wk1   wk2  \\\n",
       "0  2000         2 Pac  Baby Don't Cry (Keep...  4:22   2000-02-26   87  82.0   \n",
       "1  2000       2Ge+her  The Hardest Part Of ...  3:15   2000-09-02   91  87.0   \n",
       "2  2000  3 Doors Down               Kryptonite  3:53   2000-04-08   81  70.0   \n",
       "3  2000  3 Doors Down                    Loser  4:24   2000-10-21   76  76.0   \n",
       "4  2000      504 Boyz            Wobble Wobble  3:35   2000-04-15   57  34.0   \n",
       "\n",
       "    wk3   wk4   wk5  ...   wk67  wk68  wk69  wk70  wk71  wk72  wk73  wk74  \\\n",
       "0  72.0  77.0  87.0  ...    NaN   NaN   NaN   NaN   NaN   NaN   NaN   NaN   \n",
       "1  92.0   NaN   NaN  ...    NaN   NaN   NaN   NaN   NaN   NaN   NaN   NaN   \n",
       "2  68.0  67.0  66.0  ...    NaN   NaN   NaN   NaN   NaN   NaN   NaN   NaN   \n",
       "3  72.0  69.0  67.0  ...    NaN   NaN   NaN   NaN   NaN   NaN   NaN   NaN   \n",
       "4  25.0  17.0  17.0  ...    NaN   NaN   NaN   NaN   NaN   NaN   NaN   NaN   \n",
       "\n",
       "   wk75  wk76  \n",
       "0   NaN   NaN  \n",
       "1   NaN   NaN  \n",
       "2   NaN   NaN  \n",
       "3   NaN   NaN  \n",
       "4   NaN   NaN  \n",
       "\n",
       "[5 rows x 81 columns]"
      ]
     },
     "execution_count": 37,
     "metadata": {},
     "output_type": "execute_result"
    }
   ],
   "source": [
    "billboard.head()"
   ]
  },
  {
   "cell_type": "code",
   "execution_count": 39,
   "metadata": {},
   "outputs": [
    {
     "data": {
      "text/plain": [
       "Index([u'year', u'artist', u'track', u'time', u'date.entered', u'wk1', u'wk2',\n",
       "       u'wk3', u'wk4', u'wk5', u'wk6', u'wk7', u'wk8', u'wk9', u'wk10',\n",
       "       u'wk11', u'wk12', u'wk13', u'wk14', u'wk15', u'wk16', u'wk17', u'wk18',\n",
       "       u'wk19', u'wk20', u'wk21', u'wk22', u'wk23', u'wk24', u'wk25', u'wk26',\n",
       "       u'wk27', u'wk28', u'wk29', u'wk30', u'wk31', u'wk32', u'wk33', u'wk34',\n",
       "       u'wk35', u'wk36', u'wk37', u'wk38', u'wk39', u'wk40', u'wk41', u'wk42',\n",
       "       u'wk43', u'wk44', u'wk45', u'wk46', u'wk47', u'wk48', u'wk49', u'wk50',\n",
       "       u'wk51', u'wk52', u'wk53', u'wk54', u'wk55', u'wk56', u'wk57', u'wk58',\n",
       "       u'wk59', u'wk60', u'wk61', u'wk62', u'wk63', u'wk64', u'wk65', u'wk66',\n",
       "       u'wk67', u'wk68', u'wk69', u'wk70', u'wk71', u'wk72', u'wk73', u'wk74',\n",
       "       u'wk75', u'wk76'],\n",
       "      dtype='object')"
      ]
     },
     "execution_count": 39,
     "metadata": {},
     "output_type": "execute_result"
    }
   ],
   "source": [
    "billboard.columns"
   ]
  },
  {
   "cell_type": "code",
   "execution_count": 40,
   "metadata": {},
   "outputs": [
    {
     "data": {
      "text/plain": [
       "[<matplotlib.lines.Line2D at 0x7fc78932ed50>]"
      ]
     },
     "execution_count": 40,
     "metadata": {},
     "output_type": "execute_result"
    },
    {
     "data": {
      "image/png": "[encoded data removed]",
      "text/plain": [
       "<Figure size 432x288 with 1 Axes>"
      ]
     },
     "metadata": {},
     "output_type": "display_data"
    }
   ],
   "source": [
    "pp.plot(billboard.loc[0,'wk1':'wk76'])"
   ]
  },
  {
   "cell_type": "code",
   "execution_count": 41,
   "metadata": {},
   "outputs": [
    {
     "data": {
      "text/plain": [
       "[<matplotlib.lines.Line2D at 0x7fc787159610>]"
      ]
     },
     "execution_count": 41,
     "metadata": {},
     "output_type": "execute_result"
    },
    {
     "data": {
      "image/png": "[encoded data removed]",
      "text/plain": [
       "<Figure size 432x288 with 1 Axes>"
      ]
     },
     "metadata": {},
     "output_type": "display_data"
    }
   ],
   "source": [
    "pp.plot(range(1,77),billboard.loc[0,'wk1':'wk76'])"
   ]
  },
  {
   "cell_type": "code",
   "execution_count": 42,
   "metadata": {},
   "outputs": [
    {
     "data": {
      "image/png": "[encoded data removed]",
      "text/plain": [
       "<Figure size 432x288 with 1 Axes>"
      ]
     },
     "metadata": {},
     "output_type": "display_data"
    }
   ],
   "source": [
    "for index, row in billboard.iterrows():\n",
    "    pp.plot(range(1,77),row['wk1':'wk76'],color='C0',alpha = 0.1)"
   ]
  },
  {
   "cell_type": "code",
   "execution_count": 44,
   "metadata": {},
   "outputs": [],
   "source": [
    "bsort = billboard[['artist','track','time','date.entered','wk1','wk2','wk3']]"
   ]
  },
  {
   "cell_type": "code",
   "execution_count": 46,
   "metadata": {},
   "outputs": [
    {
     "data": {
      "text/html": [
       "<div>\n",
       "<style scoped>\n",
       "    .dataframe tbody tr th:only-of-type {\n",
       "        vertical-align: middle;\n",
       "    }\n",
       "\n",
       "    .dataframe tbody tr th {\n",
       "        vertical-align: top;\n",
       "    }\n",
       "\n",
       "    .dataframe thead th {\n",
       "        text-align: right;\n",
       "    }\n",
       "</style>\n",
       "<table border=\"1\" class=\"dataframe\">\n",
       "  <thead>\n",
       "    <tr style=\"text-align: right;\">\n",
       "      <th></th>\n",
       "      <th>artist</th>\n",
       "      <th>track</th>\n",
       "      <th>time</th>\n",
       "      <th>date.entered</th>\n",
       "      <th>wk1</th>\n",
       "      <th>wk2</th>\n",
       "      <th>wk3</th>\n",
       "    </tr>\n",
       "  </thead>\n",
       "  <tbody>\n",
       "    <tr>\n",
       "      <th>0</th>\n",
       "      <td>2 Pac</td>\n",
       "      <td>Baby Don't Cry (Keep...</td>\n",
       "      <td>4:22</td>\n",
       "      <td>2000-02-26</td>\n",
       "      <td>87</td>\n",
       "      <td>82.0</td>\n",
       "      <td>72.0</td>\n",
       "    </tr>\n",
       "    <tr>\n",
       "      <th>1</th>\n",
       "      <td>2Ge+her</td>\n",
       "      <td>The Hardest Part Of ...</td>\n",
       "      <td>3:15</td>\n",
       "      <td>2000-09-02</td>\n",
       "      <td>91</td>\n",
       "      <td>87.0</td>\n",
       "      <td>92.0</td>\n",
       "    </tr>\n",
       "    <tr>\n",
       "      <th>2</th>\n",
       "      <td>3 Doors Down</td>\n",
       "      <td>Kryptonite</td>\n",
       "      <td>3:53</td>\n",
       "      <td>2000-04-08</td>\n",
       "      <td>81</td>\n",
       "      <td>70.0</td>\n",
       "      <td>68.0</td>\n",
       "    </tr>\n",
       "    <tr>\n",
       "      <th>3</th>\n",
       "      <td>3 Doors Down</td>\n",
       "      <td>Loser</td>\n",
       "      <td>4:24</td>\n",
       "      <td>2000-10-21</td>\n",
       "      <td>76</td>\n",
       "      <td>76.0</td>\n",
       "      <td>72.0</td>\n",
       "    </tr>\n",
       "    <tr>\n",
       "      <th>4</th>\n",
       "      <td>504 Boyz</td>\n",
       "      <td>Wobble Wobble</td>\n",
       "      <td>3:35</td>\n",
       "      <td>2000-04-15</td>\n",
       "      <td>57</td>\n",
       "      <td>34.0</td>\n",
       "      <td>25.0</td>\n",
       "    </tr>\n",
       "  </tbody>\n",
       "</table>\n",
       "</div>"
      ],
      "text/plain": [
       "         artist                    track  time date.entered  wk1   wk2   wk3\n",
       "0         2 Pac  Baby Don't Cry (Keep...  4:22   2000-02-26   87  82.0  72.0\n",
       "1       2Ge+her  The Hardest Part Of ...  3:15   2000-09-02   91  87.0  92.0\n",
       "2  3 Doors Down               Kryptonite  3:53   2000-04-08   81  70.0  68.0\n",
       "3  3 Doors Down                    Loser  4:24   2000-10-21   76  76.0  72.0\n",
       "4      504 Boyz            Wobble Wobble  3:35   2000-04-15   57  34.0  25.0"
      ]
     },
     "execution_count": 46,
     "metadata": {},
     "output_type": "execute_result"
    }
   ],
   "source": [
    "bsort.head()"
   ]
  },
  {
   "cell_type": "code",
   "execution_count": 47,
   "metadata": {},
   "outputs": [
    {
     "data": {
      "text/html": [
       "<div>\n",
       "<style scoped>\n",
       "    .dataframe tbody tr th:only-of-type {\n",
       "        vertical-align: middle;\n",
       "    }\n",
       "\n",
       "    .dataframe tbody tr th {\n",
       "        vertical-align: top;\n",
       "    }\n",
       "\n",
       "    .dataframe thead th {\n",
       "        text-align: right;\n",
       "    }\n",
       "</style>\n",
       "<table border=\"1\" class=\"dataframe\">\n",
       "  <thead>\n",
       "    <tr style=\"text-align: right;\">\n",
       "      <th></th>\n",
       "      <th>artist</th>\n",
       "      <th>track</th>\n",
       "      <th>time</th>\n",
       "      <th>date.entered</th>\n",
       "      <th>week</th>\n",
       "      <th>rank</th>\n",
       "    </tr>\n",
       "  </thead>\n",
       "  <tbody>\n",
       "    <tr>\n",
       "      <th>0</th>\n",
       "      <td>2 Pac</td>\n",
       "      <td>Baby Don't Cry (Keep...</td>\n",
       "      <td>4:22</td>\n",
       "      <td>2000-02-26</td>\n",
       "      <td>wk1</td>\n",
       "      <td>87.0</td>\n",
       "    </tr>\n",
       "    <tr>\n",
       "      <th>1</th>\n",
       "      <td>2Ge+her</td>\n",
       "      <td>The Hardest Part Of ...</td>\n",
       "      <td>3:15</td>\n",
       "      <td>2000-09-02</td>\n",
       "      <td>wk1</td>\n",
       "      <td>91.0</td>\n",
       "    </tr>\n",
       "    <tr>\n",
       "      <th>2</th>\n",
       "      <td>3 Doors Down</td>\n",
       "      <td>Kryptonite</td>\n",
       "      <td>3:53</td>\n",
       "      <td>2000-04-08</td>\n",
       "      <td>wk1</td>\n",
       "      <td>81.0</td>\n",
       "    </tr>\n",
       "    <tr>\n",
       "      <th>3</th>\n",
       "      <td>3 Doors Down</td>\n",
       "      <td>Loser</td>\n",
       "      <td>4:24</td>\n",
       "      <td>2000-10-21</td>\n",
       "      <td>wk1</td>\n",
       "      <td>76.0</td>\n",
       "    </tr>\n",
       "    <tr>\n",
       "      <th>4</th>\n",
       "      <td>504 Boyz</td>\n",
       "      <td>Wobble Wobble</td>\n",
       "      <td>3:35</td>\n",
       "      <td>2000-04-15</td>\n",
       "      <td>wk1</td>\n",
       "      <td>57.0</td>\n",
       "    </tr>\n",
       "  </tbody>\n",
       "</table>\n",
       "</div>"
      ],
      "text/plain": [
       "         artist                    track  time date.entered week  rank\n",
       "0         2 Pac  Baby Don't Cry (Keep...  4:22   2000-02-26  wk1  87.0\n",
       "1       2Ge+her  The Hardest Part Of ...  3:15   2000-09-02  wk1  91.0\n",
       "2  3 Doors Down               Kryptonite  3:53   2000-04-08  wk1  81.0\n",
       "3  3 Doors Down                    Loser  4:24   2000-10-21  wk1  76.0\n",
       "4      504 Boyz            Wobble Wobble  3:35   2000-04-15  wk1  57.0"
      ]
     },
     "execution_count": 47,
     "metadata": {},
     "output_type": "execute_result"
    }
   ],
   "source": [
    "belt = bsort.melt(['artist','track','time','date.entered'],['wk1','wk2','wk3'],'week','rank')\n",
    "belt.head()"
   ]
  },
  {
   "cell_type": "code",
   "execution_count": 49,
   "metadata": {},
   "outputs": [
    {
     "data": {
      "text/html": [
       "<div>\n",
       "<style scoped>\n",
       "    .dataframe tbody tr th:only-of-type {\n",
       "        vertical-align: middle;\n",
       "    }\n",
       "\n",
       "    .dataframe tbody tr th {\n",
       "        vertical-align: top;\n",
       "    }\n",
       "\n",
       "    .dataframe thead th {\n",
       "        text-align: right;\n",
       "    }\n",
       "</style>\n",
       "<table border=\"1\" class=\"dataframe\">\n",
       "  <thead>\n",
       "    <tr style=\"text-align: right;\">\n",
       "      <th></th>\n",
       "      <th>artist</th>\n",
       "      <th>track</th>\n",
       "      <th>time</th>\n",
       "      <th>date.entered</th>\n",
       "      <th>week</th>\n",
       "      <th>rank</th>\n",
       "    </tr>\n",
       "  </thead>\n",
       "  <tbody>\n",
       "    <tr>\n",
       "      <th>238</th>\n",
       "      <td>Profyle</td>\n",
       "      <td>Liar</td>\n",
       "      <td>3:57</td>\n",
       "      <td>2000-09-16</td>\n",
       "      <td>wk1</td>\n",
       "      <td>52.0</td>\n",
       "    </tr>\n",
       "    <tr>\n",
       "      <th>555</th>\n",
       "      <td>Profyle</td>\n",
       "      <td>Liar</td>\n",
       "      <td>3:57</td>\n",
       "      <td>2000-09-16</td>\n",
       "      <td>wk2</td>\n",
       "      <td>32.0</td>\n",
       "    </tr>\n",
       "    <tr>\n",
       "      <th>872</th>\n",
       "      <td>Profyle</td>\n",
       "      <td>Liar</td>\n",
       "      <td>3:57</td>\n",
       "      <td>2000-09-16</td>\n",
       "      <td>wk3</td>\n",
       "      <td>25.0</td>\n",
       "    </tr>\n",
       "  </tbody>\n",
       "</table>\n",
       "</div>"
      ],
      "text/plain": [
       "      artist track  time date.entered week  rank\n",
       "238  Profyle  Liar  3:57   2000-09-16  wk1  52.0\n",
       "555  Profyle  Liar  3:57   2000-09-16  wk2  32.0\n",
       "872  Profyle  Liar  3:57   2000-09-16  wk3  25.0"
      ]
     },
     "execution_count": 49,
     "metadata": {},
     "output_type": "execute_result"
    }
   ],
   "source": [
    "belt.query('track == \"Liar\"')"
   ]
  },
  {
   "cell_type": "code",
   "execution_count": 51,
   "metadata": {},
   "outputs": [],
   "source": [
    "belt['week'] = belt['week'].apply(lambda s:int(s[2]))"
   ]
  },
  {
   "cell_type": "code",
   "execution_count": 52,
   "metadata": {},
   "outputs": [
    {
     "data": {
      "text/html": [
       "<div>\n",
       "<style scoped>\n",
       "    .dataframe tbody tr th:only-of-type {\n",
       "        vertical-align: middle;\n",
       "    }\n",
       "\n",
       "    .dataframe tbody tr th {\n",
       "        vertical-align: top;\n",
       "    }\n",
       "\n",
       "    .dataframe thead th {\n",
       "        text-align: right;\n",
       "    }\n",
       "</style>\n",
       "<table border=\"1\" class=\"dataframe\">\n",
       "  <thead>\n",
       "    <tr style=\"text-align: right;\">\n",
       "      <th></th>\n",
       "      <th>artist</th>\n",
       "      <th>track</th>\n",
       "      <th>time</th>\n",
       "      <th>date.entered</th>\n",
       "      <th>week</th>\n",
       "      <th>rank</th>\n",
       "    </tr>\n",
       "  </thead>\n",
       "  <tbody>\n",
       "    <tr>\n",
       "      <th>0</th>\n",
       "      <td>2 Pac</td>\n",
       "      <td>Baby Don't Cry (Keep...</td>\n",
       "      <td>4:22</td>\n",
       "      <td>2000-02-26</td>\n",
       "      <td>1</td>\n",
       "      <td>87.0</td>\n",
       "    </tr>\n",
       "    <tr>\n",
       "      <th>1</th>\n",
       "      <td>2Ge+her</td>\n",
       "      <td>The Hardest Part Of ...</td>\n",
       "      <td>3:15</td>\n",
       "      <td>2000-09-02</td>\n",
       "      <td>1</td>\n",
       "      <td>91.0</td>\n",
       "    </tr>\n",
       "    <tr>\n",
       "      <th>2</th>\n",
       "      <td>3 Doors Down</td>\n",
       "      <td>Kryptonite</td>\n",
       "      <td>3:53</td>\n",
       "      <td>2000-04-08</td>\n",
       "      <td>1</td>\n",
       "      <td>81.0</td>\n",
       "    </tr>\n",
       "    <tr>\n",
       "      <th>3</th>\n",
       "      <td>3 Doors Down</td>\n",
       "      <td>Loser</td>\n",
       "      <td>4:24</td>\n",
       "      <td>2000-10-21</td>\n",
       "      <td>1</td>\n",
       "      <td>76.0</td>\n",
       "    </tr>\n",
       "    <tr>\n",
       "      <th>4</th>\n",
       "      <td>504 Boyz</td>\n",
       "      <td>Wobble Wobble</td>\n",
       "      <td>3:35</td>\n",
       "      <td>2000-04-15</td>\n",
       "      <td>1</td>\n",
       "      <td>57.0</td>\n",
       "    </tr>\n",
       "  </tbody>\n",
       "</table>\n",
       "</div>"
      ],
      "text/plain": [
       "         artist                    track  time date.entered  week  rank\n",
       "0         2 Pac  Baby Don't Cry (Keep...  4:22   2000-02-26     1  87.0\n",
       "1       2Ge+her  The Hardest Part Of ...  3:15   2000-09-02     1  91.0\n",
       "2  3 Doors Down               Kryptonite  3:53   2000-04-08     1  81.0\n",
       "3  3 Doors Down                    Loser  4:24   2000-10-21     1  76.0\n",
       "4      504 Boyz            Wobble Wobble  3:35   2000-04-15     1  57.0"
      ]
     },
     "execution_count": 52,
     "metadata": {},
     "output_type": "execute_result"
    }
   ],
   "source": [
    "belt.head()"
   ]
  },
  {
   "cell_type": "code",
   "execution_count": 53,
   "metadata": {},
   "outputs": [],
   "source": [
    "belt['date.entered'] = pd.to_datetime(belt['date.entered'])"
   ]
  },
  {
   "cell_type": "code",
   "execution_count": 54,
   "metadata": {},
   "outputs": [
    {
     "data": {
      "text/html": [
       "<div>\n",
       "<style scoped>\n",
       "    .dataframe tbody tr th:only-of-type {\n",
       "        vertical-align: middle;\n",
       "    }\n",
       "\n",
       "    .dataframe tbody tr th {\n",
       "        vertical-align: top;\n",
       "    }\n",
       "\n",
       "    .dataframe thead th {\n",
       "        text-align: right;\n",
       "    }\n",
       "</style>\n",
       "<table border=\"1\" class=\"dataframe\">\n",
       "  <thead>\n",
       "    <tr style=\"text-align: right;\">\n",
       "      <th></th>\n",
       "      <th>artist</th>\n",
       "      <th>track</th>\n",
       "      <th>time</th>\n",
       "      <th>date.entered</th>\n",
       "      <th>week</th>\n",
       "      <th>rank</th>\n",
       "    </tr>\n",
       "  </thead>\n",
       "  <tbody>\n",
       "    <tr>\n",
       "      <th>0</th>\n",
       "      <td>2 Pac</td>\n",
       "      <td>Baby Don't Cry (Keep...</td>\n",
       "      <td>4:22</td>\n",
       "      <td>2000-02-26</td>\n",
       "      <td>1</td>\n",
       "      <td>87.0</td>\n",
       "    </tr>\n",
       "    <tr>\n",
       "      <th>1</th>\n",
       "      <td>2Ge+her</td>\n",
       "      <td>The Hardest Part Of ...</td>\n",
       "      <td>3:15</td>\n",
       "      <td>2000-09-02</td>\n",
       "      <td>1</td>\n",
       "      <td>91.0</td>\n",
       "    </tr>\n",
       "    <tr>\n",
       "      <th>2</th>\n",
       "      <td>3 Doors Down</td>\n",
       "      <td>Kryptonite</td>\n",
       "      <td>3:53</td>\n",
       "      <td>2000-04-08</td>\n",
       "      <td>1</td>\n",
       "      <td>81.0</td>\n",
       "    </tr>\n",
       "    <tr>\n",
       "      <th>3</th>\n",
       "      <td>3 Doors Down</td>\n",
       "      <td>Loser</td>\n",
       "      <td>4:24</td>\n",
       "      <td>2000-10-21</td>\n",
       "      <td>1</td>\n",
       "      <td>76.0</td>\n",
       "    </tr>\n",
       "    <tr>\n",
       "      <th>4</th>\n",
       "      <td>504 Boyz</td>\n",
       "      <td>Wobble Wobble</td>\n",
       "      <td>3:35</td>\n",
       "      <td>2000-04-15</td>\n",
       "      <td>1</td>\n",
       "      <td>57.0</td>\n",
       "    </tr>\n",
       "  </tbody>\n",
       "</table>\n",
       "</div>"
      ],
      "text/plain": [
       "         artist                    track  time date.entered  week  rank\n",
       "0         2 Pac  Baby Don't Cry (Keep...  4:22   2000-02-26     1  87.0\n",
       "1       2Ge+her  The Hardest Part Of ...  3:15   2000-09-02     1  91.0\n",
       "2  3 Doors Down               Kryptonite  3:53   2000-04-08     1  81.0\n",
       "3  3 Doors Down                    Loser  4:24   2000-10-21     1  76.0\n",
       "4      504 Boyz            Wobble Wobble  3:35   2000-04-15     1  57.0"
      ]
     },
     "execution_count": 54,
     "metadata": {},
     "output_type": "execute_result"
    }
   ],
   "source": [
    "belt.head()"
   ]
  },
  {
   "cell_type": "code",
   "execution_count": 56,
   "metadata": {},
   "outputs": [
    {
     "data": {
      "text/plain": [
       "Timestamp('2000-03-04 00:00:00')"
      ]
     },
     "execution_count": 56,
     "metadata": {},
     "output_type": "execute_result"
    }
   ],
   "source": [
    "belt['date.entered'][0] + pd.Timedelta('7 days')"
   ]
  },
  {
   "cell_type": "code",
   "execution_count": 57,
   "metadata": {},
   "outputs": [],
   "source": [
    "belt['date'] = belt['date.entered'] + pd.Timedelta('7 days') * (belt['week'] - 1)"
   ]
  },
  {
   "cell_type": "code",
   "execution_count": 58,
   "metadata": {},
   "outputs": [
    {
     "data": {
      "text/plain": [
       "0     2000-02-26\n",
       "1     2000-09-02\n",
       "2     2000-04-08\n",
       "3     2000-10-21\n",
       "4     2000-04-15\n",
       "5     2000-08-19\n",
       "6     2000-07-08\n",
       "7     2000-01-29\n",
       "8     2000-03-18\n",
       "9     2000-08-26\n",
       "10    2000-04-29\n",
       "11    2000-08-05\n",
       "12    2000-04-15\n",
       "13    1999-11-27\n",
       "14    2000-04-08\n",
       "15    2000-01-22\n",
       "16    1999-07-17\n",
       "17    2000-04-01\n",
       "18    2000-09-16\n",
       "19    2000-02-26\n",
       "20    2000-11-04\n",
       "21    2000-04-29\n",
       "22    2000-04-29\n",
       "23    2000-10-14\n",
       "24    2000-01-01\n",
       "25    2000-05-27\n",
       "26    2000-08-19\n",
       "27    2000-07-22\n",
       "28    2000-09-09\n",
       "29    2000-10-21\n",
       "         ...    \n",
       "921   2000-12-09\n",
       "922   2000-04-08\n",
       "923   2000-10-07\n",
       "924   2000-09-09\n",
       "925   1999-10-23\n",
       "926   2000-06-03\n",
       "927   2000-09-23\n",
       "928   2000-09-02\n",
       "929   2001-01-13\n",
       "930   2000-07-29\n",
       "931   2000-11-18\n",
       "932   2000-03-18\n",
       "933   2000-10-14\n",
       "934   2000-02-05\n",
       "935   2000-09-09\n",
       "936   2000-04-29\n",
       "937   2000-12-16\n",
       "938   1999-12-18\n",
       "939   2000-04-29\n",
       "940   2000-11-11\n",
       "941   2000-04-15\n",
       "942   1999-12-04\n",
       "943   2000-01-29\n",
       "944   2000-07-01\n",
       "945   2000-03-18\n",
       "946   2000-05-13\n",
       "947   2000-04-15\n",
       "948   2000-04-01\n",
       "949   2000-09-16\n",
       "950   2000-05-13\n",
       "Name: date, Length: 951, dtype: datetime64[ns]"
      ]
     },
     "execution_count": 58,
     "metadata": {},
     "output_type": "execute_result"
    }
   ],
   "source": [
    "belt['date']"
   ]
  },
  {
   "cell_type": "code",
   "execution_count": 59,
   "metadata": {},
   "outputs": [
    {
     "data": {
      "text/html": [
       "<div>\n",
       "<style scoped>\n",
       "    .dataframe tbody tr th:only-of-type {\n",
       "        vertical-align: middle;\n",
       "    }\n",
       "\n",
       "    .dataframe tbody tr th {\n",
       "        vertical-align: top;\n",
       "    }\n",
       "\n",
       "    .dataframe thead th {\n",
       "        text-align: right;\n",
       "    }\n",
       "</style>\n",
       "<table border=\"1\" class=\"dataframe\">\n",
       "  <thead>\n",
       "    <tr style=\"text-align: right;\">\n",
       "      <th></th>\n",
       "      <th>artist</th>\n",
       "      <th>track</th>\n",
       "      <th>time</th>\n",
       "      <th>date.entered</th>\n",
       "      <th>week</th>\n",
       "      <th>rank</th>\n",
       "      <th>date</th>\n",
       "    </tr>\n",
       "  </thead>\n",
       "  <tbody>\n",
       "    <tr>\n",
       "      <th>0</th>\n",
       "      <td>2 Pac</td>\n",
       "      <td>Baby Don't Cry (Keep...</td>\n",
       "      <td>4:22</td>\n",
       "      <td>2000-02-26</td>\n",
       "      <td>1</td>\n",
       "      <td>87.0</td>\n",
       "      <td>2000-02-26</td>\n",
       "    </tr>\n",
       "    <tr>\n",
       "      <th>1</th>\n",
       "      <td>2Ge+her</td>\n",
       "      <td>The Hardest Part Of ...</td>\n",
       "      <td>3:15</td>\n",
       "      <td>2000-09-02</td>\n",
       "      <td>1</td>\n",
       "      <td>91.0</td>\n",
       "      <td>2000-09-02</td>\n",
       "    </tr>\n",
       "    <tr>\n",
       "      <th>2</th>\n",
       "      <td>3 Doors Down</td>\n",
       "      <td>Kryptonite</td>\n",
       "      <td>3:53</td>\n",
       "      <td>2000-04-08</td>\n",
       "      <td>1</td>\n",
       "      <td>81.0</td>\n",
       "      <td>2000-04-08</td>\n",
       "    </tr>\n",
       "    <tr>\n",
       "      <th>3</th>\n",
       "      <td>3 Doors Down</td>\n",
       "      <td>Loser</td>\n",
       "      <td>4:24</td>\n",
       "      <td>2000-10-21</td>\n",
       "      <td>1</td>\n",
       "      <td>76.0</td>\n",
       "      <td>2000-10-21</td>\n",
       "    </tr>\n",
       "    <tr>\n",
       "      <th>4</th>\n",
       "      <td>504 Boyz</td>\n",
       "      <td>Wobble Wobble</td>\n",
       "      <td>3:35</td>\n",
       "      <td>2000-04-15</td>\n",
       "      <td>1</td>\n",
       "      <td>57.0</td>\n",
       "      <td>2000-04-15</td>\n",
       "    </tr>\n",
       "  </tbody>\n",
       "</table>\n",
       "</div>"
      ],
      "text/plain": [
       "         artist                    track  time date.entered  week  rank  \\\n",
       "0         2 Pac  Baby Don't Cry (Keep...  4:22   2000-02-26     1  87.0   \n",
       "1       2Ge+her  The Hardest Part Of ...  3:15   2000-09-02     1  91.0   \n",
       "2  3 Doors Down               Kryptonite  3:53   2000-04-08     1  81.0   \n",
       "3  3 Doors Down                    Loser  4:24   2000-10-21     1  76.0   \n",
       "4      504 Boyz            Wobble Wobble  3:35   2000-04-15     1  57.0   \n",
       "\n",
       "        date  \n",
       "0 2000-02-26  \n",
       "1 2000-09-02  \n",
       "2 2000-04-08  \n",
       "3 2000-10-21  \n",
       "4 2000-04-15  "
      ]
     },
     "execution_count": 59,
     "metadata": {},
     "output_type": "execute_result"
    }
   ],
   "source": [
    "belt.head()"
   ]
  },
  {
   "cell_type": "code",
   "execution_count": 2,
   "metadata": {},
   "outputs": [],
   "source": [
    "import numpy as np\n",
    "import pandas as pd\n",
    "\n",
    "from pandas import Series, DataFrame"
   ]
  },
  {
   "cell_type": "code",
   "execution_count": 3,
   "metadata": {},
   "outputs": [
    {
     "data": {
      "text/html": [
       "<div>\n",
       "<style scoped>\n",
       "    .dataframe tbody tr th:only-of-type {\n",
       "        vertical-align: middle;\n",
       "    }\n",
       "\n",
       "    .dataframe tbody tr th {\n",
       "        vertical-align: top;\n",
       "    }\n",
       "\n",
       "    .dataframe thead th {\n",
       "        text-align: right;\n",
       "    }\n",
       "</style>\n",
       "<table border=\"1\" class=\"dataframe\">\n",
       "  <thead>\n",
       "    <tr style=\"text-align: right;\">\n",
       "      <th></th>\n",
       "      <th>0</th>\n",
       "      <th>1</th>\n",
       "      <th>2</th>\n",
       "      <th>3</th>\n",
       "      <th>4</th>\n",
       "      <th>5</th>\n",
       "    </tr>\n",
       "  </thead>\n",
       "  <tbody>\n",
       "    <tr>\n",
       "      <th>0</th>\n",
       "      <td>0</td>\n",
       "      <td>1</td>\n",
       "      <td>2</td>\n",
       "      <td>3</td>\n",
       "      <td>4</td>\n",
       "      <td>5</td>\n",
       "    </tr>\n",
       "    <tr>\n",
       "      <th>1</th>\n",
       "      <td>6</td>\n",
       "      <td>7</td>\n",
       "      <td>8</td>\n",
       "      <td>9</td>\n",
       "      <td>10</td>\n",
       "      <td>11</td>\n",
       "    </tr>\n",
       "    <tr>\n",
       "      <th>2</th>\n",
       "      <td>12</td>\n",
       "      <td>13</td>\n",
       "      <td>14</td>\n",
       "      <td>15</td>\n",
       "      <td>16</td>\n",
       "      <td>17</td>\n",
       "    </tr>\n",
       "    <tr>\n",
       "      <th>3</th>\n",
       "      <td>18</td>\n",
       "      <td>19</td>\n",
       "      <td>20</td>\n",
       "      <td>21</td>\n",
       "      <td>22</td>\n",
       "      <td>23</td>\n",
       "    </tr>\n",
       "    <tr>\n",
       "      <th>4</th>\n",
       "      <td>24</td>\n",
       "      <td>25</td>\n",
       "      <td>26</td>\n",
       "      <td>27</td>\n",
       "      <td>28</td>\n",
       "      <td>29</td>\n",
       "    </tr>\n",
       "    <tr>\n",
       "      <th>5</th>\n",
       "      <td>30</td>\n",
       "      <td>31</td>\n",
       "      <td>32</td>\n",
       "      <td>33</td>\n",
       "      <td>34</td>\n",
       "      <td>35</td>\n",
       "    </tr>\n",
       "  </tbody>\n",
       "</table>\n",
       "</div>"
      ],
      "text/plain": [
       "    0   1   2   3   4   5\n",
       "0   0   1   2   3   4   5\n",
       "1   6   7   8   9  10  11\n",
       "2  12  13  14  15  16  17\n",
       "3  18  19  20  21  22  23\n",
       "4  24  25  26  27  28  29\n",
       "5  30  31  32  33  34  35"
      ]
     },
     "execution_count": 3,
     "metadata": {},
     "output_type": "execute_result"
    }
   ],
   "source": [
    "DF_obj = pd.DataFrame(np.arange(36).reshape(6,6))\n",
    "DF_obj"
   ]
  },
  {
   "cell_type": "code",
   "execution_count": 4,
   "metadata": {},
   "outputs": [
    {
     "data": {
      "text/html": [
       "<div>\n",
       "<style scoped>\n",
       "    .dataframe tbody tr th:only-of-type {\n",
       "        vertical-align: middle;\n",
       "    }\n",
       "\n",
       "    .dataframe tbody tr th {\n",
       "        vertical-align: top;\n",
       "    }\n",
       "\n",
       "    .dataframe thead th {\n",
       "        text-align: right;\n",
       "    }\n",
       "</style>\n",
       "<table border=\"1\" class=\"dataframe\">\n",
       "  <thead>\n",
       "    <tr style=\"text-align: right;\">\n",
       "      <th></th>\n",
       "      <th>0</th>\n",
       "      <th>1</th>\n",
       "      <th>2</th>\n",
       "    </tr>\n",
       "  </thead>\n",
       "  <tbody>\n",
       "    <tr>\n",
       "      <th>0</th>\n",
       "      <td>0</td>\n",
       "      <td>1</td>\n",
       "      <td>2</td>\n",
       "    </tr>\n",
       "    <tr>\n",
       "      <th>1</th>\n",
       "      <td>3</td>\n",
       "      <td>4</td>\n",
       "      <td>5</td>\n",
       "    </tr>\n",
       "    <tr>\n",
       "      <th>2</th>\n",
       "      <td>6</td>\n",
       "      <td>7</td>\n",
       "      <td>8</td>\n",
       "    </tr>\n",
       "    <tr>\n",
       "      <th>3</th>\n",
       "      <td>9</td>\n",
       "      <td>10</td>\n",
       "      <td>11</td>\n",
       "    </tr>\n",
       "    <tr>\n",
       "      <th>4</th>\n",
       "      <td>12</td>\n",
       "      <td>13</td>\n",
       "      <td>14</td>\n",
       "    </tr>\n",
       "  </tbody>\n",
       "</table>\n",
       "</div>"
      ],
      "text/plain": [
       "    0   1   2\n",
       "0   0   1   2\n",
       "1   3   4   5\n",
       "2   6   7   8\n",
       "3   9  10  11\n",
       "4  12  13  14"
      ]
     },
     "execution_count": 4,
     "metadata": {},
     "output_type": "execute_result"
    }
   ],
   "source": [
    "DF_obj_2 = pd.DataFrame(np.arange(15).reshape(5,3))\n",
    "DF_obj_2"
   ]
  },
  {
   "cell_type": "code",
   "execution_count": 5,
   "metadata": {},
   "outputs": [
    {
     "data": {
      "text/html": [
       "<div>\n",
       "<style scoped>\n",
       "    .dataframe tbody tr th:only-of-type {\n",
       "        vertical-align: middle;\n",
       "    }\n",
       "\n",
       "    .dataframe tbody tr th {\n",
       "        vertical-align: top;\n",
       "    }\n",
       "\n",
       "    .dataframe thead th {\n",
       "        text-align: right;\n",
       "    }\n",
       "</style>\n",
       "<table border=\"1\" class=\"dataframe\">\n",
       "  <thead>\n",
       "    <tr style=\"text-align: right;\">\n",
       "      <th></th>\n",
       "      <th>0</th>\n",
       "      <th>1</th>\n",
       "      <th>2</th>\n",
       "      <th>3</th>\n",
       "      <th>4</th>\n",
       "      <th>5</th>\n",
       "      <th>0</th>\n",
       "      <th>1</th>\n",
       "      <th>2</th>\n",
       "    </tr>\n",
       "  </thead>\n",
       "  <tbody>\n",
       "    <tr>\n",
       "      <th>0</th>\n",
       "      <td>0</td>\n",
       "      <td>1</td>\n",
       "      <td>2</td>\n",
       "      <td>3</td>\n",
       "      <td>4</td>\n",
       "      <td>5</td>\n",
       "      <td>0.0</td>\n",
       "      <td>1.0</td>\n",
       "      <td>2.0</td>\n",
       "    </tr>\n",
       "    <tr>\n",
       "      <th>1</th>\n",
       "      <td>6</td>\n",
       "      <td>7</td>\n",
       "      <td>8</td>\n",
       "      <td>9</td>\n",
       "      <td>10</td>\n",
       "      <td>11</td>\n",
       "      <td>3.0</td>\n",
       "      <td>4.0</td>\n",
       "      <td>5.0</td>\n",
       "    </tr>\n",
       "    <tr>\n",
       "      <th>2</th>\n",
       "      <td>12</td>\n",
       "      <td>13</td>\n",
       "      <td>14</td>\n",
       "      <td>15</td>\n",
       "      <td>16</td>\n",
       "      <td>17</td>\n",
       "      <td>6.0</td>\n",
       "      <td>7.0</td>\n",
       "      <td>8.0</td>\n",
       "    </tr>\n",
       "    <tr>\n",
       "      <th>3</th>\n",
       "      <td>18</td>\n",
       "      <td>19</td>\n",
       "      <td>20</td>\n",
       "      <td>21</td>\n",
       "      <td>22</td>\n",
       "      <td>23</td>\n",
       "      <td>9.0</td>\n",
       "      <td>10.0</td>\n",
       "      <td>11.0</td>\n",
       "    </tr>\n",
       "    <tr>\n",
       "      <th>4</th>\n",
       "      <td>24</td>\n",
       "      <td>25</td>\n",
       "      <td>26</td>\n",
       "      <td>27</td>\n",
       "      <td>28</td>\n",
       "      <td>29</td>\n",
       "      <td>12.0</td>\n",
       "      <td>13.0</td>\n",
       "      <td>14.0</td>\n",
       "    </tr>\n",
       "    <tr>\n",
       "      <th>5</th>\n",
       "      <td>30</td>\n",
       "      <td>31</td>\n",
       "      <td>32</td>\n",
       "      <td>33</td>\n",
       "      <td>34</td>\n",
       "      <td>35</td>\n",
       "      <td>NaN</td>\n",
       "      <td>NaN</td>\n",
       "      <td>NaN</td>\n",
       "    </tr>\n",
       "  </tbody>\n",
       "</table>\n",
       "</div>"
      ],
      "text/plain": [
       "    0   1   2   3   4   5     0     1     2\n",
       "0   0   1   2   3   4   5   0.0   1.0   2.0\n",
       "1   6   7   8   9  10  11   3.0   4.0   5.0\n",
       "2  12  13  14  15  16  17   6.0   7.0   8.0\n",
       "3  18  19  20  21  22  23   9.0  10.0  11.0\n",
       "4  24  25  26  27  28  29  12.0  13.0  14.0\n",
       "5  30  31  32  33  34  35   NaN   NaN   NaN"
      ]
     },
     "execution_count": 5,
     "metadata": {},
     "output_type": "execute_result"
    }
   ],
   "source": [
    "#Concatenation data\n",
    "pd.concat([DF_obj,DF_obj_2], axis=1)"
   ]
  },
  {
   "cell_type": "code",
   "execution_count": 6,
   "metadata": {},
   "outputs": [
    {
     "data": {
      "text/html": [
       "<div>\n",
       "<style scoped>\n",
       "    .dataframe tbody tr th:only-of-type {\n",
       "        vertical-align: middle;\n",
       "    }\n",
       "\n",
       "    .dataframe tbody tr th {\n",
       "        vertical-align: top;\n",
       "    }\n",
       "\n",
       "    .dataframe thead th {\n",
       "        text-align: right;\n",
       "    }\n",
       "</style>\n",
       "<table border=\"1\" class=\"dataframe\">\n",
       "  <thead>\n",
       "    <tr style=\"text-align: right;\">\n",
       "      <th></th>\n",
       "      <th>0</th>\n",
       "      <th>1</th>\n",
       "      <th>2</th>\n",
       "      <th>3</th>\n",
       "      <th>4</th>\n",
       "      <th>5</th>\n",
       "    </tr>\n",
       "  </thead>\n",
       "  <tbody>\n",
       "    <tr>\n",
       "      <th>0</th>\n",
       "      <td>0</td>\n",
       "      <td>1</td>\n",
       "      <td>2</td>\n",
       "      <td>3.0</td>\n",
       "      <td>4.0</td>\n",
       "      <td>5.0</td>\n",
       "    </tr>\n",
       "    <tr>\n",
       "      <th>1</th>\n",
       "      <td>6</td>\n",
       "      <td>7</td>\n",
       "      <td>8</td>\n",
       "      <td>9.0</td>\n",
       "      <td>10.0</td>\n",
       "      <td>11.0</td>\n",
       "    </tr>\n",
       "    <tr>\n",
       "      <th>2</th>\n",
       "      <td>12</td>\n",
       "      <td>13</td>\n",
       "      <td>14</td>\n",
       "      <td>15.0</td>\n",
       "      <td>16.0</td>\n",
       "      <td>17.0</td>\n",
       "    </tr>\n",
       "    <tr>\n",
       "      <th>3</th>\n",
       "      <td>18</td>\n",
       "      <td>19</td>\n",
       "      <td>20</td>\n",
       "      <td>21.0</td>\n",
       "      <td>22.0</td>\n",
       "      <td>23.0</td>\n",
       "    </tr>\n",
       "    <tr>\n",
       "      <th>4</th>\n",
       "      <td>24</td>\n",
       "      <td>25</td>\n",
       "      <td>26</td>\n",
       "      <td>27.0</td>\n",
       "      <td>28.0</td>\n",
       "      <td>29.0</td>\n",
       "    </tr>\n",
       "    <tr>\n",
       "      <th>5</th>\n",
       "      <td>30</td>\n",
       "      <td>31</td>\n",
       "      <td>32</td>\n",
       "      <td>33.0</td>\n",
       "      <td>34.0</td>\n",
       "      <td>35.0</td>\n",
       "    </tr>\n",
       "    <tr>\n",
       "      <th>0</th>\n",
       "      <td>0</td>\n",
       "      <td>1</td>\n",
       "      <td>2</td>\n",
       "      <td>NaN</td>\n",
       "      <td>NaN</td>\n",
       "      <td>NaN</td>\n",
       "    </tr>\n",
       "    <tr>\n",
       "      <th>1</th>\n",
       "      <td>3</td>\n",
       "      <td>4</td>\n",
       "      <td>5</td>\n",
       "      <td>NaN</td>\n",
       "      <td>NaN</td>\n",
       "      <td>NaN</td>\n",
       "    </tr>\n",
       "    <tr>\n",
       "      <th>2</th>\n",
       "      <td>6</td>\n",
       "      <td>7</td>\n",
       "      <td>8</td>\n",
       "      <td>NaN</td>\n",
       "      <td>NaN</td>\n",
       "      <td>NaN</td>\n",
       "    </tr>\n",
       "    <tr>\n",
       "      <th>3</th>\n",
       "      <td>9</td>\n",
       "      <td>10</td>\n",
       "      <td>11</td>\n",
       "      <td>NaN</td>\n",
       "      <td>NaN</td>\n",
       "      <td>NaN</td>\n",
       "    </tr>\n",
       "    <tr>\n",
       "      <th>4</th>\n",
       "      <td>12</td>\n",
       "      <td>13</td>\n",
       "      <td>14</td>\n",
       "      <td>NaN</td>\n",
       "      <td>NaN</td>\n",
       "      <td>NaN</td>\n",
       "    </tr>\n",
       "  </tbody>\n",
       "</table>\n",
       "</div>"
      ],
      "text/plain": [
       "    0   1   2     3     4     5\n",
       "0   0   1   2   3.0   4.0   5.0\n",
       "1   6   7   8   9.0  10.0  11.0\n",
       "2  12  13  14  15.0  16.0  17.0\n",
       "3  18  19  20  21.0  22.0  23.0\n",
       "4  24  25  26  27.0  28.0  29.0\n",
       "5  30  31  32  33.0  34.0  35.0\n",
       "0   0   1   2   NaN   NaN   NaN\n",
       "1   3   4   5   NaN   NaN   NaN\n",
       "2   6   7   8   NaN   NaN   NaN\n",
       "3   9  10  11   NaN   NaN   NaN\n",
       "4  12  13  14   NaN   NaN   NaN"
      ]
     },
     "execution_count": 6,
     "metadata": {},
     "output_type": "execute_result"
    }
   ],
   "source": [
    "pd.concat([DF_obj,DF_obj_2])"
   ]
  },
  {
   "cell_type": "code",
   "execution_count": 10,
   "metadata": {},
   "outputs": [
    {
     "data": {
      "text/html": [
       "<div>\n",
       "<style scoped>\n",
       "    .dataframe tbody tr th:only-of-type {\n",
       "        vertical-align: middle;\n",
       "    }\n",
       "\n",
       "    .dataframe tbody tr th {\n",
       "        vertical-align: top;\n",
       "    }\n",
       "\n",
       "    .dataframe thead th {\n",
       "        text-align: right;\n",
       "    }\n",
       "</style>\n",
       "<table border=\"1\" class=\"dataframe\">\n",
       "  <thead>\n",
       "    <tr style=\"text-align: right;\">\n",
       "      <th></th>\n",
       "      <th>0</th>\n",
       "      <th>1</th>\n",
       "      <th>2</th>\n",
       "      <th>3</th>\n",
       "      <th>4</th>\n",
       "      <th>5</th>\n",
       "    </tr>\n",
       "  </thead>\n",
       "  <tbody>\n",
       "    <tr>\n",
       "      <th>0</th>\n",
       "      <td>0</td>\n",
       "      <td>1</td>\n",
       "      <td>2</td>\n",
       "      <td>3</td>\n",
       "      <td>4</td>\n",
       "      <td>5</td>\n",
       "    </tr>\n",
       "    <tr>\n",
       "      <th>1</th>\n",
       "      <td>6</td>\n",
       "      <td>7</td>\n",
       "      <td>8</td>\n",
       "      <td>9</td>\n",
       "      <td>10</td>\n",
       "      <td>11</td>\n",
       "    </tr>\n",
       "    <tr>\n",
       "      <th>2</th>\n",
       "      <td>12</td>\n",
       "      <td>13</td>\n",
       "      <td>14</td>\n",
       "      <td>15</td>\n",
       "      <td>16</td>\n",
       "      <td>17</td>\n",
       "    </tr>\n",
       "    <tr>\n",
       "      <th>3</th>\n",
       "      <td>18</td>\n",
       "      <td>19</td>\n",
       "      <td>20</td>\n",
       "      <td>21</td>\n",
       "      <td>22</td>\n",
       "      <td>23</td>\n",
       "    </tr>\n",
       "    <tr>\n",
       "      <th>4</th>\n",
       "      <td>24</td>\n",
       "      <td>25</td>\n",
       "      <td>26</td>\n",
       "      <td>27</td>\n",
       "      <td>28</td>\n",
       "      <td>29</td>\n",
       "    </tr>\n",
       "    <tr>\n",
       "      <th>5</th>\n",
       "      <td>30</td>\n",
       "      <td>31</td>\n",
       "      <td>32</td>\n",
       "      <td>33</td>\n",
       "      <td>34</td>\n",
       "      <td>35</td>\n",
       "    </tr>\n",
       "  </tbody>\n",
       "</table>\n",
       "</div>"
      ],
      "text/plain": [
       "    0   1   2   3   4   5\n",
       "0   0   1   2   3   4   5\n",
       "1   6   7   8   9  10  11\n",
       "2  12  13  14  15  16  17\n",
       "3  18  19  20  21  22  23\n",
       "4  24  25  26  27  28  29\n",
       "5  30  31  32  33  34  35"
      ]
     },
     "execution_count": 10,
     "metadata": {},
     "output_type": "execute_result"
    }
   ],
   "source": [
    "#transforming data\n",
    "DF_obj\n"
   ]
  },
  {
   "cell_type": "code",
   "execution_count": 12,
   "metadata": {},
   "outputs": [
    {
     "data": {
      "text/html": [
       "<div>\n",
       "<style scoped>\n",
       "    .dataframe tbody tr th:only-of-type {\n",
       "        vertical-align: middle;\n",
       "    }\n",
       "\n",
       "    .dataframe tbody tr th {\n",
       "        vertical-align: top;\n",
       "    }\n",
       "\n",
       "    .dataframe thead th {\n",
       "        text-align: right;\n",
       "    }\n",
       "</style>\n",
       "<table border=\"1\" class=\"dataframe\">\n",
       "  <thead>\n",
       "    <tr style=\"text-align: right;\">\n",
       "      <th></th>\n",
       "      <th>0</th>\n",
       "      <th>1</th>\n",
       "      <th>2</th>\n",
       "      <th>3</th>\n",
       "      <th>4</th>\n",
       "      <th>5</th>\n",
       "    </tr>\n",
       "  </thead>\n",
       "  <tbody>\n",
       "    <tr>\n",
       "      <th>1</th>\n",
       "      <td>6</td>\n",
       "      <td>7</td>\n",
       "      <td>8</td>\n",
       "      <td>9</td>\n",
       "      <td>10</td>\n",
       "      <td>11</td>\n",
       "    </tr>\n",
       "    <tr>\n",
       "      <th>3</th>\n",
       "      <td>18</td>\n",
       "      <td>19</td>\n",
       "      <td>20</td>\n",
       "      <td>21</td>\n",
       "      <td>22</td>\n",
       "      <td>23</td>\n",
       "    </tr>\n",
       "    <tr>\n",
       "      <th>4</th>\n",
       "      <td>24</td>\n",
       "      <td>25</td>\n",
       "      <td>26</td>\n",
       "      <td>27</td>\n",
       "      <td>28</td>\n",
       "      <td>29</td>\n",
       "    </tr>\n",
       "  </tbody>\n",
       "</table>\n",
       "</div>"
      ],
      "text/plain": [
       "    0   1   2   3   4   5\n",
       "1   6   7   8   9  10  11\n",
       "3  18  19  20  21  22  23\n",
       "4  24  25  26  27  28  29"
      ]
     },
     "execution_count": 12,
     "metadata": {},
     "output_type": "execute_result"
    }
   ],
   "source": [
    "DF_obj.drop([0,2,5])"
   ]
  },
  {
   "cell_type": "code",
   "execution_count": 13,
   "metadata": {},
   "outputs": [
    {
     "data": {
      "text/html": [
       "<div>\n",
       "<style scoped>\n",
       "    .dataframe tbody tr th:only-of-type {\n",
       "        vertical-align: middle;\n",
       "    }\n",
       "\n",
       "    .dataframe tbody tr th {\n",
       "        vertical-align: top;\n",
       "    }\n",
       "\n",
       "    .dataframe thead th {\n",
       "        text-align: right;\n",
       "    }\n",
       "</style>\n",
       "<table border=\"1\" class=\"dataframe\">\n",
       "  <thead>\n",
       "    <tr style=\"text-align: right;\">\n",
       "      <th></th>\n",
       "      <th>0</th>\n",
       "      <th>1</th>\n",
       "      <th>2</th>\n",
       "      <th>3</th>\n",
       "      <th>4</th>\n",
       "      <th>5</th>\n",
       "    </tr>\n",
       "  </thead>\n",
       "  <tbody>\n",
       "    <tr>\n",
       "      <th>1</th>\n",
       "      <td>6</td>\n",
       "      <td>7</td>\n",
       "      <td>8</td>\n",
       "      <td>9</td>\n",
       "      <td>10</td>\n",
       "      <td>11</td>\n",
       "    </tr>\n",
       "    <tr>\n",
       "      <th>2</th>\n",
       "      <td>12</td>\n",
       "      <td>13</td>\n",
       "      <td>14</td>\n",
       "      <td>15</td>\n",
       "      <td>16</td>\n",
       "      <td>17</td>\n",
       "    </tr>\n",
       "    <tr>\n",
       "      <th>3</th>\n",
       "      <td>18</td>\n",
       "      <td>19</td>\n",
       "      <td>20</td>\n",
       "      <td>21</td>\n",
       "      <td>22</td>\n",
       "      <td>23</td>\n",
       "    </tr>\n",
       "    <tr>\n",
       "      <th>4</th>\n",
       "      <td>24</td>\n",
       "      <td>25</td>\n",
       "      <td>26</td>\n",
       "      <td>27</td>\n",
       "      <td>28</td>\n",
       "      <td>29</td>\n",
       "    </tr>\n",
       "  </tbody>\n",
       "</table>\n",
       "</div>"
      ],
      "text/plain": [
       "    0   1   2   3   4   5\n",
       "1   6   7   8   9  10  11\n",
       "2  12  13  14  15  16  17\n",
       "3  18  19  20  21  22  23\n",
       "4  24  25  26  27  28  29"
      ]
     },
     "execution_count": 13,
     "metadata": {},
     "output_type": "execute_result"
    }
   ],
   "source": [
    "DF_obj.drop([0,5])"
   ]
  },
  {
   "cell_type": "code",
   "execution_count": 15,
   "metadata": {},
   "outputs": [
    {
     "data": {
      "text/html": [
       "<div>\n",
       "<style scoped>\n",
       "    .dataframe tbody tr th:only-of-type {\n",
       "        vertical-align: middle;\n",
       "    }\n",
       "\n",
       "    .dataframe tbody tr th {\n",
       "        vertical-align: top;\n",
       "    }\n",
       "\n",
       "    .dataframe thead th {\n",
       "        text-align: right;\n",
       "    }\n",
       "</style>\n",
       "<table border=\"1\" class=\"dataframe\">\n",
       "  <thead>\n",
       "    <tr style=\"text-align: right;\">\n",
       "      <th></th>\n",
       "      <th>1</th>\n",
       "      <th>2</th>\n",
       "      <th>3</th>\n",
       "      <th>4</th>\n",
       "    </tr>\n",
       "  </thead>\n",
       "  <tbody>\n",
       "    <tr>\n",
       "      <th>0</th>\n",
       "      <td>1</td>\n",
       "      <td>2</td>\n",
       "      <td>3</td>\n",
       "      <td>4</td>\n",
       "    </tr>\n",
       "    <tr>\n",
       "      <th>1</th>\n",
       "      <td>7</td>\n",
       "      <td>8</td>\n",
       "      <td>9</td>\n",
       "      <td>10</td>\n",
       "    </tr>\n",
       "    <tr>\n",
       "      <th>2</th>\n",
       "      <td>13</td>\n",
       "      <td>14</td>\n",
       "      <td>15</td>\n",
       "      <td>16</td>\n",
       "    </tr>\n",
       "    <tr>\n",
       "      <th>3</th>\n",
       "      <td>19</td>\n",
       "      <td>20</td>\n",
       "      <td>21</td>\n",
       "      <td>22</td>\n",
       "    </tr>\n",
       "    <tr>\n",
       "      <th>4</th>\n",
       "      <td>25</td>\n",
       "      <td>26</td>\n",
       "      <td>27</td>\n",
       "      <td>28</td>\n",
       "    </tr>\n",
       "    <tr>\n",
       "      <th>5</th>\n",
       "      <td>31</td>\n",
       "      <td>32</td>\n",
       "      <td>33</td>\n",
       "      <td>34</td>\n",
       "    </tr>\n",
       "  </tbody>\n",
       "</table>\n",
       "</div>"
      ],
      "text/plain": [
       "    1   2   3   4\n",
       "0   1   2   3   4\n",
       "1   7   8   9  10\n",
       "2  13  14  15  16\n",
       "3  19  20  21  22\n",
       "4  25  26  27  28\n",
       "5  31  32  33  34"
      ]
     },
     "execution_count": 15,
     "metadata": {},
     "output_type": "execute_result"
    }
   ],
   "source": [
    "DF_obj.drop([0,5],axis=1) #for columns"
   ]
  },
  {
   "cell_type": "code",
   "execution_count": 16,
   "metadata": {},
   "outputs": [],
   "source": [
    "series_obj = Series(np.arange(6))\n",
    "series_obj.name = \"added_variable\""
   ]
  },
  {
   "cell_type": "code",
   "execution_count": 17,
   "metadata": {},
   "outputs": [
    {
     "data": {
      "text/plain": [
       "0    0\n",
       "1    1\n",
       "2    2\n",
       "3    3\n",
       "4    4\n",
       "5    5\n",
       "Name: added_variable, dtype: int64"
      ]
     },
     "execution_count": 17,
     "metadata": {},
     "output_type": "execute_result"
    }
   ],
   "source": [
    "series_obj"
   ]
  },
  {
   "cell_type": "code",
   "execution_count": 18,
   "metadata": {},
   "outputs": [
    {
     "data": {
      "text/html": [
       "<div>\n",
       "<style scoped>\n",
       "    .dataframe tbody tr th:only-of-type {\n",
       "        vertical-align: middle;\n",
       "    }\n",
       "\n",
       "    .dataframe tbody tr th {\n",
       "        vertical-align: top;\n",
       "    }\n",
       "\n",
       "    .dataframe thead th {\n",
       "        text-align: right;\n",
       "    }\n",
       "</style>\n",
       "<table border=\"1\" class=\"dataframe\">\n",
       "  <thead>\n",
       "    <tr style=\"text-align: right;\">\n",
       "      <th></th>\n",
       "      <th>0</th>\n",
       "      <th>1</th>\n",
       "      <th>2</th>\n",
       "      <th>3</th>\n",
       "      <th>4</th>\n",
       "      <th>5</th>\n",
       "    </tr>\n",
       "  </thead>\n",
       "  <tbody>\n",
       "    <tr>\n",
       "      <th>5</th>\n",
       "      <td>30</td>\n",
       "      <td>31</td>\n",
       "      <td>32</td>\n",
       "      <td>33</td>\n",
       "      <td>34</td>\n",
       "      <td>35</td>\n",
       "    </tr>\n",
       "    <tr>\n",
       "      <th>4</th>\n",
       "      <td>24</td>\n",
       "      <td>25</td>\n",
       "      <td>26</td>\n",
       "      <td>27</td>\n",
       "      <td>28</td>\n",
       "      <td>29</td>\n",
       "    </tr>\n",
       "    <tr>\n",
       "      <th>3</th>\n",
       "      <td>18</td>\n",
       "      <td>19</td>\n",
       "      <td>20</td>\n",
       "      <td>21</td>\n",
       "      <td>22</td>\n",
       "      <td>23</td>\n",
       "    </tr>\n",
       "    <tr>\n",
       "      <th>2</th>\n",
       "      <td>12</td>\n",
       "      <td>13</td>\n",
       "      <td>14</td>\n",
       "      <td>15</td>\n",
       "      <td>16</td>\n",
       "      <td>17</td>\n",
       "    </tr>\n",
       "    <tr>\n",
       "      <th>1</th>\n",
       "      <td>6</td>\n",
       "      <td>7</td>\n",
       "      <td>8</td>\n",
       "      <td>9</td>\n",
       "      <td>10</td>\n",
       "      <td>11</td>\n",
       "    </tr>\n",
       "    <tr>\n",
       "      <th>0</th>\n",
       "      <td>0</td>\n",
       "      <td>1</td>\n",
       "      <td>2</td>\n",
       "      <td>3</td>\n",
       "      <td>4</td>\n",
       "      <td>5</td>\n",
       "    </tr>\n",
       "  </tbody>\n",
       "</table>\n",
       "</div>"
      ],
      "text/plain": [
       "    0   1   2   3   4   5\n",
       "5  30  31  32  33  34  35\n",
       "4  24  25  26  27  28  29\n",
       "3  18  19  20  21  22  23\n",
       "2  12  13  14  15  16  17\n",
       "1   6   7   8   9  10  11\n",
       "0   0   1   2   3   4   5"
      ]
     },
     "execution_count": 18,
     "metadata": {},
     "output_type": "execute_result"
    }
   ],
   "source": [
    "DF_sorted = DF_obj.sort_values(by=[5],ascending = [False])\n",
    "DF_sorted"
   ]
  },
  {
   "cell_type": "code",
   "execution_count": 20,
   "metadata": {},
   "outputs": [],
   "source": [
    "#LECTURE : 3"
   ]
  },
  {
   "cell_type": "code",
   "execution_count": 21,
   "metadata": {},
   "outputs": [],
   "source": [
    "import numpy as np\n",
    "import matplotlib.pyplot as plt\n"
   ]
  },
  {
   "cell_type": "code",
   "execution_count": 22,
   "metadata": {},
   "outputs": [
    {
     "data": {
      "text/plain": [
       "<Figure size 432x288 with 0 Axes>"
      ]
     },
     "metadata": {},
     "output_type": "display_data"
    }
   ],
   "source": [
    "my_first_figure = plt.figure(\"My first figure\")"
   ]
  },
  {
   "cell_type": "code",
   "execution_count": 23,
   "metadata": {},
   "outputs": [
    {
     "data": {
      "text/plain": [
       "<Figure size 432x288 with 0 Axes>"
      ]
     },
     "execution_count": 23,
     "metadata": {},
     "output_type": "execute_result"
    }
   ],
   "source": [
    "my_first_figure"
   ]
  },
  {
   "cell_type": "code",
   "execution_count": 24,
   "metadata": {},
   "outputs": [],
   "source": [
    "subplot_1 = my_first_figure.add_subplot(2,3,1)\n",
    "subplot_6 = my_first_figure.add_subplot(2,3,6)"
   ]
  },
  {
   "cell_type": "code",
   "execution_count": 25,
   "metadata": {},
   "outputs": [
    {
     "data": {
      "image/png": "[encoded data removed]",
      "text/plain": [
       "<Figure size 432x288 with 1 Axes>"
      ]
     },
     "metadata": {},
     "output_type": "display_data"
    }
   ],
   "source": [
    "plt.plot(np.random.rand(50).cumsum(),'k--')\n",
    "plt.show()"
   ]
  },
  {
   "cell_type": "code",
   "execution_count": 34,
   "metadata": {},
   "outputs": [
    {
     "data": {
      "text/plain": [
       "[<matplotlib.lines.Line2D at 0x7fe9c12b0190>]"
      ]
     },
     "execution_count": 34,
     "metadata": {},
     "output_type": "execute_result"
    },
    {
     "data": {
      "image/png": "[encoded data removed]",
      "text/plain": [
       "<Figure size 432x288 with 1 Axes>"
      ]
     },
     "metadata": {},
     "output_type": "display_data"
    }
   ],
   "source": [
    "subplot_2 = my_first_figure.add_subplot(2,3,2)\n",
    "plt.plot(np.random.rand(50),'go')"
   ]
  },
  {
   "cell_type": "code",
   "execution_count": 37,
   "metadata": {},
   "outputs": [],
   "source": [
    "plt.show()"
   ]
  },
  {
   "cell_type": "code",
   "execution_count": 38,
   "metadata": {},
   "outputs": [],
   "source": [
    "data_set_size = 15\n",
    "low_mu, low_sigma = 50, 4.3\n",
    "low_data_set = low_mu + low_sigma * np.random.randn(data_set_size)\n",
    "high_mu, high_sigma = 57, 5.2\n",
    "high_data_set = high_mu + high_sigma * np.random.randn(data_set_size)\n",
    "days = list(range(1, data_set_size + 1))"
   ]
  },
  {
   "cell_type": "code",
   "execution_count": 39,
   "metadata": {},
   "outputs": [
    {
     "data": {
      "image/png": "[encoded data removed]",
      "text/plain": [
       "<Figure size 432x288 with 1 Axes>"
      ]
     },
     "metadata": {},
     "output_type": "display_data"
    }
   ],
   "source": [
    "plt.plot(days,low_data_set)\n",
    "plt.show()"
   ]
  },
  {
   "cell_type": "code",
   "execution_count": 40,
   "metadata": {},
   "outputs": [
    {
     "data": {
      "image/png": "[encoded data removed]",
      "text/plain": [
       "<Figure size 432x288 with 1 Axes>"
      ]
     },
     "metadata": {},
     "output_type": "display_data"
    }
   ],
   "source": [
    "plt.plot(days, low_data_set,\n",
    "        days, high_data_set)\n",
    "plt.show()"
   ]
  },
  {
   "cell_type": "code",
   "execution_count": 41,
   "metadata": {},
   "outputs": [
    {
     "data": {
      "image/png": "[encoded data removed]",
      "text/plain": [
       "<Figure size 432x288 with 1 Axes>"
      ]
     },
     "metadata": {},
     "output_type": "display_data"
    }
   ],
   "source": [
    "plt.plot(days, low_data_set,\n",
    "         days, low_data_set, \"vm\",\n",
    "        days, high_data_set,\n",
    "        days, high_data_set, \"^k\")\n",
    "plt.show()"
   ]
  },
  {
   "cell_type": "code",
   "execution_count": 42,
   "metadata": {},
   "outputs": [
    {
     "data": {
      "image/png": "[encoded data removed]",
      "text/plain": [
       "<Figure size 432x288 with 1 Axes>"
      ]
     },
     "metadata": {},
     "output_type": "display_data"
    }
   ],
   "source": [
    "plt.plot(\n",
    "        days, high_data_set, \"^k\")\n",
    "plt.xlabel('Day')\n",
    "plt.ylabel('Temperature')\n",
    "plt.title('Randomized temperature data')\n",
    "plt.show()"
   ]
  },
  {
   "cell_type": "code",
   "execution_count": 1,
   "metadata": {},
   "outputs": [],
   "source": [
    "#NEW LECTURE - ON PANDAS USING PANDAS AND DATA SCIENCE for BEGINNERS, STATS USING PYTHON"
   ]
  },
  {
   "cell_type": "code",
   "execution_count": 2,
   "metadata": {},
   "outputs": [
    {
     "name": "stderr",
     "output_type": "stream",
     "text": [
      "/usr/local/lib/python2.7/dist-packages/pandas/_libs/__init__.py:4: RuntimeWarning: numpy.dtype size changed, may indicate binary incompatibility. Expected 96, got 88\n",
      "  from .tslib import iNaT, NaT, Timestamp, Timedelta, OutOfBoundsDatetime\n",
      "/usr/local/lib/python2.7/dist-packages/pandas/__init__.py:26: RuntimeWarning: numpy.dtype size changed, may indicate binary incompatibility. Expected 96, got 88\n",
      "  from pandas._libs import (hashtable as _hashtable,\n",
      "/usr/local/lib/python2.7/dist-packages/pandas/core/dtypes/common.py:6: RuntimeWarning: numpy.dtype size changed, may indicate binary incompatibility. Expected 96, got 88\n",
      "  from pandas._libs import algos, lib\n",
      "/usr/local/lib/python2.7/dist-packages/pandas/core/util/hashing.py:7: RuntimeWarning: numpy.dtype size changed, may indicate binary incompatibility. Expected 96, got 88\n",
      "  from pandas._libs import hashing, tslib\n",
      "/usr/local/lib/python2.7/dist-packages/pandas/core/indexes/base.py:7: RuntimeWarning: numpy.dtype size changed, may indicate binary incompatibility. Expected 96, got 88\n",
      "  from pandas._libs import (lib, index as libindex, tslib as libts,\n",
      "/usr/local/lib/python2.7/dist-packages/pandas/tseries/offsets.py:21: RuntimeWarning: numpy.dtype size changed, may indicate binary incompatibility. Expected 96, got 88\n",
      "  import pandas._libs.tslibs.offsets as liboffsets\n",
      "/usr/local/lib/python2.7/dist-packages/pandas/core/ops.py:16: RuntimeWarning: numpy.dtype size changed, may indicate binary incompatibility. Expected 96, got 88\n",
      "  from pandas._libs import algos as libalgos, ops as libops\n",
      "/usr/local/lib/python2.7/dist-packages/pandas/core/indexes/interval.py:32: RuntimeWarning: numpy.dtype size changed, may indicate binary incompatibility. Expected 96, got 88\n",
      "  from pandas._libs.interval import (\n",
      "/usr/local/lib/python2.7/dist-packages/pandas/core/internals.py:14: RuntimeWarning: numpy.dtype size changed, may indicate binary incompatibility. Expected 96, got 88\n",
      "  from pandas._libs import internals as libinternals\n",
      "/usr/local/lib/python2.7/dist-packages/pandas/core/sparse/array.py:33: RuntimeWarning: numpy.dtype size changed, may indicate binary incompatibility. Expected 96, got 88\n",
      "  import pandas._libs.sparse as splib\n",
      "/usr/local/lib/python2.7/dist-packages/pandas/core/window.py:36: RuntimeWarning: numpy.dtype size changed, may indicate binary incompatibility. Expected 96, got 88\n",
      "  import pandas._libs.window as _window\n",
      "/usr/local/lib/python2.7/dist-packages/pandas/core/groupby/groupby.py:68: RuntimeWarning: numpy.dtype size changed, may indicate binary incompatibility. Expected 96, got 88\n",
      "  from pandas._libs import (lib, reduction,\n",
      "/usr/local/lib/python2.7/dist-packages/pandas/core/reshape/reshape.py:30: RuntimeWarning: numpy.dtype size changed, may indicate binary incompatibility. Expected 96, got 88\n",
      "  from pandas._libs import algos as _algos, reshape as _reshape\n",
      "/usr/local/lib/python2.7/dist-packages/pandas/io/parsers.py:45: RuntimeWarning: numpy.dtype size changed, may indicate binary incompatibility. Expected 96, got 88\n",
      "  import pandas._libs.parsers as parsers\n",
      "/usr/local/lib/python2.7/dist-packages/pandas/io/pytables.py:50: RuntimeWarning: numpy.dtype size changed, may indicate binary incompatibility. Expected 96, got 88\n",
      "  from pandas._libs import algos, lib, writers as libwriters\n"
     ]
    }
   ],
   "source": [
    "import numpy as np\n",
    "import pandas as pd\n",
    "import matplotlib \n",
    "import matplotlib.pyplot as pp\n",
    "%matplotlib inline"
   ]
  },
  {
   "cell_type": "code",
   "execution_count": 3,
   "metadata": {},
   "outputs": [],
   "source": [
    "planets = pd.read_csv('Planets.csv')"
   ]
  },
  {
   "cell_type": "code",
   "execution_count": 4,
   "metadata": {},
   "outputs": [
    {
     "data": {
      "text/html": [
       "<div>\n",
       "<style scoped>\n",
       "    .dataframe tbody tr th:only-of-type {\n",
       "        vertical-align: middle;\n",
       "    }\n",
       "\n",
       "    .dataframe tbody tr th {\n",
       "        vertical-align: top;\n",
       "    }\n",
       "\n",
       "    .dataframe thead th {\n",
       "        text-align: right;\n",
       "    }\n",
       "</style>\n",
       "<table border=\"1\" class=\"dataframe\">\n",
       "  <thead>\n",
       "    <tr style=\"text-align: right;\">\n",
       "      <th></th>\n",
       "      <th>Planet</th>\n",
       "      <th>Mass</th>\n",
       "      <th>Diameter</th>\n",
       "      <th>DayLength</th>\n",
       "      <th>SunDistance</th>\n",
       "      <th>OrbitPeriod</th>\n",
       "      <th>OrbitVelocity</th>\n",
       "      <th>MeanTemperature</th>\n",
       "      <th>SurfacePressure</th>\n",
       "      <th>Moons</th>\n",
       "      <th>Rings</th>\n",
       "      <th>MagneticField</th>\n",
       "      <th>FirstVisited</th>\n",
       "      <th>FirstMission</th>\n",
       "    </tr>\n",
       "  </thead>\n",
       "  <tbody>\n",
       "    <tr>\n",
       "      <th>0</th>\n",
       "      <td>MERCURY</td>\n",
       "      <td>0.3300</td>\n",
       "      <td>4879</td>\n",
       "      <td>4222.6</td>\n",
       "      <td>57.9</td>\n",
       "      <td>88.0</td>\n",
       "      <td>47.4</td>\n",
       "      <td>167</td>\n",
       "      <td>0.00000</td>\n",
       "      <td>0</td>\n",
       "      <td>No</td>\n",
       "      <td>Yes</td>\n",
       "      <td>1974-03-29</td>\n",
       "      <td>Mariner 10</td>\n",
       "    </tr>\n",
       "    <tr>\n",
       "      <th>1</th>\n",
       "      <td>VENUS</td>\n",
       "      <td>4.8700</td>\n",
       "      <td>12104</td>\n",
       "      <td>2802.0</td>\n",
       "      <td>108.2</td>\n",
       "      <td>224.7</td>\n",
       "      <td>35.0</td>\n",
       "      <td>464</td>\n",
       "      <td>92.00000</td>\n",
       "      <td>0</td>\n",
       "      <td>No</td>\n",
       "      <td>No</td>\n",
       "      <td>1962-08-27</td>\n",
       "      <td>Mariner 2</td>\n",
       "    </tr>\n",
       "    <tr>\n",
       "      <th>2</th>\n",
       "      <td>EARTH</td>\n",
       "      <td>5.9700</td>\n",
       "      <td>12756</td>\n",
       "      <td>24.0</td>\n",
       "      <td>149.6</td>\n",
       "      <td>365.2</td>\n",
       "      <td>29.8</td>\n",
       "      <td>15</td>\n",
       "      <td>1.00000</td>\n",
       "      <td>1</td>\n",
       "      <td>No</td>\n",
       "      <td>Yes</td>\n",
       "      <td>NaN</td>\n",
       "      <td>NaN</td>\n",
       "    </tr>\n",
       "    <tr>\n",
       "      <th>3</th>\n",
       "      <td>MOON</td>\n",
       "      <td>0.0730</td>\n",
       "      <td>3475</td>\n",
       "      <td>708.7</td>\n",
       "      <td>NaN</td>\n",
       "      <td>27.3</td>\n",
       "      <td>1.0</td>\n",
       "      <td>-20</td>\n",
       "      <td>0.00000</td>\n",
       "      <td>0</td>\n",
       "      <td>No</td>\n",
       "      <td>No</td>\n",
       "      <td>1959-09-12</td>\n",
       "      <td>Luna 2</td>\n",
       "    </tr>\n",
       "    <tr>\n",
       "      <th>4</th>\n",
       "      <td>MARS</td>\n",
       "      <td>0.6420</td>\n",
       "      <td>6792</td>\n",
       "      <td>24.7</td>\n",
       "      <td>227.9</td>\n",
       "      <td>687.0</td>\n",
       "      <td>24.1</td>\n",
       "      <td>-65</td>\n",
       "      <td>0.01000</td>\n",
       "      <td>2</td>\n",
       "      <td>No</td>\n",
       "      <td>No</td>\n",
       "      <td>1965-07-15</td>\n",
       "      <td>Mariner 4</td>\n",
       "    </tr>\n",
       "    <tr>\n",
       "      <th>5</th>\n",
       "      <td>JUPITER</td>\n",
       "      <td>1898.0000</td>\n",
       "      <td>142984</td>\n",
       "      <td>9.9</td>\n",
       "      <td>778.6</td>\n",
       "      <td>4331.0</td>\n",
       "      <td>13.1</td>\n",
       "      <td>-110</td>\n",
       "      <td>NaN</td>\n",
       "      <td>67</td>\n",
       "      <td>Yes</td>\n",
       "      <td>Yes</td>\n",
       "      <td>1973-12-04</td>\n",
       "      <td>Pioneer 10</td>\n",
       "    </tr>\n",
       "    <tr>\n",
       "      <th>6</th>\n",
       "      <td>SATURN</td>\n",
       "      <td>568.0000</td>\n",
       "      <td>120536</td>\n",
       "      <td>10.7</td>\n",
       "      <td>1433.5</td>\n",
       "      <td>10747.0</td>\n",
       "      <td>9.7</td>\n",
       "      <td>-140</td>\n",
       "      <td>NaN</td>\n",
       "      <td>62</td>\n",
       "      <td>Yes</td>\n",
       "      <td>Yes</td>\n",
       "      <td>1979-09-01</td>\n",
       "      <td>Pioneer 11</td>\n",
       "    </tr>\n",
       "    <tr>\n",
       "      <th>7</th>\n",
       "      <td>URANUS</td>\n",
       "      <td>86.8000</td>\n",
       "      <td>51118</td>\n",
       "      <td>17.2</td>\n",
       "      <td>2872.5</td>\n",
       "      <td>30589.0</td>\n",
       "      <td>6.8</td>\n",
       "      <td>-195</td>\n",
       "      <td>NaN</td>\n",
       "      <td>27</td>\n",
       "      <td>Yes</td>\n",
       "      <td>Yes</td>\n",
       "      <td>1986-01-24</td>\n",
       "      <td>Voyager 2</td>\n",
       "    </tr>\n",
       "    <tr>\n",
       "      <th>8</th>\n",
       "      <td>NEPTUNE</td>\n",
       "      <td>102.0000</td>\n",
       "      <td>49528</td>\n",
       "      <td>16.1</td>\n",
       "      <td>4495.1</td>\n",
       "      <td>59800.0</td>\n",
       "      <td>5.4</td>\n",
       "      <td>-200</td>\n",
       "      <td>NaN</td>\n",
       "      <td>14</td>\n",
       "      <td>Yes</td>\n",
       "      <td>Yes</td>\n",
       "      <td>1989-08-25</td>\n",
       "      <td>Voyager 2</td>\n",
       "    </tr>\n",
       "    <tr>\n",
       "      <th>9</th>\n",
       "      <td>PLUTO</td>\n",
       "      <td>0.0146</td>\n",
       "      <td>2370</td>\n",
       "      <td>153.3</td>\n",
       "      <td>5906.4</td>\n",
       "      <td>90560.0</td>\n",
       "      <td>4.7</td>\n",
       "      <td>-225</td>\n",
       "      <td>0.00001</td>\n",
       "      <td>5</td>\n",
       "      <td>No</td>\n",
       "      <td>NaN</td>\n",
       "      <td>2015-07-14</td>\n",
       "      <td>New Horizons</td>\n",
       "    </tr>\n",
       "  </tbody>\n",
       "</table>\n",
       "</div>"
      ],
      "text/plain": [
       "    Planet       Mass  Diameter  DayLength  SunDistance  OrbitPeriod  \\\n",
       "0  MERCURY     0.3300      4879     4222.6         57.9         88.0   \n",
       "1    VENUS     4.8700     12104     2802.0        108.2        224.7   \n",
       "2    EARTH     5.9700     12756       24.0        149.6        365.2   \n",
       "3     MOON     0.0730      3475      708.7          NaN         27.3   \n",
       "4     MARS     0.6420      6792       24.7        227.9        687.0   \n",
       "5  JUPITER  1898.0000    142984        9.9        778.6       4331.0   \n",
       "6   SATURN   568.0000    120536       10.7       1433.5      10747.0   \n",
       "7   URANUS    86.8000     51118       17.2       2872.5      30589.0   \n",
       "8  NEPTUNE   102.0000     49528       16.1       4495.1      59800.0   \n",
       "9    PLUTO     0.0146      2370      153.3       5906.4      90560.0   \n",
       "\n",
       "   OrbitVelocity  MeanTemperature  SurfacePressure  Moons Rings MagneticField  \\\n",
       "0           47.4              167          0.00000      0    No           Yes   \n",
       "1           35.0              464         92.00000      0    No            No   \n",
       "2           29.8               15          1.00000      1    No           Yes   \n",
       "3            1.0              -20          0.00000      0    No            No   \n",
       "4           24.1              -65          0.01000      2    No            No   \n",
       "5           13.1             -110              NaN     67   Yes           Yes   \n",
       "6            9.7             -140              NaN     62   Yes           Yes   \n",
       "7            6.8             -195              NaN     27   Yes           Yes   \n",
       "8            5.4             -200              NaN     14   Yes           Yes   \n",
       "9            4.7             -225          0.00001      5    No           NaN   \n",
       "\n",
       "  FirstVisited  FirstMission  \n",
       "0   1974-03-29    Mariner 10  \n",
       "1   1962-08-27     Mariner 2  \n",
       "2          NaN           NaN  \n",
       "3   1959-09-12        Luna 2  \n",
       "4   1965-07-15     Mariner 4  \n",
       "5   1973-12-04    Pioneer 10  \n",
       "6   1979-09-01    Pioneer 11  \n",
       "7   1986-01-24     Voyager 2  \n",
       "8   1989-08-25     Voyager 2  \n",
       "9   2015-07-14  New Horizons  "
      ]
     },
     "execution_count": 4,
     "metadata": {},
     "output_type": "execute_result"
    }
   ],
   "source": [
    "planets"
   ]
  },
  {
   "cell_type": "code",
   "execution_count": 6,
   "metadata": {},
   "outputs": [
    {
     "data": {
      "text/plain": [
       "0       0.3300\n",
       "1       4.8700\n",
       "2       5.9700\n",
       "3       0.0730\n",
       "4       0.6420\n",
       "5    1898.0000\n",
       "6     568.0000\n",
       "7      86.8000\n",
       "8     102.0000\n",
       "9       0.0146\n",
       "Name: Mass, dtype: float64"
      ]
     },
     "execution_count": 6,
     "metadata": {},
     "output_type": "execute_result"
    }
   ],
   "source": [
    "planets['Mass']"
   ]
  },
  {
   "cell_type": "code",
   "execution_count": 7,
   "metadata": {},
   "outputs": [
    {
     "data": {
      "text/plain": [
       "0       0.3300\n",
       "1       4.8700\n",
       "2       5.9700\n",
       "3       0.0730\n",
       "4       0.6420\n",
       "5    1898.0000\n",
       "6     568.0000\n",
       "7      86.8000\n",
       "8     102.0000\n",
       "9       0.0146\n",
       "Name: Mass, dtype: float64"
      ]
     },
     "execution_count": 7,
     "metadata": {},
     "output_type": "execute_result"
    }
   ],
   "source": [
    "planets.Mass"
   ]
  },
  {
   "cell_type": "code",
   "execution_count": 8,
   "metadata": {},
   "outputs": [
    {
     "data": {
      "text/plain": [
       "RangeIndex(start=0, stop=10, step=1)"
      ]
     },
     "execution_count": 8,
     "metadata": {},
     "output_type": "execute_result"
    }
   ],
   "source": [
    "planets.index"
   ]
  },
  {
   "cell_type": "code",
   "execution_count": 9,
   "metadata": {},
   "outputs": [
    {
     "data": {
      "text/plain": [
       "Planet                MERCURY\n",
       "Mass                     0.33\n",
       "Diameter                 4879\n",
       "DayLength              4222.6\n",
       "SunDistance              57.9\n",
       "OrbitPeriod                88\n",
       "OrbitVelocity            47.4\n",
       "MeanTemperature           167\n",
       "SurfacePressure             0\n",
       "Moons                       0\n",
       "Rings                      No\n",
       "MagneticField             Yes\n",
       "FirstVisited       1974-03-29\n",
       "FirstMission       Mariner 10\n",
       "Name: 0, dtype: object"
      ]
     },
     "execution_count": 9,
     "metadata": {},
     "output_type": "execute_result"
    }
   ],
   "source": [
    "planets.loc[0]"
   ]
  },
  {
   "cell_type": "code",
   "execution_count": 10,
   "metadata": {},
   "outputs": [
    {
     "data": {
      "text/html": [
       "<div>\n",
       "<style scoped>\n",
       "    .dataframe tbody tr th:only-of-type {\n",
       "        vertical-align: middle;\n",
       "    }\n",
       "\n",
       "    .dataframe tbody tr th {\n",
       "        vertical-align: top;\n",
       "    }\n",
       "\n",
       "    .dataframe thead th {\n",
       "        text-align: right;\n",
       "    }\n",
       "</style>\n",
       "<table border=\"1\" class=\"dataframe\">\n",
       "  <thead>\n",
       "    <tr style=\"text-align: right;\">\n",
       "      <th></th>\n",
       "      <th>Mass</th>\n",
       "      <th>Diameter</th>\n",
       "      <th>DayLength</th>\n",
       "      <th>SunDistance</th>\n",
       "      <th>OrbitPeriod</th>\n",
       "      <th>OrbitVelocity</th>\n",
       "      <th>MeanTemperature</th>\n",
       "      <th>SurfacePressure</th>\n",
       "      <th>Moons</th>\n",
       "      <th>Rings</th>\n",
       "      <th>MagneticField</th>\n",
       "      <th>FirstVisited</th>\n",
       "      <th>FirstMission</th>\n",
       "    </tr>\n",
       "    <tr>\n",
       "      <th>Planet</th>\n",
       "      <th></th>\n",
       "      <th></th>\n",
       "      <th></th>\n",
       "      <th></th>\n",
       "      <th></th>\n",
       "      <th></th>\n",
       "      <th></th>\n",
       "      <th></th>\n",
       "      <th></th>\n",
       "      <th></th>\n",
       "      <th></th>\n",
       "      <th></th>\n",
       "      <th></th>\n",
       "    </tr>\n",
       "  </thead>\n",
       "  <tbody>\n",
       "    <tr>\n",
       "      <th>MERCURY</th>\n",
       "      <td>0.3300</td>\n",
       "      <td>4879</td>\n",
       "      <td>4222.6</td>\n",
       "      <td>57.9</td>\n",
       "      <td>88.0</td>\n",
       "      <td>47.4</td>\n",
       "      <td>167</td>\n",
       "      <td>0.00000</td>\n",
       "      <td>0</td>\n",
       "      <td>No</td>\n",
       "      <td>Yes</td>\n",
       "      <td>1974-03-29</td>\n",
       "      <td>Mariner 10</td>\n",
       "    </tr>\n",
       "    <tr>\n",
       "      <th>VENUS</th>\n",
       "      <td>4.8700</td>\n",
       "      <td>12104</td>\n",
       "      <td>2802.0</td>\n",
       "      <td>108.2</td>\n",
       "      <td>224.7</td>\n",
       "      <td>35.0</td>\n",
       "      <td>464</td>\n",
       "      <td>92.00000</td>\n",
       "      <td>0</td>\n",
       "      <td>No</td>\n",
       "      <td>No</td>\n",
       "      <td>1962-08-27</td>\n",
       "      <td>Mariner 2</td>\n",
       "    </tr>\n",
       "    <tr>\n",
       "      <th>EARTH</th>\n",
       "      <td>5.9700</td>\n",
       "      <td>12756</td>\n",
       "      <td>24.0</td>\n",
       "      <td>149.6</td>\n",
       "      <td>365.2</td>\n",
       "      <td>29.8</td>\n",
       "      <td>15</td>\n",
       "      <td>1.00000</td>\n",
       "      <td>1</td>\n",
       "      <td>No</td>\n",
       "      <td>Yes</td>\n",
       "      <td>NaN</td>\n",
       "      <td>NaN</td>\n",
       "    </tr>\n",
       "    <tr>\n",
       "      <th>MOON</th>\n",
       "      <td>0.0730</td>\n",
       "      <td>3475</td>\n",
       "      <td>708.7</td>\n",
       "      <td>NaN</td>\n",
       "      <td>27.3</td>\n",
       "      <td>1.0</td>\n",
       "      <td>-20</td>\n",
       "      <td>0.00000</td>\n",
       "      <td>0</td>\n",
       "      <td>No</td>\n",
       "      <td>No</td>\n",
       "      <td>1959-09-12</td>\n",
       "      <td>Luna 2</td>\n",
       "    </tr>\n",
       "    <tr>\n",
       "      <th>MARS</th>\n",
       "      <td>0.6420</td>\n",
       "      <td>6792</td>\n",
       "      <td>24.7</td>\n",
       "      <td>227.9</td>\n",
       "      <td>687.0</td>\n",
       "      <td>24.1</td>\n",
       "      <td>-65</td>\n",
       "      <td>0.01000</td>\n",
       "      <td>2</td>\n",
       "      <td>No</td>\n",
       "      <td>No</td>\n",
       "      <td>1965-07-15</td>\n",
       "      <td>Mariner 4</td>\n",
       "    </tr>\n",
       "    <tr>\n",
       "      <th>JUPITER</th>\n",
       "      <td>1898.0000</td>\n",
       "      <td>142984</td>\n",
       "      <td>9.9</td>\n",
       "      <td>778.6</td>\n",
       "      <td>4331.0</td>\n",
       "      <td>13.1</td>\n",
       "      <td>-110</td>\n",
       "      <td>NaN</td>\n",
       "      <td>67</td>\n",
       "      <td>Yes</td>\n",
       "      <td>Yes</td>\n",
       "      <td>1973-12-04</td>\n",
       "      <td>Pioneer 10</td>\n",
       "    </tr>\n",
       "    <tr>\n",
       "      <th>SATURN</th>\n",
       "      <td>568.0000</td>\n",
       "      <td>120536</td>\n",
       "      <td>10.7</td>\n",
       "      <td>1433.5</td>\n",
       "      <td>10747.0</td>\n",
       "      <td>9.7</td>\n",
       "      <td>-140</td>\n",
       "      <td>NaN</td>\n",
       "      <td>62</td>\n",
       "      <td>Yes</td>\n",
       "      <td>Yes</td>\n",
       "      <td>1979-09-01</td>\n",
       "      <td>Pioneer 11</td>\n",
       "    </tr>\n",
       "    <tr>\n",
       "      <th>URANUS</th>\n",
       "      <td>86.8000</td>\n",
       "      <td>51118</td>\n",
       "      <td>17.2</td>\n",
       "      <td>2872.5</td>\n",
       "      <td>30589.0</td>\n",
       "      <td>6.8</td>\n",
       "      <td>-195</td>\n",
       "      <td>NaN</td>\n",
       "      <td>27</td>\n",
       "      <td>Yes</td>\n",
       "      <td>Yes</td>\n",
       "      <td>1986-01-24</td>\n",
       "      <td>Voyager 2</td>\n",
       "    </tr>\n",
       "    <tr>\n",
       "      <th>NEPTUNE</th>\n",
       "      <td>102.0000</td>\n",
       "      <td>49528</td>\n",
       "      <td>16.1</td>\n",
       "      <td>4495.1</td>\n",
       "      <td>59800.0</td>\n",
       "      <td>5.4</td>\n",
       "      <td>-200</td>\n",
       "      <td>NaN</td>\n",
       "      <td>14</td>\n",
       "      <td>Yes</td>\n",
       "      <td>Yes</td>\n",
       "      <td>1989-08-25</td>\n",
       "      <td>Voyager 2</td>\n",
       "    </tr>\n",
       "    <tr>\n",
       "      <th>PLUTO</th>\n",
       "      <td>0.0146</td>\n",
       "      <td>2370</td>\n",
       "      <td>153.3</td>\n",
       "      <td>5906.4</td>\n",
       "      <td>90560.0</td>\n",
       "      <td>4.7</td>\n",
       "      <td>-225</td>\n",
       "      <td>0.00001</td>\n",
       "      <td>5</td>\n",
       "      <td>No</td>\n",
       "      <td>NaN</td>\n",
       "      <td>2015-07-14</td>\n",
       "      <td>New Horizons</td>\n",
       "    </tr>\n",
       "  </tbody>\n",
       "</table>\n",
       "</div>"
      ],
      "text/plain": [
       "              Mass  Diameter  DayLength  SunDistance  OrbitPeriod  \\\n",
       "Planet                                                              \n",
       "MERCURY     0.3300      4879     4222.6         57.9         88.0   \n",
       "VENUS       4.8700     12104     2802.0        108.2        224.7   \n",
       "EARTH       5.9700     12756       24.0        149.6        365.2   \n",
       "MOON        0.0730      3475      708.7          NaN         27.3   \n",
       "MARS        0.6420      6792       24.7        227.9        687.0   \n",
       "JUPITER  1898.0000    142984        9.9        778.6       4331.0   \n",
       "SATURN    568.0000    120536       10.7       1433.5      10747.0   \n",
       "URANUS     86.8000     51118       17.2       2872.5      30589.0   \n",
       "NEPTUNE   102.0000     49528       16.1       4495.1      59800.0   \n",
       "PLUTO       0.0146      2370      153.3       5906.4      90560.0   \n",
       "\n",
       "         OrbitVelocity  MeanTemperature  SurfacePressure  Moons Rings  \\\n",
       "Planet                                                                  \n",
       "MERCURY           47.4              167          0.00000      0    No   \n",
       "VENUS             35.0              464         92.00000      0    No   \n",
       "EARTH             29.8               15          1.00000      1    No   \n",
       "MOON               1.0              -20          0.00000      0    No   \n",
       "MARS              24.1              -65          0.01000      2    No   \n",
       "JUPITER           13.1             -110              NaN     67   Yes   \n",
       "SATURN             9.7             -140              NaN     62   Yes   \n",
       "URANUS             6.8             -195              NaN     27   Yes   \n",
       "NEPTUNE            5.4             -200              NaN     14   Yes   \n",
       "PLUTO              4.7             -225          0.00001      5    No   \n",
       "\n",
       "        MagneticField FirstVisited  FirstMission  \n",
       "Planet                                            \n",
       "MERCURY           Yes   1974-03-29    Mariner 10  \n",
       "VENUS              No   1962-08-27     Mariner 2  \n",
       "EARTH             Yes          NaN           NaN  \n",
       "MOON               No   1959-09-12        Luna 2  \n",
       "MARS               No   1965-07-15     Mariner 4  \n",
       "JUPITER           Yes   1973-12-04    Pioneer 10  \n",
       "SATURN            Yes   1979-09-01    Pioneer 11  \n",
       "URANUS            Yes   1986-01-24     Voyager 2  \n",
       "NEPTUNE           Yes   1989-08-25     Voyager 2  \n",
       "PLUTO             NaN   2015-07-14  New Horizons  "
      ]
     },
     "execution_count": 10,
     "metadata": {},
     "output_type": "execute_result"
    }
   ],
   "source": [
    "planets.set_index('Planet')"
   ]
  },
  {
   "cell_type": "code",
   "execution_count": 11,
   "metadata": {},
   "outputs": [],
   "source": [
    "another_data_planet = pd.read_csv('Planets.csv',usecols= [0,1,2,3])"
   ]
  },
  {
   "cell_type": "code",
   "execution_count": 12,
   "metadata": {},
   "outputs": [
    {
     "data": {
      "text/html": [
       "<div>\n",
       "<style scoped>\n",
       "    .dataframe tbody tr th:only-of-type {\n",
       "        vertical-align: middle;\n",
       "    }\n",
       "\n",
       "    .dataframe tbody tr th {\n",
       "        vertical-align: top;\n",
       "    }\n",
       "\n",
       "    .dataframe thead th {\n",
       "        text-align: right;\n",
       "    }\n",
       "</style>\n",
       "<table border=\"1\" class=\"dataframe\">\n",
       "  <thead>\n",
       "    <tr style=\"text-align: right;\">\n",
       "      <th></th>\n",
       "      <th>Planet</th>\n",
       "      <th>Mass</th>\n",
       "      <th>Diameter</th>\n",
       "      <th>DayLength</th>\n",
       "    </tr>\n",
       "  </thead>\n",
       "  <tbody>\n",
       "    <tr>\n",
       "      <th>0</th>\n",
       "      <td>MERCURY</td>\n",
       "      <td>0.3300</td>\n",
       "      <td>4879</td>\n",
       "      <td>4222.6</td>\n",
       "    </tr>\n",
       "    <tr>\n",
       "      <th>1</th>\n",
       "      <td>VENUS</td>\n",
       "      <td>4.8700</td>\n",
       "      <td>12104</td>\n",
       "      <td>2802.0</td>\n",
       "    </tr>\n",
       "    <tr>\n",
       "      <th>2</th>\n",
       "      <td>EARTH</td>\n",
       "      <td>5.9700</td>\n",
       "      <td>12756</td>\n",
       "      <td>24.0</td>\n",
       "    </tr>\n",
       "    <tr>\n",
       "      <th>3</th>\n",
       "      <td>MOON</td>\n",
       "      <td>0.0730</td>\n",
       "      <td>3475</td>\n",
       "      <td>708.7</td>\n",
       "    </tr>\n",
       "    <tr>\n",
       "      <th>4</th>\n",
       "      <td>MARS</td>\n",
       "      <td>0.6420</td>\n",
       "      <td>6792</td>\n",
       "      <td>24.7</td>\n",
       "    </tr>\n",
       "    <tr>\n",
       "      <th>5</th>\n",
       "      <td>JUPITER</td>\n",
       "      <td>1898.0000</td>\n",
       "      <td>142984</td>\n",
       "      <td>9.9</td>\n",
       "    </tr>\n",
       "    <tr>\n",
       "      <th>6</th>\n",
       "      <td>SATURN</td>\n",
       "      <td>568.0000</td>\n",
       "      <td>120536</td>\n",
       "      <td>10.7</td>\n",
       "    </tr>\n",
       "    <tr>\n",
       "      <th>7</th>\n",
       "      <td>URANUS</td>\n",
       "      <td>86.8000</td>\n",
       "      <td>51118</td>\n",
       "      <td>17.2</td>\n",
       "    </tr>\n",
       "    <tr>\n",
       "      <th>8</th>\n",
       "      <td>NEPTUNE</td>\n",
       "      <td>102.0000</td>\n",
       "      <td>49528</td>\n",
       "      <td>16.1</td>\n",
       "    </tr>\n",
       "    <tr>\n",
       "      <th>9</th>\n",
       "      <td>PLUTO</td>\n",
       "      <td>0.0146</td>\n",
       "      <td>2370</td>\n",
       "      <td>153.3</td>\n",
       "    </tr>\n",
       "  </tbody>\n",
       "</table>\n",
       "</div>"
      ],
      "text/plain": [
       "    Planet       Mass  Diameter  DayLength\n",
       "0  MERCURY     0.3300      4879     4222.6\n",
       "1    VENUS     4.8700     12104     2802.0\n",
       "2    EARTH     5.9700     12756       24.0\n",
       "3     MOON     0.0730      3475      708.7\n",
       "4     MARS     0.6420      6792       24.7\n",
       "5  JUPITER  1898.0000    142984        9.9\n",
       "6   SATURN   568.0000    120536       10.7\n",
       "7   URANUS    86.8000     51118       17.2\n",
       "8  NEPTUNE   102.0000     49528       16.1\n",
       "9    PLUTO     0.0146      2370      153.3"
      ]
     },
     "execution_count": 12,
     "metadata": {},
     "output_type": "execute_result"
    }
   ],
   "source": [
    "another_data_planet"
   ]
  },
  {
   "cell_type": "code",
   "execution_count": 13,
   "metadata": {},
   "outputs": [
    {
     "data": {
      "text/html": [
       "<div>\n",
       "<style scoped>\n",
       "    .dataframe tbody tr th:only-of-type {\n",
       "        vertical-align: middle;\n",
       "    }\n",
       "\n",
       "    .dataframe tbody tr th {\n",
       "        vertical-align: top;\n",
       "    }\n",
       "\n",
       "    .dataframe thead th {\n",
       "        text-align: right;\n",
       "    }\n",
       "</style>\n",
       "<table border=\"1\" class=\"dataframe\">\n",
       "  <thead>\n",
       "    <tr style=\"text-align: right;\">\n",
       "      <th></th>\n",
       "      <th>Planet</th>\n",
       "      <th>Mass</th>\n",
       "      <th>Diameter</th>\n",
       "      <th>DayLength</th>\n",
       "      <th>SunDistance</th>\n",
       "      <th>OrbitPeriod</th>\n",
       "      <th>OrbitVelocity</th>\n",
       "      <th>MeanTemperature</th>\n",
       "      <th>SurfacePressure</th>\n",
       "      <th>Moons</th>\n",
       "      <th>Rings</th>\n",
       "      <th>MagneticField</th>\n",
       "      <th>FirstVisited</th>\n",
       "      <th>FirstMission</th>\n",
       "    </tr>\n",
       "  </thead>\n",
       "  <tbody>\n",
       "    <tr>\n",
       "      <th>0</th>\n",
       "      <td>MERCURY</td>\n",
       "      <td>0.3300</td>\n",
       "      <td>4879</td>\n",
       "      <td>4222.6</td>\n",
       "      <td>57.9</td>\n",
       "      <td>88.0</td>\n",
       "      <td>47.4</td>\n",
       "      <td>167</td>\n",
       "      <td>0.00000</td>\n",
       "      <td>0</td>\n",
       "      <td>No</td>\n",
       "      <td>Yes</td>\n",
       "      <td>1974-03-29</td>\n",
       "      <td>Mariner 10</td>\n",
       "    </tr>\n",
       "    <tr>\n",
       "      <th>1</th>\n",
       "      <td>VENUS</td>\n",
       "      <td>4.8700</td>\n",
       "      <td>12104</td>\n",
       "      <td>2802.0</td>\n",
       "      <td>108.2</td>\n",
       "      <td>224.7</td>\n",
       "      <td>35.0</td>\n",
       "      <td>464</td>\n",
       "      <td>92.00000</td>\n",
       "      <td>0</td>\n",
       "      <td>No</td>\n",
       "      <td>No</td>\n",
       "      <td>1962-08-27</td>\n",
       "      <td>Mariner 2</td>\n",
       "    </tr>\n",
       "    <tr>\n",
       "      <th>2</th>\n",
       "      <td>EARTH</td>\n",
       "      <td>5.9700</td>\n",
       "      <td>12756</td>\n",
       "      <td>24.0</td>\n",
       "      <td>149.6</td>\n",
       "      <td>365.2</td>\n",
       "      <td>29.8</td>\n",
       "      <td>15</td>\n",
       "      <td>1.00000</td>\n",
       "      <td>1</td>\n",
       "      <td>No</td>\n",
       "      <td>Yes</td>\n",
       "      <td>NaN</td>\n",
       "      <td>NaN</td>\n",
       "    </tr>\n",
       "    <tr>\n",
       "      <th>3</th>\n",
       "      <td>MOON</td>\n",
       "      <td>0.0730</td>\n",
       "      <td>3475</td>\n",
       "      <td>708.7</td>\n",
       "      <td>NaN</td>\n",
       "      <td>27.3</td>\n",
       "      <td>1.0</td>\n",
       "      <td>-20</td>\n",
       "      <td>0.00000</td>\n",
       "      <td>0</td>\n",
       "      <td>No</td>\n",
       "      <td>No</td>\n",
       "      <td>1959-09-12</td>\n",
       "      <td>Luna 2</td>\n",
       "    </tr>\n",
       "    <tr>\n",
       "      <th>4</th>\n",
       "      <td>MARS</td>\n",
       "      <td>0.6420</td>\n",
       "      <td>6792</td>\n",
       "      <td>24.7</td>\n",
       "      <td>227.9</td>\n",
       "      <td>687.0</td>\n",
       "      <td>24.1</td>\n",
       "      <td>-65</td>\n",
       "      <td>0.01000</td>\n",
       "      <td>2</td>\n",
       "      <td>No</td>\n",
       "      <td>No</td>\n",
       "      <td>1965-07-15</td>\n",
       "      <td>Mariner 4</td>\n",
       "    </tr>\n",
       "    <tr>\n",
       "      <th>5</th>\n",
       "      <td>JUPITER</td>\n",
       "      <td>1898.0000</td>\n",
       "      <td>142984</td>\n",
       "      <td>9.9</td>\n",
       "      <td>778.6</td>\n",
       "      <td>4331.0</td>\n",
       "      <td>13.1</td>\n",
       "      <td>-110</td>\n",
       "      <td>NaN</td>\n",
       "      <td>67</td>\n",
       "      <td>Yes</td>\n",
       "      <td>Yes</td>\n",
       "      <td>1973-12-04</td>\n",
       "      <td>Pioneer 10</td>\n",
       "    </tr>\n",
       "    <tr>\n",
       "      <th>6</th>\n",
       "      <td>SATURN</td>\n",
       "      <td>568.0000</td>\n",
       "      <td>120536</td>\n",
       "      <td>10.7</td>\n",
       "      <td>1433.5</td>\n",
       "      <td>10747.0</td>\n",
       "      <td>9.7</td>\n",
       "      <td>-140</td>\n",
       "      <td>NaN</td>\n",
       "      <td>62</td>\n",
       "      <td>Yes</td>\n",
       "      <td>Yes</td>\n",
       "      <td>1979-09-01</td>\n",
       "      <td>Pioneer 11</td>\n",
       "    </tr>\n",
       "    <tr>\n",
       "      <th>7</th>\n",
       "      <td>URANUS</td>\n",
       "      <td>86.8000</td>\n",
       "      <td>51118</td>\n",
       "      <td>17.2</td>\n",
       "      <td>2872.5</td>\n",
       "      <td>30589.0</td>\n",
       "      <td>6.8</td>\n",
       "      <td>-195</td>\n",
       "      <td>NaN</td>\n",
       "      <td>27</td>\n",
       "      <td>Yes</td>\n",
       "      <td>Yes</td>\n",
       "      <td>1986-01-24</td>\n",
       "      <td>Voyager 2</td>\n",
       "    </tr>\n",
       "    <tr>\n",
       "      <th>8</th>\n",
       "      <td>NEPTUNE</td>\n",
       "      <td>102.0000</td>\n",
       "      <td>49528</td>\n",
       "      <td>16.1</td>\n",
       "      <td>4495.1</td>\n",
       "      <td>59800.0</td>\n",
       "      <td>5.4</td>\n",
       "      <td>-200</td>\n",
       "      <td>NaN</td>\n",
       "      <td>14</td>\n",
       "      <td>Yes</td>\n",
       "      <td>Yes</td>\n",
       "      <td>1989-08-25</td>\n",
       "      <td>Voyager 2</td>\n",
       "    </tr>\n",
       "    <tr>\n",
       "      <th>9</th>\n",
       "      <td>PLUTO</td>\n",
       "      <td>0.0146</td>\n",
       "      <td>2370</td>\n",
       "      <td>153.3</td>\n",
       "      <td>5906.4</td>\n",
       "      <td>90560.0</td>\n",
       "      <td>4.7</td>\n",
       "      <td>-225</td>\n",
       "      <td>0.00001</td>\n",
       "      <td>5</td>\n",
       "      <td>No</td>\n",
       "      <td>NaN</td>\n",
       "      <td>2015-07-14</td>\n",
       "      <td>New Horizons</td>\n",
       "    </tr>\n",
       "  </tbody>\n",
       "</table>\n",
       "</div>"
      ],
      "text/plain": [
       "    Planet       Mass  Diameter  DayLength  SunDistance  OrbitPeriod  \\\n",
       "0  MERCURY     0.3300      4879     4222.6         57.9         88.0   \n",
       "1    VENUS     4.8700     12104     2802.0        108.2        224.7   \n",
       "2    EARTH     5.9700     12756       24.0        149.6        365.2   \n",
       "3     MOON     0.0730      3475      708.7          NaN         27.3   \n",
       "4     MARS     0.6420      6792       24.7        227.9        687.0   \n",
       "5  JUPITER  1898.0000    142984        9.9        778.6       4331.0   \n",
       "6   SATURN   568.0000    120536       10.7       1433.5      10747.0   \n",
       "7   URANUS    86.8000     51118       17.2       2872.5      30589.0   \n",
       "8  NEPTUNE   102.0000     49528       16.1       4495.1      59800.0   \n",
       "9    PLUTO     0.0146      2370      153.3       5906.4      90560.0   \n",
       "\n",
       "   OrbitVelocity  MeanTemperature  SurfacePressure  Moons Rings MagneticField  \\\n",
       "0           47.4              167          0.00000      0    No           Yes   \n",
       "1           35.0              464         92.00000      0    No            No   \n",
       "2           29.8               15          1.00000      1    No           Yes   \n",
       "3            1.0              -20          0.00000      0    No            No   \n",
       "4           24.1              -65          0.01000      2    No            No   \n",
       "5           13.1             -110              NaN     67   Yes           Yes   \n",
       "6            9.7             -140              NaN     62   Yes           Yes   \n",
       "7            6.8             -195              NaN     27   Yes           Yes   \n",
       "8            5.4             -200              NaN     14   Yes           Yes   \n",
       "9            4.7             -225          0.00001      5    No           NaN   \n",
       "\n",
       "  FirstVisited  FirstMission  \n",
       "0   1974-03-29    Mariner 10  \n",
       "1   1962-08-27     Mariner 2  \n",
       "2          NaN           NaN  \n",
       "3   1959-09-12        Luna 2  \n",
       "4   1965-07-15     Mariner 4  \n",
       "5   1973-12-04    Pioneer 10  \n",
       "6   1979-09-01    Pioneer 11  \n",
       "7   1986-01-24     Voyager 2  \n",
       "8   1989-08-25     Voyager 2  \n",
       "9   2015-07-14  New Horizons  "
      ]
     },
     "execution_count": 13,
     "metadata": {},
     "output_type": "execute_result"
    }
   ],
   "source": [
    "planets"
   ]
  },
  {
   "cell_type": "code",
   "execution_count": 14,
   "metadata": {},
   "outputs": [
    {
     "name": "stdout",
     "output_type": "stream",
     "text": [
      "<class 'pandas.core.frame.DataFrame'>\n",
      "RangeIndex: 10 entries, 0 to 9\n",
      "Data columns (total 14 columns):\n",
      "Planet             10 non-null object\n",
      "Mass               10 non-null float64\n",
      "Diameter           10 non-null int64\n",
      "DayLength          10 non-null float64\n",
      "SunDistance        9 non-null float64\n",
      "OrbitPeriod        10 non-null float64\n",
      "OrbitVelocity      10 non-null float64\n",
      "MeanTemperature    10 non-null int64\n",
      "SurfacePressure    6 non-null float64\n",
      "Moons              10 non-null int64\n",
      "Rings              10 non-null object\n",
      "MagneticField      9 non-null object\n",
      "FirstVisited       9 non-null object\n",
      "FirstMission       9 non-null object\n",
      "dtypes: float64(6), int64(3), object(5)\n",
      "memory usage: 1.2+ KB\n"
     ]
    }
   ],
   "source": [
    "planets.info()"
   ]
  },
  {
   "cell_type": "code",
   "execution_count": 15,
   "metadata": {},
   "outputs": [
    {
     "data": {
      "text/plain": [
       "10"
      ]
     },
     "execution_count": 15,
     "metadata": {},
     "output_type": "execute_result"
    }
   ],
   "source": [
    "len(planets)"
   ]
  },
  {
   "cell_type": "code",
   "execution_count": 25,
   "metadata": {},
   "outputs": [],
   "source": [
    "planets = planets.set_index('Planet')"
   ]
  },
  {
   "cell_type": "code",
   "execution_count": 26,
   "metadata": {},
   "outputs": [
    {
     "data": {
      "text/plain": [
       "Mass                     0.33\n",
       "Diameter                 4879\n",
       "DayLength              4222.6\n",
       "SunDistance              57.9\n",
       "OrbitPeriod                88\n",
       "OrbitVelocity            47.4\n",
       "MeanTemperature           167\n",
       "SurfacePressure             0\n",
       "Moons                       0\n",
       "Rings                      No\n",
       "MagneticField             Yes\n",
       "FirstVisited       1974-03-29\n",
       "FirstMission       Mariner 10\n",
       "Name: MERCURY, dtype: object"
      ]
     },
     "execution_count": 26,
     "metadata": {},
     "output_type": "execute_result"
    }
   ],
   "source": [
    "planets.loc['MERCURY']"
   ]
  },
  {
   "cell_type": "code",
   "execution_count": 27,
   "metadata": {},
   "outputs": [
    {
     "data": {
      "text/html": [
       "<div>\n",
       "<style scoped>\n",
       "    .dataframe tbody tr th:only-of-type {\n",
       "        vertical-align: middle;\n",
       "    }\n",
       "\n",
       "    .dataframe tbody tr th {\n",
       "        vertical-align: top;\n",
       "    }\n",
       "\n",
       "    .dataframe thead th {\n",
       "        text-align: right;\n",
       "    }\n",
       "</style>\n",
       "<table border=\"1\" class=\"dataframe\">\n",
       "  <thead>\n",
       "    <tr style=\"text-align: right;\">\n",
       "      <th></th>\n",
       "      <th>Mass</th>\n",
       "      <th>Diameter</th>\n",
       "      <th>DayLength</th>\n",
       "      <th>SunDistance</th>\n",
       "      <th>OrbitPeriod</th>\n",
       "      <th>OrbitVelocity</th>\n",
       "      <th>MeanTemperature</th>\n",
       "      <th>SurfacePressure</th>\n",
       "      <th>Moons</th>\n",
       "      <th>Rings</th>\n",
       "      <th>MagneticField</th>\n",
       "      <th>FirstVisited</th>\n",
       "      <th>FirstMission</th>\n",
       "    </tr>\n",
       "    <tr>\n",
       "      <th>Planet</th>\n",
       "      <th></th>\n",
       "      <th></th>\n",
       "      <th></th>\n",
       "      <th></th>\n",
       "      <th></th>\n",
       "      <th></th>\n",
       "      <th></th>\n",
       "      <th></th>\n",
       "      <th></th>\n",
       "      <th></th>\n",
       "      <th></th>\n",
       "      <th></th>\n",
       "      <th></th>\n",
       "    </tr>\n",
       "  </thead>\n",
       "  <tbody>\n",
       "    <tr>\n",
       "      <th>MERCURY</th>\n",
       "      <td>0.33</td>\n",
       "      <td>4879</td>\n",
       "      <td>4222.6</td>\n",
       "      <td>57.9</td>\n",
       "      <td>88.0</td>\n",
       "      <td>47.4</td>\n",
       "      <td>167</td>\n",
       "      <td>0.0</td>\n",
       "      <td>0</td>\n",
       "      <td>No</td>\n",
       "      <td>Yes</td>\n",
       "      <td>1974-03-29</td>\n",
       "      <td>Mariner 10</td>\n",
       "    </tr>\n",
       "    <tr>\n",
       "      <th>VENUS</th>\n",
       "      <td>4.87</td>\n",
       "      <td>12104</td>\n",
       "      <td>2802.0</td>\n",
       "      <td>108.2</td>\n",
       "      <td>224.7</td>\n",
       "      <td>35.0</td>\n",
       "      <td>464</td>\n",
       "      <td>92.0</td>\n",
       "      <td>0</td>\n",
       "      <td>No</td>\n",
       "      <td>No</td>\n",
       "      <td>1962-08-27</td>\n",
       "      <td>Mariner 2</td>\n",
       "    </tr>\n",
       "    <tr>\n",
       "      <th>EARTH</th>\n",
       "      <td>5.97</td>\n",
       "      <td>12756</td>\n",
       "      <td>24.0</td>\n",
       "      <td>149.6</td>\n",
       "      <td>365.2</td>\n",
       "      <td>29.8</td>\n",
       "      <td>15</td>\n",
       "      <td>1.0</td>\n",
       "      <td>1</td>\n",
       "      <td>No</td>\n",
       "      <td>Yes</td>\n",
       "      <td>NaN</td>\n",
       "      <td>NaN</td>\n",
       "    </tr>\n",
       "  </tbody>\n",
       "</table>\n",
       "</div>"
      ],
      "text/plain": [
       "         Mass  Diameter  DayLength  SunDistance  OrbitPeriod  OrbitVelocity  \\\n",
       "Planet                                                                        \n",
       "MERCURY  0.33      4879     4222.6         57.9         88.0           47.4   \n",
       "VENUS    4.87     12104     2802.0        108.2        224.7           35.0   \n",
       "EARTH    5.97     12756       24.0        149.6        365.2           29.8   \n",
       "\n",
       "         MeanTemperature  SurfacePressure  Moons Rings MagneticField  \\\n",
       "Planet                                                                 \n",
       "MERCURY              167              0.0      0    No           Yes   \n",
       "VENUS                464             92.0      0    No            No   \n",
       "EARTH                 15              1.0      1    No           Yes   \n",
       "\n",
       "        FirstVisited FirstMission  \n",
       "Planet                             \n",
       "MERCURY   1974-03-29   Mariner 10  \n",
       "VENUS     1962-08-27    Mariner 2  \n",
       "EARTH            NaN          NaN  "
      ]
     },
     "execution_count": 27,
     "metadata": {},
     "output_type": "execute_result"
    }
   ],
   "source": [
    "planets.loc['MERCURY':'EARTH']"
   ]
  },
  {
   "cell_type": "code",
   "execution_count": 30,
   "metadata": {},
   "outputs": [
    {
     "data": {
      "text/plain": [
       "Index([u'Mass', u'Diameter', u'DayLength', u'SunDistance', u'OrbitPeriod',\n",
       "       u'OrbitVelocity', u'MeanTemperature', u'SurfacePressure', u'Moons',\n",
       "       u'Rings', u'MagneticField', u'FirstVisited', u'FirstMission'],\n",
       "      dtype='object')"
      ]
     },
     "execution_count": 30,
     "metadata": {},
     "output_type": "execute_result"
    }
   ],
   "source": [
    "planets.columns"
   ]
  },
  {
   "cell_type": "code",
   "execution_count": 31,
   "metadata": {},
   "outputs": [],
   "source": [
    "planets = pd.read_csv('Planets.csv')"
   ]
  },
  {
   "cell_type": "code",
   "execution_count": 32,
   "metadata": {},
   "outputs": [
    {
     "data": {
      "text/html": [
       "<div>\n",
       "<style scoped>\n",
       "    .dataframe tbody tr th:only-of-type {\n",
       "        vertical-align: middle;\n",
       "    }\n",
       "\n",
       "    .dataframe tbody tr th {\n",
       "        vertical-align: top;\n",
       "    }\n",
       "\n",
       "    .dataframe thead th {\n",
       "        text-align: right;\n",
       "    }\n",
       "</style>\n",
       "<table border=\"1\" class=\"dataframe\">\n",
       "  <thead>\n",
       "    <tr style=\"text-align: right;\">\n",
       "      <th></th>\n",
       "      <th>Planet</th>\n",
       "      <th>Mass</th>\n",
       "      <th>Diameter</th>\n",
       "      <th>DayLength</th>\n",
       "      <th>SunDistance</th>\n",
       "      <th>OrbitPeriod</th>\n",
       "      <th>OrbitVelocity</th>\n",
       "      <th>MeanTemperature</th>\n",
       "      <th>SurfacePressure</th>\n",
       "      <th>Moons</th>\n",
       "      <th>Rings</th>\n",
       "      <th>MagneticField</th>\n",
       "      <th>FirstVisited</th>\n",
       "      <th>FirstMission</th>\n",
       "    </tr>\n",
       "  </thead>\n",
       "  <tbody>\n",
       "    <tr>\n",
       "      <th>0</th>\n",
       "      <td>MERCURY</td>\n",
       "      <td>0.3300</td>\n",
       "      <td>4879</td>\n",
       "      <td>4222.6</td>\n",
       "      <td>57.9</td>\n",
       "      <td>88.0</td>\n",
       "      <td>47.4</td>\n",
       "      <td>167</td>\n",
       "      <td>0.00000</td>\n",
       "      <td>0</td>\n",
       "      <td>No</td>\n",
       "      <td>Yes</td>\n",
       "      <td>1974-03-29</td>\n",
       "      <td>Mariner 10</td>\n",
       "    </tr>\n",
       "    <tr>\n",
       "      <th>1</th>\n",
       "      <td>VENUS</td>\n",
       "      <td>4.8700</td>\n",
       "      <td>12104</td>\n",
       "      <td>2802.0</td>\n",
       "      <td>108.2</td>\n",
       "      <td>224.7</td>\n",
       "      <td>35.0</td>\n",
       "      <td>464</td>\n",
       "      <td>92.00000</td>\n",
       "      <td>0</td>\n",
       "      <td>No</td>\n",
       "      <td>No</td>\n",
       "      <td>1962-08-27</td>\n",
       "      <td>Mariner 2</td>\n",
       "    </tr>\n",
       "    <tr>\n",
       "      <th>2</th>\n",
       "      <td>EARTH</td>\n",
       "      <td>5.9700</td>\n",
       "      <td>12756</td>\n",
       "      <td>24.0</td>\n",
       "      <td>149.6</td>\n",
       "      <td>365.2</td>\n",
       "      <td>29.8</td>\n",
       "      <td>15</td>\n",
       "      <td>1.00000</td>\n",
       "      <td>1</td>\n",
       "      <td>No</td>\n",
       "      <td>Yes</td>\n",
       "      <td>NaN</td>\n",
       "      <td>NaN</td>\n",
       "    </tr>\n",
       "    <tr>\n",
       "      <th>3</th>\n",
       "      <td>MOON</td>\n",
       "      <td>0.0730</td>\n",
       "      <td>3475</td>\n",
       "      <td>708.7</td>\n",
       "      <td>NaN</td>\n",
       "      <td>27.3</td>\n",
       "      <td>1.0</td>\n",
       "      <td>-20</td>\n",
       "      <td>0.00000</td>\n",
       "      <td>0</td>\n",
       "      <td>No</td>\n",
       "      <td>No</td>\n",
       "      <td>1959-09-12</td>\n",
       "      <td>Luna 2</td>\n",
       "    </tr>\n",
       "    <tr>\n",
       "      <th>4</th>\n",
       "      <td>MARS</td>\n",
       "      <td>0.6420</td>\n",
       "      <td>6792</td>\n",
       "      <td>24.7</td>\n",
       "      <td>227.9</td>\n",
       "      <td>687.0</td>\n",
       "      <td>24.1</td>\n",
       "      <td>-65</td>\n",
       "      <td>0.01000</td>\n",
       "      <td>2</td>\n",
       "      <td>No</td>\n",
       "      <td>No</td>\n",
       "      <td>1965-07-15</td>\n",
       "      <td>Mariner 4</td>\n",
       "    </tr>\n",
       "    <tr>\n",
       "      <th>5</th>\n",
       "      <td>JUPITER</td>\n",
       "      <td>1898.0000</td>\n",
       "      <td>142984</td>\n",
       "      <td>9.9</td>\n",
       "      <td>778.6</td>\n",
       "      <td>4331.0</td>\n",
       "      <td>13.1</td>\n",
       "      <td>-110</td>\n",
       "      <td>NaN</td>\n",
       "      <td>67</td>\n",
       "      <td>Yes</td>\n",
       "      <td>Yes</td>\n",
       "      <td>1973-12-04</td>\n",
       "      <td>Pioneer 10</td>\n",
       "    </tr>\n",
       "    <tr>\n",
       "      <th>6</th>\n",
       "      <td>SATURN</td>\n",
       "      <td>568.0000</td>\n",
       "      <td>120536</td>\n",
       "      <td>10.7</td>\n",
       "      <td>1433.5</td>\n",
       "      <td>10747.0</td>\n",
       "      <td>9.7</td>\n",
       "      <td>-140</td>\n",
       "      <td>NaN</td>\n",
       "      <td>62</td>\n",
       "      <td>Yes</td>\n",
       "      <td>Yes</td>\n",
       "      <td>1979-09-01</td>\n",
       "      <td>Pioneer 11</td>\n",
       "    </tr>\n",
       "    <tr>\n",
       "      <th>7</th>\n",
       "      <td>URANUS</td>\n",
       "      <td>86.8000</td>\n",
       "      <td>51118</td>\n",
       "      <td>17.2</td>\n",
       "      <td>2872.5</td>\n",
       "      <td>30589.0</td>\n",
       "      <td>6.8</td>\n",
       "      <td>-195</td>\n",
       "      <td>NaN</td>\n",
       "      <td>27</td>\n",
       "      <td>Yes</td>\n",
       "      <td>Yes</td>\n",
       "      <td>1986-01-24</td>\n",
       "      <td>Voyager 2</td>\n",
       "    </tr>\n",
       "    <tr>\n",
       "      <th>8</th>\n",
       "      <td>NEPTUNE</td>\n",
       "      <td>102.0000</td>\n",
       "      <td>49528</td>\n",
       "      <td>16.1</td>\n",
       "      <td>4495.1</td>\n",
       "      <td>59800.0</td>\n",
       "      <td>5.4</td>\n",
       "      <td>-200</td>\n",
       "      <td>NaN</td>\n",
       "      <td>14</td>\n",
       "      <td>Yes</td>\n",
       "      <td>Yes</td>\n",
       "      <td>1989-08-25</td>\n",
       "      <td>Voyager 2</td>\n",
       "    </tr>\n",
       "    <tr>\n",
       "      <th>9</th>\n",
       "      <td>PLUTO</td>\n",
       "      <td>0.0146</td>\n",
       "      <td>2370</td>\n",
       "      <td>153.3</td>\n",
       "      <td>5906.4</td>\n",
       "      <td>90560.0</td>\n",
       "      <td>4.7</td>\n",
       "      <td>-225</td>\n",
       "      <td>0.00001</td>\n",
       "      <td>5</td>\n",
       "      <td>No</td>\n",
       "      <td>NaN</td>\n",
       "      <td>2015-07-14</td>\n",
       "      <td>New Horizons</td>\n",
       "    </tr>\n",
       "  </tbody>\n",
       "</table>\n",
       "</div>"
      ],
      "text/plain": [
       "    Planet       Mass  Diameter  DayLength  SunDistance  OrbitPeriod  \\\n",
       "0  MERCURY     0.3300      4879     4222.6         57.9         88.0   \n",
       "1    VENUS     4.8700     12104     2802.0        108.2        224.7   \n",
       "2    EARTH     5.9700     12756       24.0        149.6        365.2   \n",
       "3     MOON     0.0730      3475      708.7          NaN         27.3   \n",
       "4     MARS     0.6420      6792       24.7        227.9        687.0   \n",
       "5  JUPITER  1898.0000    142984        9.9        778.6       4331.0   \n",
       "6   SATURN   568.0000    120536       10.7       1433.5      10747.0   \n",
       "7   URANUS    86.8000     51118       17.2       2872.5      30589.0   \n",
       "8  NEPTUNE   102.0000     49528       16.1       4495.1      59800.0   \n",
       "9    PLUTO     0.0146      2370      153.3       5906.4      90560.0   \n",
       "\n",
       "   OrbitVelocity  MeanTemperature  SurfacePressure  Moons Rings MagneticField  \\\n",
       "0           47.4              167          0.00000      0    No           Yes   \n",
       "1           35.0              464         92.00000      0    No            No   \n",
       "2           29.8               15          1.00000      1    No           Yes   \n",
       "3            1.0              -20          0.00000      0    No            No   \n",
       "4           24.1              -65          0.01000      2    No            No   \n",
       "5           13.1             -110              NaN     67   Yes           Yes   \n",
       "6            9.7             -140              NaN     62   Yes           Yes   \n",
       "7            6.8             -195              NaN     27   Yes           Yes   \n",
       "8            5.4             -200              NaN     14   Yes           Yes   \n",
       "9            4.7             -225          0.00001      5    No           NaN   \n",
       "\n",
       "  FirstVisited  FirstMission  \n",
       "0   1974-03-29    Mariner 10  \n",
       "1   1962-08-27     Mariner 2  \n",
       "2          NaN           NaN  \n",
       "3   1959-09-12        Luna 2  \n",
       "4   1965-07-15     Mariner 4  \n",
       "5   1973-12-04    Pioneer 10  \n",
       "6   1979-09-01    Pioneer 11  \n",
       "7   1986-01-24     Voyager 2  \n",
       "8   1989-08-25     Voyager 2  \n",
       "9   2015-07-14  New Horizons  "
      ]
     },
     "execution_count": 32,
     "metadata": {},
     "output_type": "execute_result"
    }
   ],
   "source": [
    "planets"
   ]
  },
  {
   "cell_type": "code",
   "execution_count": 33,
   "metadata": {},
   "outputs": [],
   "source": [
    "planets.set_index('Planet',inplace=True)"
   ]
  },
  {
   "cell_type": "code",
   "execution_count": 34,
   "metadata": {},
   "outputs": [
    {
     "data": {
      "text/html": [
       "<div>\n",
       "<style scoped>\n",
       "    .dataframe tbody tr th:only-of-type {\n",
       "        vertical-align: middle;\n",
       "    }\n",
       "\n",
       "    .dataframe tbody tr th {\n",
       "        vertical-align: top;\n",
       "    }\n",
       "\n",
       "    .dataframe thead th {\n",
       "        text-align: right;\n",
       "    }\n",
       "</style>\n",
       "<table border=\"1\" class=\"dataframe\">\n",
       "  <thead>\n",
       "    <tr style=\"text-align: right;\">\n",
       "      <th></th>\n",
       "      <th>Mass</th>\n",
       "      <th>Diameter</th>\n",
       "      <th>DayLength</th>\n",
       "      <th>SunDistance</th>\n",
       "      <th>OrbitPeriod</th>\n",
       "      <th>OrbitVelocity</th>\n",
       "      <th>MeanTemperature</th>\n",
       "      <th>SurfacePressure</th>\n",
       "      <th>Moons</th>\n",
       "      <th>Rings</th>\n",
       "      <th>MagneticField</th>\n",
       "      <th>FirstVisited</th>\n",
       "      <th>FirstMission</th>\n",
       "    </tr>\n",
       "    <tr>\n",
       "      <th>Planet</th>\n",
       "      <th></th>\n",
       "      <th></th>\n",
       "      <th></th>\n",
       "      <th></th>\n",
       "      <th></th>\n",
       "      <th></th>\n",
       "      <th></th>\n",
       "      <th></th>\n",
       "      <th></th>\n",
       "      <th></th>\n",
       "      <th></th>\n",
       "      <th></th>\n",
       "      <th></th>\n",
       "    </tr>\n",
       "  </thead>\n",
       "  <tbody>\n",
       "    <tr>\n",
       "      <th>MERCURY</th>\n",
       "      <td>0.3300</td>\n",
       "      <td>4879</td>\n",
       "      <td>4222.6</td>\n",
       "      <td>57.9</td>\n",
       "      <td>88.0</td>\n",
       "      <td>47.4</td>\n",
       "      <td>167</td>\n",
       "      <td>0.00000</td>\n",
       "      <td>0</td>\n",
       "      <td>No</td>\n",
       "      <td>Yes</td>\n",
       "      <td>1974-03-29</td>\n",
       "      <td>Mariner 10</td>\n",
       "    </tr>\n",
       "    <tr>\n",
       "      <th>VENUS</th>\n",
       "      <td>4.8700</td>\n",
       "      <td>12104</td>\n",
       "      <td>2802.0</td>\n",
       "      <td>108.2</td>\n",
       "      <td>224.7</td>\n",
       "      <td>35.0</td>\n",
       "      <td>464</td>\n",
       "      <td>92.00000</td>\n",
       "      <td>0</td>\n",
       "      <td>No</td>\n",
       "      <td>No</td>\n",
       "      <td>1962-08-27</td>\n",
       "      <td>Mariner 2</td>\n",
       "    </tr>\n",
       "    <tr>\n",
       "      <th>EARTH</th>\n",
       "      <td>5.9700</td>\n",
       "      <td>12756</td>\n",
       "      <td>24.0</td>\n",
       "      <td>149.6</td>\n",
       "      <td>365.2</td>\n",
       "      <td>29.8</td>\n",
       "      <td>15</td>\n",
       "      <td>1.00000</td>\n",
       "      <td>1</td>\n",
       "      <td>No</td>\n",
       "      <td>Yes</td>\n",
       "      <td>NaN</td>\n",
       "      <td>NaN</td>\n",
       "    </tr>\n",
       "    <tr>\n",
       "      <th>MOON</th>\n",
       "      <td>0.0730</td>\n",
       "      <td>3475</td>\n",
       "      <td>708.7</td>\n",
       "      <td>NaN</td>\n",
       "      <td>27.3</td>\n",
       "      <td>1.0</td>\n",
       "      <td>-20</td>\n",
       "      <td>0.00000</td>\n",
       "      <td>0</td>\n",
       "      <td>No</td>\n",
       "      <td>No</td>\n",
       "      <td>1959-09-12</td>\n",
       "      <td>Luna 2</td>\n",
       "    </tr>\n",
       "    <tr>\n",
       "      <th>MARS</th>\n",
       "      <td>0.6420</td>\n",
       "      <td>6792</td>\n",
       "      <td>24.7</td>\n",
       "      <td>227.9</td>\n",
       "      <td>687.0</td>\n",
       "      <td>24.1</td>\n",
       "      <td>-65</td>\n",
       "      <td>0.01000</td>\n",
       "      <td>2</td>\n",
       "      <td>No</td>\n",
       "      <td>No</td>\n",
       "      <td>1965-07-15</td>\n",
       "      <td>Mariner 4</td>\n",
       "    </tr>\n",
       "    <tr>\n",
       "      <th>JUPITER</th>\n",
       "      <td>1898.0000</td>\n",
       "      <td>142984</td>\n",
       "      <td>9.9</td>\n",
       "      <td>778.6</td>\n",
       "      <td>4331.0</td>\n",
       "      <td>13.1</td>\n",
       "      <td>-110</td>\n",
       "      <td>NaN</td>\n",
       "      <td>67</td>\n",
       "      <td>Yes</td>\n",
       "      <td>Yes</td>\n",
       "      <td>1973-12-04</td>\n",
       "      <td>Pioneer 10</td>\n",
       "    </tr>\n",
       "    <tr>\n",
       "      <th>SATURN</th>\n",
       "      <td>568.0000</td>\n",
       "      <td>120536</td>\n",
       "      <td>10.7</td>\n",
       "      <td>1433.5</td>\n",
       "      <td>10747.0</td>\n",
       "      <td>9.7</td>\n",
       "      <td>-140</td>\n",
       "      <td>NaN</td>\n",
       "      <td>62</td>\n",
       "      <td>Yes</td>\n",
       "      <td>Yes</td>\n",
       "      <td>1979-09-01</td>\n",
       "      <td>Pioneer 11</td>\n",
       "    </tr>\n",
       "    <tr>\n",
       "      <th>URANUS</th>\n",
       "      <td>86.8000</td>\n",
       "      <td>51118</td>\n",
       "      <td>17.2</td>\n",
       "      <td>2872.5</td>\n",
       "      <td>30589.0</td>\n",
       "      <td>6.8</td>\n",
       "      <td>-195</td>\n",
       "      <td>NaN</td>\n",
       "      <td>27</td>\n",
       "      <td>Yes</td>\n",
       "      <td>Yes</td>\n",
       "      <td>1986-01-24</td>\n",
       "      <td>Voyager 2</td>\n",
       "    </tr>\n",
       "    <tr>\n",
       "      <th>NEPTUNE</th>\n",
       "      <td>102.0000</td>\n",
       "      <td>49528</td>\n",
       "      <td>16.1</td>\n",
       "      <td>4495.1</td>\n",
       "      <td>59800.0</td>\n",
       "      <td>5.4</td>\n",
       "      <td>-200</td>\n",
       "      <td>NaN</td>\n",
       "      <td>14</td>\n",
       "      <td>Yes</td>\n",
       "      <td>Yes</td>\n",
       "      <td>1989-08-25</td>\n",
       "      <td>Voyager 2</td>\n",
       "    </tr>\n",
       "    <tr>\n",
       "      <th>PLUTO</th>\n",
       "      <td>0.0146</td>\n",
       "      <td>2370</td>\n",
       "      <td>153.3</td>\n",
       "      <td>5906.4</td>\n",
       "      <td>90560.0</td>\n",
       "      <td>4.7</td>\n",
       "      <td>-225</td>\n",
       "      <td>0.00001</td>\n",
       "      <td>5</td>\n",
       "      <td>No</td>\n",
       "      <td>NaN</td>\n",
       "      <td>2015-07-14</td>\n",
       "      <td>New Horizons</td>\n",
       "    </tr>\n",
       "  </tbody>\n",
       "</table>\n",
       "</div>"
      ],
      "text/plain": [
       "              Mass  Diameter  DayLength  SunDistance  OrbitPeriod  \\\n",
       "Planet                                                              \n",
       "MERCURY     0.3300      4879     4222.6         57.9         88.0   \n",
       "VENUS       4.8700     12104     2802.0        108.2        224.7   \n",
       "EARTH       5.9700     12756       24.0        149.6        365.2   \n",
       "MOON        0.0730      3475      708.7          NaN         27.3   \n",
       "MARS        0.6420      6792       24.7        227.9        687.0   \n",
       "JUPITER  1898.0000    142984        9.9        778.6       4331.0   \n",
       "SATURN    568.0000    120536       10.7       1433.5      10747.0   \n",
       "URANUS     86.8000     51118       17.2       2872.5      30589.0   \n",
       "NEPTUNE   102.0000     49528       16.1       4495.1      59800.0   \n",
       "PLUTO       0.0146      2370      153.3       5906.4      90560.0   \n",
       "\n",
       "         OrbitVelocity  MeanTemperature  SurfacePressure  Moons Rings  \\\n",
       "Planet                                                                  \n",
       "MERCURY           47.4              167          0.00000      0    No   \n",
       "VENUS             35.0              464         92.00000      0    No   \n",
       "EARTH             29.8               15          1.00000      1    No   \n",
       "MOON               1.0              -20          0.00000      0    No   \n",
       "MARS              24.1              -65          0.01000      2    No   \n",
       "JUPITER           13.1             -110              NaN     67   Yes   \n",
       "SATURN             9.7             -140              NaN     62   Yes   \n",
       "URANUS             6.8             -195              NaN     27   Yes   \n",
       "NEPTUNE            5.4             -200              NaN     14   Yes   \n",
       "PLUTO              4.7             -225          0.00001      5    No   \n",
       "\n",
       "        MagneticField FirstVisited  FirstMission  \n",
       "Planet                                            \n",
       "MERCURY           Yes   1974-03-29    Mariner 10  \n",
       "VENUS              No   1962-08-27     Mariner 2  \n",
       "EARTH             Yes          NaN           NaN  \n",
       "MOON               No   1959-09-12        Luna 2  \n",
       "MARS               No   1965-07-15     Mariner 4  \n",
       "JUPITER           Yes   1973-12-04    Pioneer 10  \n",
       "SATURN            Yes   1979-09-01    Pioneer 11  \n",
       "URANUS            Yes   1986-01-24     Voyager 2  \n",
       "NEPTUNE           Yes   1989-08-25     Voyager 2  \n",
       "PLUTO             NaN   2015-07-14  New Horizons  "
      ]
     },
     "execution_count": 34,
     "metadata": {},
     "output_type": "execute_result"
    }
   ],
   "source": [
    "planets"
   ]
  },
  {
   "cell_type": "code",
   "execution_count": 38,
   "metadata": {},
   "outputs": [
    {
     "data": {
      "text/html": [
       "<div>\n",
       "<style scoped>\n",
       "    .dataframe tbody tr th:only-of-type {\n",
       "        vertical-align: middle;\n",
       "    }\n",
       "\n",
       "    .dataframe tbody tr th {\n",
       "        vertical-align: top;\n",
       "    }\n",
       "\n",
       "    .dataframe thead th {\n",
       "        text-align: right;\n",
       "    }\n",
       "</style>\n",
       "<table border=\"1\" class=\"dataframe\">\n",
       "  <thead>\n",
       "    <tr style=\"text-align: right;\">\n",
       "      <th></th>\n",
       "      <th>Mass</th>\n",
       "      <th>Diameter</th>\n",
       "      <th>DayLength</th>\n",
       "      <th>SunDistance</th>\n",
       "      <th>OrbitPeriod</th>\n",
       "      <th>OrbitVelocity</th>\n",
       "      <th>MeanTemperature</th>\n",
       "      <th>SurfacePressure</th>\n",
       "      <th>Moons</th>\n",
       "      <th>Rings</th>\n",
       "      <th>MagneticField</th>\n",
       "      <th>FirstVisited</th>\n",
       "      <th>FirstMission</th>\n",
       "    </tr>\n",
       "    <tr>\n",
       "      <th>Planet</th>\n",
       "      <th></th>\n",
       "      <th></th>\n",
       "      <th></th>\n",
       "      <th></th>\n",
       "      <th></th>\n",
       "      <th></th>\n",
       "      <th></th>\n",
       "      <th></th>\n",
       "      <th></th>\n",
       "      <th></th>\n",
       "      <th></th>\n",
       "      <th></th>\n",
       "      <th></th>\n",
       "    </tr>\n",
       "  </thead>\n",
       "  <tbody>\n",
       "    <tr>\n",
       "      <th>MERCURY</th>\n",
       "      <td>0.33</td>\n",
       "      <td>4879</td>\n",
       "      <td>4222.6</td>\n",
       "      <td>57.9</td>\n",
       "      <td>88.0</td>\n",
       "      <td>47.4</td>\n",
       "      <td>167</td>\n",
       "      <td>0.0</td>\n",
       "      <td>0</td>\n",
       "      <td>No</td>\n",
       "      <td>Yes</td>\n",
       "      <td>1974-03-29</td>\n",
       "      <td>Mariner 10</td>\n",
       "    </tr>\n",
       "    <tr>\n",
       "      <th>VENUS</th>\n",
       "      <td>4.87</td>\n",
       "      <td>12104</td>\n",
       "      <td>2802.0</td>\n",
       "      <td>108.2</td>\n",
       "      <td>224.7</td>\n",
       "      <td>35.0</td>\n",
       "      <td>464</td>\n",
       "      <td>92.0</td>\n",
       "      <td>0</td>\n",
       "      <td>No</td>\n",
       "      <td>No</td>\n",
       "      <td>1962-08-27</td>\n",
       "      <td>Mariner 2</td>\n",
       "    </tr>\n",
       "    <tr>\n",
       "      <th>EARTH</th>\n",
       "      <td>5.97</td>\n",
       "      <td>12756</td>\n",
       "      <td>24.0</td>\n",
       "      <td>149.6</td>\n",
       "      <td>365.2</td>\n",
       "      <td>29.8</td>\n",
       "      <td>15</td>\n",
       "      <td>1.0</td>\n",
       "      <td>1</td>\n",
       "      <td>No</td>\n",
       "      <td>Yes</td>\n",
       "      <td>NaN</td>\n",
       "      <td>NaN</td>\n",
       "    </tr>\n",
       "  </tbody>\n",
       "</table>\n",
       "</div>"
      ],
      "text/plain": [
       "         Mass  Diameter  DayLength  SunDistance  OrbitPeriod  OrbitVelocity  \\\n",
       "Planet                                                                        \n",
       "MERCURY  0.33      4879     4222.6         57.9         88.0           47.4   \n",
       "VENUS    4.87     12104     2802.0        108.2        224.7           35.0   \n",
       "EARTH    5.97     12756       24.0        149.6        365.2           29.8   \n",
       "\n",
       "         MeanTemperature  SurfacePressure  Moons Rings MagneticField  \\\n",
       "Planet                                                                 \n",
       "MERCURY              167              0.0      0    No           Yes   \n",
       "VENUS                464             92.0      0    No            No   \n",
       "EARTH                 15              1.0      1    No           Yes   \n",
       "\n",
       "        FirstVisited FirstMission  \n",
       "Planet                             \n",
       "MERCURY   1974-03-29   Mariner 10  \n",
       "VENUS     1962-08-27    Mariner 2  \n",
       "EARTH            NaN          NaN  "
      ]
     },
     "execution_count": 38,
     "metadata": {},
     "output_type": "execute_result"
    }
   ],
   "source": [
    "planets.loc['MERCURY':'EARTH']"
   ]
  },
  {
   "cell_type": "code",
   "execution_count": 39,
   "metadata": {},
   "outputs": [
    {
     "data": {
      "text/plain": [
       "Index([u'Mass', u'Diameter', u'DayLength', u'SunDistance', u'OrbitPeriod',\n",
       "       u'OrbitVelocity', u'MeanTemperature', u'SurfacePressure', u'Moons',\n",
       "       u'Rings', u'MagneticField', u'FirstVisited', u'FirstMission'],\n",
       "      dtype='object')"
      ]
     },
     "execution_count": 39,
     "metadata": {},
     "output_type": "execute_result"
    }
   ],
   "source": [
    "planets.columns"
   ]
  },
  {
   "cell_type": "code",
   "execution_count": 40,
   "metadata": {},
   "outputs": [
    {
     "data": {
      "text/plain": [
       "'1974-03-29'"
      ]
     },
     "execution_count": 40,
     "metadata": {},
     "output_type": "execute_result"
    }
   ],
   "source": [
    "planets.FirstVisited['MERCURY']"
   ]
  },
  {
   "cell_type": "code",
   "execution_count": 41,
   "metadata": {},
   "outputs": [
    {
     "data": {
      "text/plain": [
       "'1974-03-29'"
      ]
     },
     "execution_count": 41,
     "metadata": {},
     "output_type": "execute_result"
    }
   ],
   "source": [
    "planets.loc['MERCURY'].FirstVisited"
   ]
  },
  {
   "cell_type": "code",
   "execution_count": 46,
   "metadata": {},
   "outputs": [
    {
     "data": {
      "text/plain": [
       "0.0"
      ]
     },
     "execution_count": 46,
     "metadata": {},
     "output_type": "execute_result"
    }
   ],
   "source": [
    "planets.SurfacePressure['MERCURY']"
   ]
  },
  {
   "cell_type": "code",
   "execution_count": 47,
   "metadata": {},
   "outputs": [
    {
     "data": {
      "text/plain": [
       "'1974-03-29'"
      ]
     },
     "execution_count": 47,
     "metadata": {},
     "output_type": "execute_result"
    }
   ],
   "source": [
    "planets.loc['MERCURY','FirstVisited']"
   ]
  },
  {
   "cell_type": "code",
   "execution_count": 48,
   "metadata": {},
   "outputs": [
    {
     "data": {
      "text/plain": [
       "str"
      ]
     },
     "execution_count": 48,
     "metadata": {},
     "output_type": "execute_result"
    }
   ],
   "source": [
    "type(planets.loc['MERCURY','FirstVisited'])"
   ]
  },
  {
   "cell_type": "code",
   "execution_count": 49,
   "metadata": {},
   "outputs": [
    {
     "data": {
      "text/plain": [
       "Planet\n",
       "MERCURY   1974-03-29\n",
       "VENUS     1962-08-27\n",
       "EARTH            NaT\n",
       "MOON      1959-09-12\n",
       "MARS      1965-07-15\n",
       "JUPITER   1973-12-04\n",
       "SATURN    1979-09-01\n",
       "URANUS    1986-01-24\n",
       "NEPTUNE   1989-08-25\n",
       "PLUTO     2015-07-14\n",
       "Name: FirstVisited, dtype: datetime64[ns]"
      ]
     },
     "execution_count": 49,
     "metadata": {},
     "output_type": "execute_result"
    }
   ],
   "source": [
    "pd.to_datetime(planets.FirstVisited)"
   ]
  },
  {
   "cell_type": "code",
   "execution_count": 51,
   "metadata": {},
   "outputs": [],
   "source": [
    "planets.FirstVisited = pd.to_datetime(planets.FirstVisited)"
   ]
  },
  {
   "cell_type": "code",
   "execution_count": 52,
   "metadata": {},
   "outputs": [
    {
     "data": {
      "text/plain": [
       "Planet\n",
       "MERCURY    1974.0\n",
       "VENUS      1962.0\n",
       "EARTH         NaN\n",
       "MOON       1959.0\n",
       "MARS       1965.0\n",
       "JUPITER    1973.0\n",
       "SATURN     1979.0\n",
       "URANUS     1986.0\n",
       "NEPTUNE    1989.0\n",
       "PLUTO      2015.0\n",
       "Name: FirstVisited, dtype: float64"
      ]
     },
     "execution_count": 52,
     "metadata": {},
     "output_type": "execute_result"
    }
   ],
   "source": [
    "planets.FirstVisited.dt.year"
   ]
  },
  {
   "cell_type": "code",
   "execution_count": 53,
   "metadata": {},
   "outputs": [
    {
     "data": {
      "text/plain": [
       "Planet\n",
       "MERCURY    44.0\n",
       "VENUS      56.0\n",
       "EARTH       NaN\n",
       "MOON       59.0\n",
       "MARS       53.0\n",
       "JUPITER    45.0\n",
       "SATURN     39.0\n",
       "URANUS     32.0\n",
       "NEPTUNE    29.0\n",
       "PLUTO       3.0\n",
       "Name: FirstVisited, dtype: float64"
      ]
     },
     "execution_count": 53,
     "metadata": {},
     "output_type": "execute_result"
    }
   ],
   "source": [
    "2018-planets.FirstVisited.dt.year"
   ]
  },
  {
   "cell_type": "code",
   "execution_count": 54,
   "metadata": {},
   "outputs": [],
   "source": [
    "year_spent = 2018-planets.FirstVisited.dt.year"
   ]
  },
  {
   "cell_type": "code",
   "execution_count": 55,
   "metadata": {},
   "outputs": [
    {
     "data": {
      "text/html": [
       "<div>\n",
       "<style scoped>\n",
       "    .dataframe tbody tr th:only-of-type {\n",
       "        vertical-align: middle;\n",
       "    }\n",
       "\n",
       "    .dataframe tbody tr th {\n",
       "        vertical-align: top;\n",
       "    }\n",
       "\n",
       "    .dataframe thead th {\n",
       "        text-align: right;\n",
       "    }\n",
       "</style>\n",
       "<table border=\"1\" class=\"dataframe\">\n",
       "  <thead>\n",
       "    <tr style=\"text-align: right;\">\n",
       "      <th></th>\n",
       "      <th>Mass</th>\n",
       "      <th>Diameter</th>\n",
       "      <th>DayLength</th>\n",
       "      <th>SunDistance</th>\n",
       "      <th>OrbitPeriod</th>\n",
       "      <th>OrbitVelocity</th>\n",
       "      <th>MeanTemperature</th>\n",
       "      <th>SurfacePressure</th>\n",
       "      <th>Moons</th>\n",
       "      <th>Rings</th>\n",
       "      <th>MagneticField</th>\n",
       "      <th>FirstVisited</th>\n",
       "      <th>FirstMission</th>\n",
       "    </tr>\n",
       "    <tr>\n",
       "      <th>Planet</th>\n",
       "      <th></th>\n",
       "      <th></th>\n",
       "      <th></th>\n",
       "      <th></th>\n",
       "      <th></th>\n",
       "      <th></th>\n",
       "      <th></th>\n",
       "      <th></th>\n",
       "      <th></th>\n",
       "      <th></th>\n",
       "      <th></th>\n",
       "      <th></th>\n",
       "      <th></th>\n",
       "    </tr>\n",
       "  </thead>\n",
       "  <tbody>\n",
       "    <tr>\n",
       "      <th>MERCURY</th>\n",
       "      <td>0.3300</td>\n",
       "      <td>4879</td>\n",
       "      <td>4222.6</td>\n",
       "      <td>57.9</td>\n",
       "      <td>88.0</td>\n",
       "      <td>47.4</td>\n",
       "      <td>167</td>\n",
       "      <td>0.00000</td>\n",
       "      <td>0</td>\n",
       "      <td>No</td>\n",
       "      <td>Yes</td>\n",
       "      <td>1974-03-29</td>\n",
       "      <td>Mariner 10</td>\n",
       "    </tr>\n",
       "    <tr>\n",
       "      <th>VENUS</th>\n",
       "      <td>4.8700</td>\n",
       "      <td>12104</td>\n",
       "      <td>2802.0</td>\n",
       "      <td>108.2</td>\n",
       "      <td>224.7</td>\n",
       "      <td>35.0</td>\n",
       "      <td>464</td>\n",
       "      <td>92.00000</td>\n",
       "      <td>0</td>\n",
       "      <td>No</td>\n",
       "      <td>No</td>\n",
       "      <td>1962-08-27</td>\n",
       "      <td>Mariner 2</td>\n",
       "    </tr>\n",
       "    <tr>\n",
       "      <th>EARTH</th>\n",
       "      <td>5.9700</td>\n",
       "      <td>12756</td>\n",
       "      <td>24.0</td>\n",
       "      <td>149.6</td>\n",
       "      <td>365.2</td>\n",
       "      <td>29.8</td>\n",
       "      <td>15</td>\n",
       "      <td>1.00000</td>\n",
       "      <td>1</td>\n",
       "      <td>No</td>\n",
       "      <td>Yes</td>\n",
       "      <td>NaT</td>\n",
       "      <td>NaN</td>\n",
       "    </tr>\n",
       "    <tr>\n",
       "      <th>MOON</th>\n",
       "      <td>0.0730</td>\n",
       "      <td>3475</td>\n",
       "      <td>708.7</td>\n",
       "      <td>NaN</td>\n",
       "      <td>27.3</td>\n",
       "      <td>1.0</td>\n",
       "      <td>-20</td>\n",
       "      <td>0.00000</td>\n",
       "      <td>0</td>\n",
       "      <td>No</td>\n",
       "      <td>No</td>\n",
       "      <td>1959-09-12</td>\n",
       "      <td>Luna 2</td>\n",
       "    </tr>\n",
       "    <tr>\n",
       "      <th>MARS</th>\n",
       "      <td>0.6420</td>\n",
       "      <td>6792</td>\n",
       "      <td>24.7</td>\n",
       "      <td>227.9</td>\n",
       "      <td>687.0</td>\n",
       "      <td>24.1</td>\n",
       "      <td>-65</td>\n",
       "      <td>0.01000</td>\n",
       "      <td>2</td>\n",
       "      <td>No</td>\n",
       "      <td>No</td>\n",
       "      <td>1965-07-15</td>\n",
       "      <td>Mariner 4</td>\n",
       "    </tr>\n",
       "    <tr>\n",
       "      <th>JUPITER</th>\n",
       "      <td>1898.0000</td>\n",
       "      <td>142984</td>\n",
       "      <td>9.9</td>\n",
       "      <td>778.6</td>\n",
       "      <td>4331.0</td>\n",
       "      <td>13.1</td>\n",
       "      <td>-110</td>\n",
       "      <td>NaN</td>\n",
       "      <td>67</td>\n",
       "      <td>Yes</td>\n",
       "      <td>Yes</td>\n",
       "      <td>1973-12-04</td>\n",
       "      <td>Pioneer 10</td>\n",
       "    </tr>\n",
       "    <tr>\n",
       "      <th>SATURN</th>\n",
       "      <td>568.0000</td>\n",
       "      <td>120536</td>\n",
       "      <td>10.7</td>\n",
       "      <td>1433.5</td>\n",
       "      <td>10747.0</td>\n",
       "      <td>9.7</td>\n",
       "      <td>-140</td>\n",
       "      <td>NaN</td>\n",
       "      <td>62</td>\n",
       "      <td>Yes</td>\n",
       "      <td>Yes</td>\n",
       "      <td>1979-09-01</td>\n",
       "      <td>Pioneer 11</td>\n",
       "    </tr>\n",
       "    <tr>\n",
       "      <th>URANUS</th>\n",
       "      <td>86.8000</td>\n",
       "      <td>51118</td>\n",
       "      <td>17.2</td>\n",
       "      <td>2872.5</td>\n",
       "      <td>30589.0</td>\n",
       "      <td>6.8</td>\n",
       "      <td>-195</td>\n",
       "      <td>NaN</td>\n",
       "      <td>27</td>\n",
       "      <td>Yes</td>\n",
       "      <td>Yes</td>\n",
       "      <td>1986-01-24</td>\n",
       "      <td>Voyager 2</td>\n",
       "    </tr>\n",
       "    <tr>\n",
       "      <th>NEPTUNE</th>\n",
       "      <td>102.0000</td>\n",
       "      <td>49528</td>\n",
       "      <td>16.1</td>\n",
       "      <td>4495.1</td>\n",
       "      <td>59800.0</td>\n",
       "      <td>5.4</td>\n",
       "      <td>-200</td>\n",
       "      <td>NaN</td>\n",
       "      <td>14</td>\n",
       "      <td>Yes</td>\n",
       "      <td>Yes</td>\n",
       "      <td>1989-08-25</td>\n",
       "      <td>Voyager 2</td>\n",
       "    </tr>\n",
       "    <tr>\n",
       "      <th>PLUTO</th>\n",
       "      <td>0.0146</td>\n",
       "      <td>2370</td>\n",
       "      <td>153.3</td>\n",
       "      <td>5906.4</td>\n",
       "      <td>90560.0</td>\n",
       "      <td>4.7</td>\n",
       "      <td>-225</td>\n",
       "      <td>0.00001</td>\n",
       "      <td>5</td>\n",
       "      <td>No</td>\n",
       "      <td>NaN</td>\n",
       "      <td>2015-07-14</td>\n",
       "      <td>New Horizons</td>\n",
       "    </tr>\n",
       "  </tbody>\n",
       "</table>\n",
       "</div>"
      ],
      "text/plain": [
       "              Mass  Diameter  DayLength  SunDistance  OrbitPeriod  \\\n",
       "Planet                                                              \n",
       "MERCURY     0.3300      4879     4222.6         57.9         88.0   \n",
       "VENUS       4.8700     12104     2802.0        108.2        224.7   \n",
       "EARTH       5.9700     12756       24.0        149.6        365.2   \n",
       "MOON        0.0730      3475      708.7          NaN         27.3   \n",
       "MARS        0.6420      6792       24.7        227.9        687.0   \n",
       "JUPITER  1898.0000    142984        9.9        778.6       4331.0   \n",
       "SATURN    568.0000    120536       10.7       1433.5      10747.0   \n",
       "URANUS     86.8000     51118       17.2       2872.5      30589.0   \n",
       "NEPTUNE   102.0000     49528       16.1       4495.1      59800.0   \n",
       "PLUTO       0.0146      2370      153.3       5906.4      90560.0   \n",
       "\n",
       "         OrbitVelocity  MeanTemperature  SurfacePressure  Moons Rings  \\\n",
       "Planet                                                                  \n",
       "MERCURY           47.4              167          0.00000      0    No   \n",
       "VENUS             35.0              464         92.00000      0    No   \n",
       "EARTH             29.8               15          1.00000      1    No   \n",
       "MOON               1.0              -20          0.00000      0    No   \n",
       "MARS              24.1              -65          0.01000      2    No   \n",
       "JUPITER           13.1             -110              NaN     67   Yes   \n",
       "SATURN             9.7             -140              NaN     62   Yes   \n",
       "URANUS             6.8             -195              NaN     27   Yes   \n",
       "NEPTUNE            5.4             -200              NaN     14   Yes   \n",
       "PLUTO              4.7             -225          0.00001      5    No   \n",
       "\n",
       "        MagneticField FirstVisited  FirstMission  \n",
       "Planet                                            \n",
       "MERCURY           Yes   1974-03-29    Mariner 10  \n",
       "VENUS              No   1962-08-27     Mariner 2  \n",
       "EARTH             Yes          NaT           NaN  \n",
       "MOON               No   1959-09-12        Luna 2  \n",
       "MARS               No   1965-07-15     Mariner 4  \n",
       "JUPITER           Yes   1973-12-04    Pioneer 10  \n",
       "SATURN            Yes   1979-09-01    Pioneer 11  \n",
       "URANUS            Yes   1986-01-24     Voyager 2  \n",
       "NEPTUNE           Yes   1989-08-25     Voyager 2  \n",
       "PLUTO             NaN   2015-07-14  New Horizons  "
      ]
     },
     "execution_count": 55,
     "metadata": {},
     "output_type": "execute_result"
    }
   ],
   "source": [
    "planets"
   ]
  },
  {
   "cell_type": "code",
   "execution_count": 56,
   "metadata": {},
   "outputs": [],
   "source": [
    "planets['yearsSpent'] = year_spent"
   ]
  },
  {
   "cell_type": "code",
   "execution_count": 57,
   "metadata": {},
   "outputs": [
    {
     "data": {
      "text/html": [
       "<div>\n",
       "<style scoped>\n",
       "    .dataframe tbody tr th:only-of-type {\n",
       "        vertical-align: middle;\n",
       "    }\n",
       "\n",
       "    .dataframe tbody tr th {\n",
       "        vertical-align: top;\n",
       "    }\n",
       "\n",
       "    .dataframe thead th {\n",
       "        text-align: right;\n",
       "    }\n",
       "</style>\n",
       "<table border=\"1\" class=\"dataframe\">\n",
       "  <thead>\n",
       "    <tr style=\"text-align: right;\">\n",
       "      <th></th>\n",
       "      <th>Mass</th>\n",
       "      <th>Diameter</th>\n",
       "      <th>DayLength</th>\n",
       "      <th>SunDistance</th>\n",
       "      <th>OrbitPeriod</th>\n",
       "      <th>OrbitVelocity</th>\n",
       "      <th>MeanTemperature</th>\n",
       "      <th>SurfacePressure</th>\n",
       "      <th>Moons</th>\n",
       "      <th>Rings</th>\n",
       "      <th>MagneticField</th>\n",
       "      <th>FirstVisited</th>\n",
       "      <th>FirstMission</th>\n",
       "      <th>yearsSpent</th>\n",
       "    </tr>\n",
       "    <tr>\n",
       "      <th>Planet</th>\n",
       "      <th></th>\n",
       "      <th></th>\n",
       "      <th></th>\n",
       "      <th></th>\n",
       "      <th></th>\n",
       "      <th></th>\n",
       "      <th></th>\n",
       "      <th></th>\n",
       "      <th></th>\n",
       "      <th></th>\n",
       "      <th></th>\n",
       "      <th></th>\n",
       "      <th></th>\n",
       "      <th></th>\n",
       "    </tr>\n",
       "  </thead>\n",
       "  <tbody>\n",
       "    <tr>\n",
       "      <th>MERCURY</th>\n",
       "      <td>0.3300</td>\n",
       "      <td>4879</td>\n",
       "      <td>4222.6</td>\n",
       "      <td>57.9</td>\n",
       "      <td>88.0</td>\n",
       "      <td>47.4</td>\n",
       "      <td>167</td>\n",
       "      <td>0.00000</td>\n",
       "      <td>0</td>\n",
       "      <td>No</td>\n",
       "      <td>Yes</td>\n",
       "      <td>1974-03-29</td>\n",
       "      <td>Mariner 10</td>\n",
       "      <td>44.0</td>\n",
       "    </tr>\n",
       "    <tr>\n",
       "      <th>VENUS</th>\n",
       "      <td>4.8700</td>\n",
       "      <td>12104</td>\n",
       "      <td>2802.0</td>\n",
       "      <td>108.2</td>\n",
       "      <td>224.7</td>\n",
       "      <td>35.0</td>\n",
       "      <td>464</td>\n",
       "      <td>92.00000</td>\n",
       "      <td>0</td>\n",
       "      <td>No</td>\n",
       "      <td>No</td>\n",
       "      <td>1962-08-27</td>\n",
       "      <td>Mariner 2</td>\n",
       "      <td>56.0</td>\n",
       "    </tr>\n",
       "    <tr>\n",
       "      <th>EARTH</th>\n",
       "      <td>5.9700</td>\n",
       "      <td>12756</td>\n",
       "      <td>24.0</td>\n",
       "      <td>149.6</td>\n",
       "      <td>365.2</td>\n",
       "      <td>29.8</td>\n",
       "      <td>15</td>\n",
       "      <td>1.00000</td>\n",
       "      <td>1</td>\n",
       "      <td>No</td>\n",
       "      <td>Yes</td>\n",
       "      <td>NaT</td>\n",
       "      <td>NaN</td>\n",
       "      <td>NaN</td>\n",
       "    </tr>\n",
       "    <tr>\n",
       "      <th>MOON</th>\n",
       "      <td>0.0730</td>\n",
       "      <td>3475</td>\n",
       "      <td>708.7</td>\n",
       "      <td>NaN</td>\n",
       "      <td>27.3</td>\n",
       "      <td>1.0</td>\n",
       "      <td>-20</td>\n",
       "      <td>0.00000</td>\n",
       "      <td>0</td>\n",
       "      <td>No</td>\n",
       "      <td>No</td>\n",
       "      <td>1959-09-12</td>\n",
       "      <td>Luna 2</td>\n",
       "      <td>59.0</td>\n",
       "    </tr>\n",
       "    <tr>\n",
       "      <th>MARS</th>\n",
       "      <td>0.6420</td>\n",
       "      <td>6792</td>\n",
       "      <td>24.7</td>\n",
       "      <td>227.9</td>\n",
       "      <td>687.0</td>\n",
       "      <td>24.1</td>\n",
       "      <td>-65</td>\n",
       "      <td>0.01000</td>\n",
       "      <td>2</td>\n",
       "      <td>No</td>\n",
       "      <td>No</td>\n",
       "      <td>1965-07-15</td>\n",
       "      <td>Mariner 4</td>\n",
       "      <td>53.0</td>\n",
       "    </tr>\n",
       "    <tr>\n",
       "      <th>JUPITER</th>\n",
       "      <td>1898.0000</td>\n",
       "      <td>142984</td>\n",
       "      <td>9.9</td>\n",
       "      <td>778.6</td>\n",
       "      <td>4331.0</td>\n",
       "      <td>13.1</td>\n",
       "      <td>-110</td>\n",
       "      <td>NaN</td>\n",
       "      <td>67</td>\n",
       "      <td>Yes</td>\n",
       "      <td>Yes</td>\n",
       "      <td>1973-12-04</td>\n",
       "      <td>Pioneer 10</td>\n",
       "      <td>45.0</td>\n",
       "    </tr>\n",
       "    <tr>\n",
       "      <th>SATURN</th>\n",
       "      <td>568.0000</td>\n",
       "      <td>120536</td>\n",
       "      <td>10.7</td>\n",
       "      <td>1433.5</td>\n",
       "      <td>10747.0</td>\n",
       "      <td>9.7</td>\n",
       "      <td>-140</td>\n",
       "      <td>NaN</td>\n",
       "      <td>62</td>\n",
       "      <td>Yes</td>\n",
       "      <td>Yes</td>\n",
       "      <td>1979-09-01</td>\n",
       "      <td>Pioneer 11</td>\n",
       "      <td>39.0</td>\n",
       "    </tr>\n",
       "    <tr>\n",
       "      <th>URANUS</th>\n",
       "      <td>86.8000</td>\n",
       "      <td>51118</td>\n",
       "      <td>17.2</td>\n",
       "      <td>2872.5</td>\n",
       "      <td>30589.0</td>\n",
       "      <td>6.8</td>\n",
       "      <td>-195</td>\n",
       "      <td>NaN</td>\n",
       "      <td>27</td>\n",
       "      <td>Yes</td>\n",
       "      <td>Yes</td>\n",
       "      <td>1986-01-24</td>\n",
       "      <td>Voyager 2</td>\n",
       "      <td>32.0</td>\n",
       "    </tr>\n",
       "    <tr>\n",
       "      <th>NEPTUNE</th>\n",
       "      <td>102.0000</td>\n",
       "      <td>49528</td>\n",
       "      <td>16.1</td>\n",
       "      <td>4495.1</td>\n",
       "      <td>59800.0</td>\n",
       "      <td>5.4</td>\n",
       "      <td>-200</td>\n",
       "      <td>NaN</td>\n",
       "      <td>14</td>\n",
       "      <td>Yes</td>\n",
       "      <td>Yes</td>\n",
       "      <td>1989-08-25</td>\n",
       "      <td>Voyager 2</td>\n",
       "      <td>29.0</td>\n",
       "    </tr>\n",
       "    <tr>\n",
       "      <th>PLUTO</th>\n",
       "      <td>0.0146</td>\n",
       "      <td>2370</td>\n",
       "      <td>153.3</td>\n",
       "      <td>5906.4</td>\n",
       "      <td>90560.0</td>\n",
       "      <td>4.7</td>\n",
       "      <td>-225</td>\n",
       "      <td>0.00001</td>\n",
       "      <td>5</td>\n",
       "      <td>No</td>\n",
       "      <td>NaN</td>\n",
       "      <td>2015-07-14</td>\n",
       "      <td>New Horizons</td>\n",
       "      <td>3.0</td>\n",
       "    </tr>\n",
       "  </tbody>\n",
       "</table>\n",
       "</div>"
      ],
      "text/plain": [
       "              Mass  Diameter  DayLength  SunDistance  OrbitPeriod  \\\n",
       "Planet                                                              \n",
       "MERCURY     0.3300      4879     4222.6         57.9         88.0   \n",
       "VENUS       4.8700     12104     2802.0        108.2        224.7   \n",
       "EARTH       5.9700     12756       24.0        149.6        365.2   \n",
       "MOON        0.0730      3475      708.7          NaN         27.3   \n",
       "MARS        0.6420      6792       24.7        227.9        687.0   \n",
       "JUPITER  1898.0000    142984        9.9        778.6       4331.0   \n",
       "SATURN    568.0000    120536       10.7       1433.5      10747.0   \n",
       "URANUS     86.8000     51118       17.2       2872.5      30589.0   \n",
       "NEPTUNE   102.0000     49528       16.1       4495.1      59800.0   \n",
       "PLUTO       0.0146      2370      153.3       5906.4      90560.0   \n",
       "\n",
       "         OrbitVelocity  MeanTemperature  SurfacePressure  Moons Rings  \\\n",
       "Planet                                                                  \n",
       "MERCURY           47.4              167          0.00000      0    No   \n",
       "VENUS             35.0              464         92.00000      0    No   \n",
       "EARTH             29.8               15          1.00000      1    No   \n",
       "MOON               1.0              -20          0.00000      0    No   \n",
       "MARS              24.1              -65          0.01000      2    No   \n",
       "JUPITER           13.1             -110              NaN     67   Yes   \n",
       "SATURN             9.7             -140              NaN     62   Yes   \n",
       "URANUS             6.8             -195              NaN     27   Yes   \n",
       "NEPTUNE            5.4             -200              NaN     14   Yes   \n",
       "PLUTO              4.7             -225          0.00001      5    No   \n",
       "\n",
       "        MagneticField FirstVisited  FirstMission  yearsSpent  \n",
       "Planet                                                        \n",
       "MERCURY           Yes   1974-03-29    Mariner 10        44.0  \n",
       "VENUS              No   1962-08-27     Mariner 2        56.0  \n",
       "EARTH             Yes          NaT           NaN         NaN  \n",
       "MOON               No   1959-09-12        Luna 2        59.0  \n",
       "MARS               No   1965-07-15     Mariner 4        53.0  \n",
       "JUPITER           Yes   1973-12-04    Pioneer 10        45.0  \n",
       "SATURN            Yes   1979-09-01    Pioneer 11        39.0  \n",
       "URANUS            Yes   1986-01-24     Voyager 2        32.0  \n",
       "NEPTUNE           Yes   1989-08-25     Voyager 2        29.0  \n",
       "PLUTO             NaN   2015-07-14  New Horizons         3.0  "
      ]
     },
     "execution_count": 57,
     "metadata": {},
     "output_type": "execute_result"
    }
   ],
   "source": [
    "planets"
   ]
  },
  {
   "cell_type": "code",
   "execution_count": 59,
   "metadata": {},
   "outputs": [],
   "source": [
    "#LECTURE NO TRACK ;) - NUMPY ARRAYS"
   ]
  },
  {
   "cell_type": "code",
   "execution_count": 60,
   "metadata": {},
   "outputs": [
    {
     "data": {
      "text/plain": [
       "<module 'numpy' from '/usr/local/lib/python2.7/dist-packages/numpy/__init__.pyc'>"
      ]
     },
     "execution_count": 60,
     "metadata": {},
     "output_type": "execute_result"
    }
   ],
   "source": [
    "np"
   ]
  },
  {
   "cell_type": "code",
   "execution_count": 63,
   "metadata": {},
   "outputs": [
    {
     "data": {
      "text/plain": [
       "array([[[ 0,  1,  2,  3],\n",
       "        [ 4,  5,  6,  7],\n",
       "        [ 8,  9, 10, 11]],\n",
       "\n",
       "       [[12, 13, 14, 15],\n",
       "        [16, 17, 18, 19],\n",
       "        [20, 21, 22, 23]]])"
      ]
     },
     "execution_count": 63,
     "metadata": {},
     "output_type": "execute_result"
    }
   ],
   "source": [
    "a = np.array(np.arange(24)).reshape(2,3,4)\n",
    "a"
   ]
  },
  {
   "cell_type": "code",
   "execution_count": 71,
   "metadata": {},
   "outputs": [],
   "source": [
    "after_insert_a = np.insert(a,1,464,axis=0)"
   ]
  },
  {
   "cell_type": "code",
   "execution_count": 72,
   "metadata": {},
   "outputs": [
    {
     "data": {
      "text/plain": [
       "array([[[  0,   1,   2,   3],\n",
       "        [  4,   5,   6,   7],\n",
       "        [  8,   9,  10,  11]],\n",
       "\n",
       "       [[464, 464, 464, 464],\n",
       "        [464, 464, 464, 464],\n",
       "        [464, 464, 464, 464]],\n",
       "\n",
       "       [[ 12,  13,  14,  15],\n",
       "        [ 16,  17,  18,  19],\n",
       "        [ 20,  21,  22,  23]]])"
      ]
     },
     "execution_count": 72,
     "metadata": {},
     "output_type": "execute_result"
    }
   ],
   "source": [
    "after_insert_a"
   ]
  },
  {
   "cell_type": "code",
   "execution_count": 73,
   "metadata": {},
   "outputs": [],
   "source": [
    "after_insert_a = np.insert(a,1,464)"
   ]
  },
  {
   "cell_type": "code",
   "execution_count": 74,
   "metadata": {},
   "outputs": [
    {
     "data": {
      "text/plain": [
       "array([  0, 464,   1,   2,   3,   4,   5,   6,   7,   8,   9,  10,  11,\n",
       "        12,  13,  14,  15,  16,  17,  18,  19,  20,  21,  22,  23])"
      ]
     },
     "execution_count": 74,
     "metadata": {},
     "output_type": "execute_result"
    }
   ],
   "source": [
    "after_insert_a"
   ]
  },
  {
   "cell_type": "code",
   "execution_count": 76,
   "metadata": {},
   "outputs": [],
   "source": [
    "after_insert_a = np.insert(a,1,464,axis=2)"
   ]
  },
  {
   "cell_type": "code",
   "execution_count": 77,
   "metadata": {},
   "outputs": [
    {
     "data": {
      "text/plain": [
       "array([[[  0, 464,   1,   2,   3],\n",
       "        [  4, 464,   5,   6,   7],\n",
       "        [  8, 464,   9,  10,  11]],\n",
       "\n",
       "       [[ 12, 464,  13,  14,  15],\n",
       "        [ 16, 464,  17,  18,  19],\n",
       "        [ 20, 464,  21,  22,  23]]])"
      ]
     },
     "execution_count": 77,
     "metadata": {},
     "output_type": "execute_result"
    }
   ],
   "source": [
    "after_insert_a"
   ]
  },
  {
   "cell_type": "code",
   "execution_count": 1,
   "metadata": {},
   "outputs": [],
   "source": [
    "# LECTURE - CHECKER BOARD NP ARRAT"
   ]
  },
  {
   "cell_type": "code",
   "execution_count": 2,
   "metadata": {},
   "outputs": [],
   "source": [
    "import numpy as np"
   ]
  },
  {
   "cell_type": "code",
   "execution_count": 4,
   "metadata": {},
   "outputs": [
    {
     "name": "stdout",
     "output_type": "stream",
     "text": [
      "[[0 1 0 1 0 1 0 1]\n",
      " [1 0 1 0 1 0 1 0]\n",
      " [0 1 0 1 0 1 0 1]\n",
      " [1 0 1 0 1 0 1 0]\n",
      " [0 1 0 1 0 1 0 1]\n",
      " [1 0 1 0 1 0 1 0]\n",
      " [0 1 0 1 0 1 0 1]\n",
      " [1 0 1 0 1 0 1 0]]\n"
     ]
    }
   ],
   "source": [
    "my_checker_board = np.zeros((8,8),dtype=int)\n",
    "my_checker_board[1::2,::2] = 1\n",
    "my_checker_board[::2,1::2] = 1\n",
    "print(my_checker_board)"
   ]
  },
  {
   "cell_type": "code",
   "execution_count": 5,
   "metadata": {},
   "outputs": [],
   "source": [
    "#CREATING VECTOR sorted n numbers"
   ]
  },
  {
   "cell_type": "code",
   "execution_count": 6,
   "metadata": {},
   "outputs": [
    {
     "name": "stdout",
     "output_type": "stream",
     "text": [
      "[0.01625887 0.04665896 0.06216452 0.23623414 0.37122133 0.47869352\n",
      " 0.52068043 0.54201256 0.58438779 0.67070327 0.75403312 0.76342822]\n"
     ]
    }
   ],
   "source": [
    "vector_size = 12\n",
    "my_random_vector = np.random.random(vector_size)\n",
    "my_sorted_random_vector = np.sort(my_random_vector)\n",
    "print(my_sorted_random_vector)"
   ]
  },
  {
   "cell_type": "code",
   "execution_count": 7,
   "metadata": {},
   "outputs": [
    {
     "data": {
      "text/plain": [
       "array([3.71221325e-01, 5.20680434e-01, 7.54033122e-01, 1.23400000e+03,\n",
       "       6.70703266e-01, 4.78693521e-01, 5.84387791e-01, 6.21645248e-02,\n",
       "       5.42012556e-01, 2.36234138e-01, 1.62588703e-02, 4.66589613e-02])"
      ]
     },
     "execution_count": 7,
     "metadata": {},
     "output_type": "execute_result"
    }
   ],
   "source": [
    "my_random_vector[my_random_vector.argmax()] = 1234\n",
    "my_random_vector"
   ]
  },
  {
   "cell_type": "code",
   "execution_count": 8,
   "metadata": {},
   "outputs": [],
   "source": [
    "#make an array read-only immutable"
   ]
  },
  {
   "cell_type": "code",
   "execution_count": 9,
   "metadata": {},
   "outputs": [
    {
     "data": {
      "text/plain": [
       "array([ 0,  1,  2,  3,  4,  5,  6,  7,  8,  9, 10, 11])"
      ]
     },
     "execution_count": 9,
     "metadata": {},
     "output_type": "execute_result"
    }
   ],
   "source": [
    "my_ordinary_array = np.array(np.arange(12))\n",
    "my_ordinary_array"
   ]
  },
  {
   "cell_type": "code",
   "execution_count": 10,
   "metadata": {},
   "outputs": [
    {
     "ename": "ValueError",
     "evalue": "assignment destination is read-only",
     "output_type": "error",
     "traceback": [
      "\u001b[0;31m---------------------------------------------------------------------------\u001b[0m",
      "\u001b[0;31mValueError\u001b[0m                                Traceback (most recent call last)",
      "\u001b[0;32m<ipython-input-10-c2b4e17d4040>\u001b[0m in \u001b[0;36m<module>\u001b[0;34m()\u001b[0m\n\u001b[1;32m      1\u001b[0m \u001b[0mmy_ordinary_array\u001b[0m\u001b[0;34m.\u001b[0m\u001b[0mflags\u001b[0m\u001b[0;34m.\u001b[0m\u001b[0mwriteable\u001b[0m \u001b[0;34m=\u001b[0m \u001b[0mFalse\u001b[0m\u001b[0;34m\u001b[0m\u001b[0m\n\u001b[0;32m----> 2\u001b[0;31m \u001b[0mmy_ordinary_array\u001b[0m\u001b[0;34m[\u001b[0m\u001b[0;36m5\u001b[0m\u001b[0;34m]\u001b[0m \u001b[0;34m=\u001b[0m \u001b[0;36m1234\u001b[0m\u001b[0;34m\u001b[0m\u001b[0m\n\u001b[0m",
      "\u001b[0;31mValueError\u001b[0m: assignment destination is read-only"
     ]
    }
   ],
   "source": [
    "my_ordinary_array.flags.writeable = False\n",
    "my_ordinary_array[5] = 1234"
   ]
  },
  {
   "cell_type": "code",
   "execution_count": 11,
   "metadata": {},
   "outputs": [],
   "source": [
    "my_ordinary_array.flags.writeable = True\n",
    "my_ordinary_array[5] = 1234"
   ]
  },
  {
   "cell_type": "code",
   "execution_count": 12,
   "metadata": {},
   "outputs": [
    {
     "data": {
      "text/plain": [
       "array([   0,    1,    2,    3,    4, 1234,    6,    7,    8,    9,   10,\n",
       "         11])"
      ]
     },
     "execution_count": 12,
     "metadata": {},
     "output_type": "execute_result"
    }
   ],
   "source": [
    "my_ordinary_array"
   ]
  },
  {
   "cell_type": "code",
   "execution_count": 13,
   "metadata": {},
   "outputs": [],
   "source": [
    "#Print Enumeratted values from a 3x3 NumPy Array"
   ]
  },
  {
   "cell_type": "code",
   "execution_count": 14,
   "metadata": {},
   "outputs": [
    {
     "name": "stdout",
     "output_type": "stream",
     "text": [
      "((0, 0), 0)\n",
      "((0, 1), 1)\n",
      "((0, 2), 2)\n",
      "((1, 0), 3)\n",
      "((1, 1), 4)\n",
      "((1, 2), 5)\n",
      "((2, 0), 6)\n",
      "((2, 1), 7)\n",
      "((2, 2), 8)\n"
     ]
    }
   ],
   "source": [
    "my_3_3_array = np.arange(9).reshape(3,3)\n",
    "for index ,value in np.ndenumerate(my_3_3_array):\n",
    "    print(index,value)"
   ]
  },
  {
   "cell_type": "code",
   "execution_count": 15,
   "metadata": {},
   "outputs": [],
   "source": [
    "#LECTURE NEW Data Visualization [graphing categorical data]"
   ]
  },
  {
   "cell_type": "code",
   "execution_count": 2,
   "metadata": {},
   "outputs": [],
   "source": [
    "import numpy as np\n",
    "import scipy.stats\n",
    "import pandas as pd\n",
    "import matplotlib\n",
    "import matplotlib.pyplot as pp\n",
    "import pandas.plotting\n",
    "from IPython import display\n",
    "from ipywidgets import interact,widgets\n",
    "%matplotlib inline\n",
    "import re\n",
    "import mailbox\n",
    "import csv"
   ]
  },
  {
   "cell_type": "code",
   "execution_count": 3,
   "metadata": {},
   "outputs": [
    {
     "name": "stdout",
     "output_type": "stream",
     "text": [
      "<class 'pandas.core.frame.DataFrame'>\n",
      "RangeIndex: 1314 entries, 0 to 1313\n",
      "Data columns (total 3 columns):\n",
      "outcome    1314 non-null object\n",
      "smoker     1314 non-null object\n",
      "age        1314 non-null int64\n",
      "dtypes: int64(1), object(2)\n",
      "memory usage: 30.9+ KB\n"
     ]
    }
   ],
   "source": [
    "smoking = pd.read_csv('whickham.csv')\n",
    "smoking.info()"
   ]
  },
  {
   "cell_type": "code",
   "execution_count": 4,
   "metadata": {},
   "outputs": [
    {
     "data": {
      "text/html": [
       "<div>\n",
       "<style scoped>\n",
       "    .dataframe tbody tr th:only-of-type {\n",
       "        vertical-align: middle;\n",
       "    }\n",
       "\n",
       "    .dataframe tbody tr th {\n",
       "        vertical-align: top;\n",
       "    }\n",
       "\n",
       "    .dataframe thead th {\n",
       "        text-align: right;\n",
       "    }\n",
       "</style>\n",
       "<table border=\"1\" class=\"dataframe\">\n",
       "  <thead>\n",
       "    <tr style=\"text-align: right;\">\n",
       "      <th></th>\n",
       "      <th>outcome</th>\n",
       "      <th>smoker</th>\n",
       "      <th>age</th>\n",
       "    </tr>\n",
       "  </thead>\n",
       "  <tbody>\n",
       "    <tr>\n",
       "      <th>0</th>\n",
       "      <td>Alive</td>\n",
       "      <td>Yes</td>\n",
       "      <td>23</td>\n",
       "    </tr>\n",
       "    <tr>\n",
       "      <th>1</th>\n",
       "      <td>Alive</td>\n",
       "      <td>Yes</td>\n",
       "      <td>18</td>\n",
       "    </tr>\n",
       "    <tr>\n",
       "      <th>2</th>\n",
       "      <td>Dead</td>\n",
       "      <td>Yes</td>\n",
       "      <td>71</td>\n",
       "    </tr>\n",
       "    <tr>\n",
       "      <th>3</th>\n",
       "      <td>Alive</td>\n",
       "      <td>No</td>\n",
       "      <td>67</td>\n",
       "    </tr>\n",
       "    <tr>\n",
       "      <th>4</th>\n",
       "      <td>Alive</td>\n",
       "      <td>No</td>\n",
       "      <td>64</td>\n",
       "    </tr>\n",
       "  </tbody>\n",
       "</table>\n",
       "</div>"
      ],
      "text/plain": [
       "  outcome smoker  age\n",
       "0   Alive    Yes   23\n",
       "1   Alive    Yes   18\n",
       "2    Dead    Yes   71\n",
       "3   Alive     No   67\n",
       "4   Alive     No   64"
      ]
     },
     "execution_count": 4,
     "metadata": {},
     "output_type": "execute_result"
    }
   ],
   "source": [
    "smoking.head()"
   ]
  },
  {
   "cell_type": "code",
   "execution_count": 5,
   "metadata": {},
   "outputs": [
    {
     "data": {
      "text/html": [
       "<div>\n",
       "<style scoped>\n",
       "    .dataframe tbody tr th:only-of-type {\n",
       "        vertical-align: middle;\n",
       "    }\n",
       "\n",
       "    .dataframe tbody tr th {\n",
       "        vertical-align: top;\n",
       "    }\n",
       "\n",
       "    .dataframe thead th {\n",
       "        text-align: right;\n",
       "    }\n",
       "</style>\n",
       "<table border=\"1\" class=\"dataframe\">\n",
       "  <thead>\n",
       "    <tr style=\"text-align: right;\">\n",
       "      <th></th>\n",
       "      <th>smoker</th>\n",
       "    </tr>\n",
       "  </thead>\n",
       "  <tbody>\n",
       "    <tr>\n",
       "      <th>No</th>\n",
       "      <td>732</td>\n",
       "    </tr>\n",
       "    <tr>\n",
       "      <th>Yes</th>\n",
       "      <td>582</td>\n",
       "    </tr>\n",
       "  </tbody>\n",
       "</table>\n",
       "</div>"
      ],
      "text/plain": [
       "     smoker\n",
       "No      732\n",
       "Yes     582"
      ]
     },
     "execution_count": 5,
     "metadata": {},
     "output_type": "execute_result"
    }
   ],
   "source": [
    "pd.DataFrame(smoking.smoker.value_counts())"
   ]
  },
  {
   "cell_type": "code",
   "execution_count": 6,
   "metadata": {},
   "outputs": [
    {
     "data": {
      "text/html": [
       "<div>\n",
       "<style scoped>\n",
       "    .dataframe tbody tr th:only-of-type {\n",
       "        vertical-align: middle;\n",
       "    }\n",
       "\n",
       "    .dataframe tbody tr th {\n",
       "        vertical-align: top;\n",
       "    }\n",
       "\n",
       "    .dataframe thead th {\n",
       "        text-align: right;\n",
       "    }\n",
       "</style>\n",
       "<table border=\"1\" class=\"dataframe\">\n",
       "  <thead>\n",
       "    <tr style=\"text-align: right;\">\n",
       "      <th></th>\n",
       "      <th>outcome</th>\n",
       "    </tr>\n",
       "  </thead>\n",
       "  <tbody>\n",
       "    <tr>\n",
       "      <th>Alive</th>\n",
       "      <td>945</td>\n",
       "    </tr>\n",
       "    <tr>\n",
       "      <th>Dead</th>\n",
       "      <td>369</td>\n",
       "    </tr>\n",
       "  </tbody>\n",
       "</table>\n",
       "</div>"
      ],
      "text/plain": [
       "       outcome\n",
       "Alive      945\n",
       "Dead       369"
      ]
     },
     "execution_count": 6,
     "metadata": {},
     "output_type": "execute_result"
    }
   ],
   "source": [
    "pd.DataFrame(smoking.outcome.value_counts())"
   ]
  },
  {
   "cell_type": "code",
   "execution_count": 7,
   "metadata": {},
   "outputs": [
    {
     "data": {
      "text/html": [
       "<div>\n",
       "<style scoped>\n",
       "    .dataframe tbody tr th:only-of-type {\n",
       "        vertical-align: middle;\n",
       "    }\n",
       "\n",
       "    .dataframe tbody tr th {\n",
       "        vertical-align: top;\n",
       "    }\n",
       "\n",
       "    .dataframe thead th {\n",
       "        text-align: right;\n",
       "    }\n",
       "</style>\n",
       "<table border=\"1\" class=\"dataframe\">\n",
       "  <thead>\n",
       "    <tr style=\"text-align: right;\">\n",
       "      <th></th>\n",
       "      <th>outcome</th>\n",
       "    </tr>\n",
       "  </thead>\n",
       "  <tbody>\n",
       "    <tr>\n",
       "      <th>Alive</th>\n",
       "      <td>0.719178</td>\n",
       "    </tr>\n",
       "    <tr>\n",
       "      <th>Dead</th>\n",
       "      <td>0.280822</td>\n",
       "    </tr>\n",
       "  </tbody>\n",
       "</table>\n",
       "</div>"
      ],
      "text/plain": [
       "        outcome\n",
       "Alive  0.719178\n",
       "Dead   0.280822"
      ]
     },
     "execution_count": 7,
     "metadata": {},
     "output_type": "execute_result"
    }
   ],
   "source": [
    "pd.DataFrame(smoking.outcome.value_counts(normalize=True))"
   ]
  },
  {
   "cell_type": "code",
   "execution_count": 8,
   "metadata": {},
   "outputs": [],
   "source": [
    "bysmoer = smoking.groupby(\"smoker\").outcome.value_counts(normalize=True)"
   ]
  },
  {
   "cell_type": "code",
   "execution_count": 9,
   "metadata": {},
   "outputs": [
    {
     "data": {
      "text/plain": [
       "smoker  outcome\n",
       "No      Alive      0.685792\n",
       "        Dead       0.314208\n",
       "Yes     Alive      0.761168\n",
       "        Dead       0.238832\n",
       "Name: outcome, dtype: float64"
      ]
     },
     "execution_count": 9,
     "metadata": {},
     "output_type": "execute_result"
    }
   ],
   "source": [
    "bysmoer"
   ]
  },
  {
   "cell_type": "code",
   "execution_count": 10,
   "metadata": {},
   "outputs": [
    {
     "data": {
      "text/plain": [
       "MultiIndex(levels=[['No', 'Yes'], ['Alive', 'Dead']],\n",
       "           labels=[[0, 0, 1, 1], [0, 1, 0, 1]],\n",
       "           names=['smoker', 'outcome'])"
      ]
     },
     "execution_count": 10,
     "metadata": {},
     "output_type": "execute_result"
    }
   ],
   "source": [
    "bysmoer.index"
   ]
  },
  {
   "cell_type": "code",
   "execution_count": 12,
   "metadata": {},
   "outputs": [
    {
     "data": {
      "text/html": [
       "<div>\n",
       "<style scoped>\n",
       "    .dataframe tbody tr th:only-of-type {\n",
       "        vertical-align: middle;\n",
       "    }\n",
       "\n",
       "    .dataframe tbody tr th {\n",
       "        vertical-align: top;\n",
       "    }\n",
       "\n",
       "    .dataframe thead th {\n",
       "        text-align: right;\n",
       "    }\n",
       "</style>\n",
       "<table border=\"1\" class=\"dataframe\">\n",
       "  <thead>\n",
       "    <tr style=\"text-align: right;\">\n",
       "      <th>outcome</th>\n",
       "      <th>Alive</th>\n",
       "      <th>Dead</th>\n",
       "    </tr>\n",
       "    <tr>\n",
       "      <th>smoker</th>\n",
       "      <th></th>\n",
       "      <th></th>\n",
       "    </tr>\n",
       "  </thead>\n",
       "  <tbody>\n",
       "    <tr>\n",
       "      <th>No</th>\n",
       "      <td>0.685792</td>\n",
       "      <td>0.314208</td>\n",
       "    </tr>\n",
       "    <tr>\n",
       "      <th>Yes</th>\n",
       "      <td>0.761168</td>\n",
       "      <td>0.238832</td>\n",
       "    </tr>\n",
       "  </tbody>\n",
       "</table>\n",
       "</div>"
      ],
      "text/plain": [
       "outcome     Alive      Dead\n",
       "smoker                     \n",
       "No       0.685792  0.314208\n",
       "Yes      0.761168  0.238832"
      ]
     },
     "execution_count": 12,
     "metadata": {},
     "output_type": "execute_result"
    }
   ],
   "source": [
    "bysmoer.unstack()"
   ]
  },
  {
   "cell_type": "code",
   "execution_count": 13,
   "metadata": {},
   "outputs": [],
   "source": [
    "smoking['ageGroup'] = pd.cut(smoking.age,[0,30,40,53,64],labels=['0-30','30-40','40-53','53-64'])"
   ]
  },
  {
   "cell_type": "code",
   "execution_count": 14,
   "metadata": {},
   "outputs": [
    {
     "data": {
      "text/plain": [
       "0     0-30\n",
       "1     0-30\n",
       "2      NaN\n",
       "3      NaN\n",
       "4    53-64\n",
       "Name: ageGroup, dtype: category\n",
       "Categories (4, object): [0-30 < 30-40 < 40-53 < 53-64]"
      ]
     },
     "execution_count": 14,
     "metadata": {},
     "output_type": "execute_result"
    }
   ],
   "source": [
    "smoking['ageGroup'].head()"
   ]
  },
  {
   "cell_type": "code",
   "execution_count": 15,
   "metadata": {},
   "outputs": [
    {
     "data": {
      "text/html": [
       "<div>\n",
       "<style scoped>\n",
       "    .dataframe tbody tr th:only-of-type {\n",
       "        vertical-align: middle;\n",
       "    }\n",
       "\n",
       "    .dataframe tbody tr th {\n",
       "        vertical-align: top;\n",
       "    }\n",
       "\n",
       "    .dataframe thead th {\n",
       "        text-align: right;\n",
       "    }\n",
       "</style>\n",
       "<table border=\"1\" class=\"dataframe\">\n",
       "  <thead>\n",
       "    <tr style=\"text-align: right;\">\n",
       "      <th></th>\n",
       "      <th>outcome</th>\n",
       "      <th>smoker</th>\n",
       "      <th>age</th>\n",
       "      <th>ageGroup</th>\n",
       "    </tr>\n",
       "  </thead>\n",
       "  <tbody>\n",
       "    <tr>\n",
       "      <th>0</th>\n",
       "      <td>Alive</td>\n",
       "      <td>Yes</td>\n",
       "      <td>23</td>\n",
       "      <td>0-30</td>\n",
       "    </tr>\n",
       "    <tr>\n",
       "      <th>1</th>\n",
       "      <td>Alive</td>\n",
       "      <td>Yes</td>\n",
       "      <td>18</td>\n",
       "      <td>0-30</td>\n",
       "    </tr>\n",
       "    <tr>\n",
       "      <th>2</th>\n",
       "      <td>Dead</td>\n",
       "      <td>Yes</td>\n",
       "      <td>71</td>\n",
       "      <td>NaN</td>\n",
       "    </tr>\n",
       "    <tr>\n",
       "      <th>3</th>\n",
       "      <td>Alive</td>\n",
       "      <td>No</td>\n",
       "      <td>67</td>\n",
       "      <td>NaN</td>\n",
       "    </tr>\n",
       "    <tr>\n",
       "      <th>4</th>\n",
       "      <td>Alive</td>\n",
       "      <td>No</td>\n",
       "      <td>64</td>\n",
       "      <td>53-64</td>\n",
       "    </tr>\n",
       "    <tr>\n",
       "      <th>5</th>\n",
       "      <td>Alive</td>\n",
       "      <td>Yes</td>\n",
       "      <td>38</td>\n",
       "      <td>30-40</td>\n",
       "    </tr>\n",
       "    <tr>\n",
       "      <th>6</th>\n",
       "      <td>Alive</td>\n",
       "      <td>Yes</td>\n",
       "      <td>45</td>\n",
       "      <td>40-53</td>\n",
       "    </tr>\n",
       "    <tr>\n",
       "      <th>7</th>\n",
       "      <td>Dead</td>\n",
       "      <td>No</td>\n",
       "      <td>76</td>\n",
       "      <td>NaN</td>\n",
       "    </tr>\n",
       "    <tr>\n",
       "      <th>8</th>\n",
       "      <td>Alive</td>\n",
       "      <td>No</td>\n",
       "      <td>28</td>\n",
       "      <td>0-30</td>\n",
       "    </tr>\n",
       "    <tr>\n",
       "      <th>9</th>\n",
       "      <td>Alive</td>\n",
       "      <td>No</td>\n",
       "      <td>27</td>\n",
       "      <td>0-30</td>\n",
       "    </tr>\n",
       "    <tr>\n",
       "      <th>10</th>\n",
       "      <td>Alive</td>\n",
       "      <td>No</td>\n",
       "      <td>28</td>\n",
       "      <td>0-30</td>\n",
       "    </tr>\n",
       "    <tr>\n",
       "      <th>11</th>\n",
       "      <td>Alive</td>\n",
       "      <td>Yes</td>\n",
       "      <td>34</td>\n",
       "      <td>30-40</td>\n",
       "    </tr>\n",
       "    <tr>\n",
       "      <th>12</th>\n",
       "      <td>Alive</td>\n",
       "      <td>No</td>\n",
       "      <td>20</td>\n",
       "      <td>0-30</td>\n",
       "    </tr>\n",
       "    <tr>\n",
       "      <th>13</th>\n",
       "      <td>Dead</td>\n",
       "      <td>Yes</td>\n",
       "      <td>72</td>\n",
       "      <td>NaN</td>\n",
       "    </tr>\n",
       "    <tr>\n",
       "      <th>14</th>\n",
       "      <td>Alive</td>\n",
       "      <td>Yes</td>\n",
       "      <td>48</td>\n",
       "      <td>40-53</td>\n",
       "    </tr>\n",
       "    <tr>\n",
       "      <th>15</th>\n",
       "      <td>Alive</td>\n",
       "      <td>Yes</td>\n",
       "      <td>45</td>\n",
       "      <td>40-53</td>\n",
       "    </tr>\n",
       "    <tr>\n",
       "      <th>16</th>\n",
       "      <td>Dead</td>\n",
       "      <td>No</td>\n",
       "      <td>66</td>\n",
       "      <td>NaN</td>\n",
       "    </tr>\n",
       "    <tr>\n",
       "      <th>17</th>\n",
       "      <td>Alive</td>\n",
       "      <td>Yes</td>\n",
       "      <td>30</td>\n",
       "      <td>0-30</td>\n",
       "    </tr>\n",
       "    <tr>\n",
       "      <th>18</th>\n",
       "      <td>Alive</td>\n",
       "      <td>No</td>\n",
       "      <td>67</td>\n",
       "      <td>NaN</td>\n",
       "    </tr>\n",
       "    <tr>\n",
       "      <th>19</th>\n",
       "      <td>Alive</td>\n",
       "      <td>Yes</td>\n",
       "      <td>33</td>\n",
       "      <td>30-40</td>\n",
       "    </tr>\n",
       "    <tr>\n",
       "      <th>20</th>\n",
       "      <td>Dead</td>\n",
       "      <td>No</td>\n",
       "      <td>68</td>\n",
       "      <td>NaN</td>\n",
       "    </tr>\n",
       "    <tr>\n",
       "      <th>21</th>\n",
       "      <td>Dead</td>\n",
       "      <td>No</td>\n",
       "      <td>72</td>\n",
       "      <td>NaN</td>\n",
       "    </tr>\n",
       "    <tr>\n",
       "      <th>22</th>\n",
       "      <td>Alive</td>\n",
       "      <td>Yes</td>\n",
       "      <td>34</td>\n",
       "      <td>30-40</td>\n",
       "    </tr>\n",
       "    <tr>\n",
       "      <th>23</th>\n",
       "      <td>Dead</td>\n",
       "      <td>No</td>\n",
       "      <td>61</td>\n",
       "      <td>53-64</td>\n",
       "    </tr>\n",
       "    <tr>\n",
       "      <th>24</th>\n",
       "      <td>Dead</td>\n",
       "      <td>No</td>\n",
       "      <td>66</td>\n",
       "      <td>NaN</td>\n",
       "    </tr>\n",
       "    <tr>\n",
       "      <th>25</th>\n",
       "      <td>Alive</td>\n",
       "      <td>No</td>\n",
       "      <td>43</td>\n",
       "      <td>40-53</td>\n",
       "    </tr>\n",
       "    <tr>\n",
       "      <th>26</th>\n",
       "      <td>Dead</td>\n",
       "      <td>No</td>\n",
       "      <td>71</td>\n",
       "      <td>NaN</td>\n",
       "    </tr>\n",
       "    <tr>\n",
       "      <th>27</th>\n",
       "      <td>Alive</td>\n",
       "      <td>Yes</td>\n",
       "      <td>47</td>\n",
       "      <td>40-53</td>\n",
       "    </tr>\n",
       "    <tr>\n",
       "      <th>28</th>\n",
       "      <td>Dead</td>\n",
       "      <td>No</td>\n",
       "      <td>67</td>\n",
       "      <td>NaN</td>\n",
       "    </tr>\n",
       "    <tr>\n",
       "      <th>29</th>\n",
       "      <td>Alive</td>\n",
       "      <td>No</td>\n",
       "      <td>22</td>\n",
       "      <td>0-30</td>\n",
       "    </tr>\n",
       "    <tr>\n",
       "      <th>...</th>\n",
       "      <td>...</td>\n",
       "      <td>...</td>\n",
       "      <td>...</td>\n",
       "      <td>...</td>\n",
       "    </tr>\n",
       "    <tr>\n",
       "      <th>1284</th>\n",
       "      <td>Dead</td>\n",
       "      <td>No</td>\n",
       "      <td>66</td>\n",
       "      <td>NaN</td>\n",
       "    </tr>\n",
       "    <tr>\n",
       "      <th>1285</th>\n",
       "      <td>Alive</td>\n",
       "      <td>Yes</td>\n",
       "      <td>34</td>\n",
       "      <td>30-40</td>\n",
       "    </tr>\n",
       "    <tr>\n",
       "      <th>1286</th>\n",
       "      <td>Dead</td>\n",
       "      <td>Yes</td>\n",
       "      <td>77</td>\n",
       "      <td>NaN</td>\n",
       "    </tr>\n",
       "    <tr>\n",
       "      <th>1287</th>\n",
       "      <td>Alive</td>\n",
       "      <td>No</td>\n",
       "      <td>48</td>\n",
       "      <td>40-53</td>\n",
       "    </tr>\n",
       "    <tr>\n",
       "      <th>1288</th>\n",
       "      <td>Alive</td>\n",
       "      <td>Yes</td>\n",
       "      <td>60</td>\n",
       "      <td>53-64</td>\n",
       "    </tr>\n",
       "    <tr>\n",
       "      <th>1289</th>\n",
       "      <td>Alive</td>\n",
       "      <td>No</td>\n",
       "      <td>41</td>\n",
       "      <td>40-53</td>\n",
       "    </tr>\n",
       "    <tr>\n",
       "      <th>1290</th>\n",
       "      <td>Alive</td>\n",
       "      <td>No</td>\n",
       "      <td>55</td>\n",
       "      <td>53-64</td>\n",
       "    </tr>\n",
       "    <tr>\n",
       "      <th>1291</th>\n",
       "      <td>Alive</td>\n",
       "      <td>Yes</td>\n",
       "      <td>46</td>\n",
       "      <td>40-53</td>\n",
       "    </tr>\n",
       "    <tr>\n",
       "      <th>1292</th>\n",
       "      <td>Alive</td>\n",
       "      <td>No</td>\n",
       "      <td>55</td>\n",
       "      <td>53-64</td>\n",
       "    </tr>\n",
       "    <tr>\n",
       "      <th>1293</th>\n",
       "      <td>Alive</td>\n",
       "      <td>No</td>\n",
       "      <td>20</td>\n",
       "      <td>0-30</td>\n",
       "    </tr>\n",
       "    <tr>\n",
       "      <th>1294</th>\n",
       "      <td>Dead</td>\n",
       "      <td>Yes</td>\n",
       "      <td>80</td>\n",
       "      <td>NaN</td>\n",
       "    </tr>\n",
       "    <tr>\n",
       "      <th>1295</th>\n",
       "      <td>Alive</td>\n",
       "      <td>Yes</td>\n",
       "      <td>57</td>\n",
       "      <td>53-64</td>\n",
       "    </tr>\n",
       "    <tr>\n",
       "      <th>1296</th>\n",
       "      <td>Alive</td>\n",
       "      <td>No</td>\n",
       "      <td>52</td>\n",
       "      <td>40-53</td>\n",
       "    </tr>\n",
       "    <tr>\n",
       "      <th>1297</th>\n",
       "      <td>Alive</td>\n",
       "      <td>Yes</td>\n",
       "      <td>48</td>\n",
       "      <td>40-53</td>\n",
       "    </tr>\n",
       "    <tr>\n",
       "      <th>1298</th>\n",
       "      <td>Alive</td>\n",
       "      <td>No</td>\n",
       "      <td>30</td>\n",
       "      <td>0-30</td>\n",
       "    </tr>\n",
       "    <tr>\n",
       "      <th>1299</th>\n",
       "      <td>Alive</td>\n",
       "      <td>Yes</td>\n",
       "      <td>57</td>\n",
       "      <td>53-64</td>\n",
       "    </tr>\n",
       "    <tr>\n",
       "      <th>1300</th>\n",
       "      <td>Alive</td>\n",
       "      <td>Yes</td>\n",
       "      <td>37</td>\n",
       "      <td>30-40</td>\n",
       "    </tr>\n",
       "    <tr>\n",
       "      <th>1301</th>\n",
       "      <td>Alive</td>\n",
       "      <td>No</td>\n",
       "      <td>27</td>\n",
       "      <td>0-30</td>\n",
       "    </tr>\n",
       "    <tr>\n",
       "      <th>1302</th>\n",
       "      <td>Alive</td>\n",
       "      <td>No</td>\n",
       "      <td>37</td>\n",
       "      <td>30-40</td>\n",
       "    </tr>\n",
       "    <tr>\n",
       "      <th>1303</th>\n",
       "      <td>Alive</td>\n",
       "      <td>No</td>\n",
       "      <td>36</td>\n",
       "      <td>30-40</td>\n",
       "    </tr>\n",
       "    <tr>\n",
       "      <th>1304</th>\n",
       "      <td>Alive</td>\n",
       "      <td>No</td>\n",
       "      <td>23</td>\n",
       "      <td>0-30</td>\n",
       "    </tr>\n",
       "    <tr>\n",
       "      <th>1305</th>\n",
       "      <td>Dead</td>\n",
       "      <td>No</td>\n",
       "      <td>55</td>\n",
       "      <td>53-64</td>\n",
       "    </tr>\n",
       "    <tr>\n",
       "      <th>1306</th>\n",
       "      <td>Alive</td>\n",
       "      <td>No</td>\n",
       "      <td>40</td>\n",
       "      <td>30-40</td>\n",
       "    </tr>\n",
       "    <tr>\n",
       "      <th>1307</th>\n",
       "      <td>Alive</td>\n",
       "      <td>No</td>\n",
       "      <td>33</td>\n",
       "      <td>30-40</td>\n",
       "    </tr>\n",
       "    <tr>\n",
       "      <th>1308</th>\n",
       "      <td>Alive</td>\n",
       "      <td>No</td>\n",
       "      <td>23</td>\n",
       "      <td>0-30</td>\n",
       "    </tr>\n",
       "    <tr>\n",
       "      <th>1309</th>\n",
       "      <td>Alive</td>\n",
       "      <td>Yes</td>\n",
       "      <td>35</td>\n",
       "      <td>30-40</td>\n",
       "    </tr>\n",
       "    <tr>\n",
       "      <th>1310</th>\n",
       "      <td>Alive</td>\n",
       "      <td>No</td>\n",
       "      <td>33</td>\n",
       "      <td>30-40</td>\n",
       "    </tr>\n",
       "    <tr>\n",
       "      <th>1311</th>\n",
       "      <td>Alive</td>\n",
       "      <td>Yes</td>\n",
       "      <td>21</td>\n",
       "      <td>0-30</td>\n",
       "    </tr>\n",
       "    <tr>\n",
       "      <th>1312</th>\n",
       "      <td>Alive</td>\n",
       "      <td>No</td>\n",
       "      <td>46</td>\n",
       "      <td>40-53</td>\n",
       "    </tr>\n",
       "    <tr>\n",
       "      <th>1313</th>\n",
       "      <td>Alive</td>\n",
       "      <td>Yes</td>\n",
       "      <td>41</td>\n",
       "      <td>40-53</td>\n",
       "    </tr>\n",
       "  </tbody>\n",
       "</table>\n",
       "<p>1314 rows × 4 columns</p>\n",
       "</div>"
      ],
      "text/plain": [
       "     outcome smoker  age ageGroup\n",
       "0      Alive    Yes   23     0-30\n",
       "1      Alive    Yes   18     0-30\n",
       "2       Dead    Yes   71      NaN\n",
       "3      Alive     No   67      NaN\n",
       "4      Alive     No   64    53-64\n",
       "5      Alive    Yes   38    30-40\n",
       "6      Alive    Yes   45    40-53\n",
       "7       Dead     No   76      NaN\n",
       "8      Alive     No   28     0-30\n",
       "9      Alive     No   27     0-30\n",
       "10     Alive     No   28     0-30\n",
       "11     Alive    Yes   34    30-40\n",
       "12     Alive     No   20     0-30\n",
       "13      Dead    Yes   72      NaN\n",
       "14     Alive    Yes   48    40-53\n",
       "15     Alive    Yes   45    40-53\n",
       "16      Dead     No   66      NaN\n",
       "17     Alive    Yes   30     0-30\n",
       "18     Alive     No   67      NaN\n",
       "19     Alive    Yes   33    30-40\n",
       "20      Dead     No   68      NaN\n",
       "21      Dead     No   72      NaN\n",
       "22     Alive    Yes   34    30-40\n",
       "23      Dead     No   61    53-64\n",
       "24      Dead     No   66      NaN\n",
       "25     Alive     No   43    40-53\n",
       "26      Dead     No   71      NaN\n",
       "27     Alive    Yes   47    40-53\n",
       "28      Dead     No   67      NaN\n",
       "29     Alive     No   22     0-30\n",
       "...      ...    ...  ...      ...\n",
       "1284    Dead     No   66      NaN\n",
       "1285   Alive    Yes   34    30-40\n",
       "1286    Dead    Yes   77      NaN\n",
       "1287   Alive     No   48    40-53\n",
       "1288   Alive    Yes   60    53-64\n",
       "1289   Alive     No   41    40-53\n",
       "1290   Alive     No   55    53-64\n",
       "1291   Alive    Yes   46    40-53\n",
       "1292   Alive     No   55    53-64\n",
       "1293   Alive     No   20     0-30\n",
       "1294    Dead    Yes   80      NaN\n",
       "1295   Alive    Yes   57    53-64\n",
       "1296   Alive     No   52    40-53\n",
       "1297   Alive    Yes   48    40-53\n",
       "1298   Alive     No   30     0-30\n",
       "1299   Alive    Yes   57    53-64\n",
       "1300   Alive    Yes   37    30-40\n",
       "1301   Alive     No   27     0-30\n",
       "1302   Alive     No   37    30-40\n",
       "1303   Alive     No   36    30-40\n",
       "1304   Alive     No   23     0-30\n",
       "1305    Dead     No   55    53-64\n",
       "1306   Alive     No   40    30-40\n",
       "1307   Alive     No   33    30-40\n",
       "1308   Alive     No   23     0-30\n",
       "1309   Alive    Yes   35    30-40\n",
       "1310   Alive     No   33    30-40\n",
       "1311   Alive    Yes   21     0-30\n",
       "1312   Alive     No   46    40-53\n",
       "1313   Alive    Yes   41    40-53\n",
       "\n",
       "[1314 rows x 4 columns]"
      ]
     },
     "execution_count": 15,
     "metadata": {},
     "output_type": "execute_result"
    }
   ],
   "source": [
    "smoking"
   ]
  },
  {
   "cell_type": "code",
   "execution_count": 16,
   "metadata": {},
   "outputs": [
    {
     "data": {
      "text/plain": [
       "0    23\n",
       "1    18\n",
       "2    71\n",
       "3    67\n",
       "4    64\n",
       "Name: age, dtype: int64"
      ]
     },
     "execution_count": 16,
     "metadata": {},
     "output_type": "execute_result"
    }
   ],
   "source": [
    "smoking['age'].head()"
   ]
  },
  {
   "cell_type": "code",
   "execution_count": 17,
   "metadata": {},
   "outputs": [
    {
     "data": {
      "text/plain": [
       "0       23\n",
       "1       18\n",
       "2       71\n",
       "3       67\n",
       "4       64\n",
       "5       38\n",
       "6       45\n",
       "7       76\n",
       "8       28\n",
       "9       27\n",
       "10      28\n",
       "11      34\n",
       "12      20\n",
       "13      72\n",
       "14      48\n",
       "15      45\n",
       "16      66\n",
       "17      30\n",
       "18      67\n",
       "19      33\n",
       "20      68\n",
       "21      72\n",
       "22      34\n",
       "23      61\n",
       "24      66\n",
       "25      43\n",
       "26      71\n",
       "27      47\n",
       "28      67\n",
       "29      22\n",
       "        ..\n",
       "1284    66\n",
       "1285    34\n",
       "1286    77\n",
       "1287    48\n",
       "1288    60\n",
       "1289    41\n",
       "1290    55\n",
       "1291    46\n",
       "1292    55\n",
       "1293    20\n",
       "1294    80\n",
       "1295    57\n",
       "1296    52\n",
       "1297    48\n",
       "1298    30\n",
       "1299    57\n",
       "1300    37\n",
       "1301    27\n",
       "1302    37\n",
       "1303    36\n",
       "1304    23\n",
       "1305    55\n",
       "1306    40\n",
       "1307    33\n",
       "1308    23\n",
       "1309    35\n",
       "1310    33\n",
       "1311    21\n",
       "1312    46\n",
       "1313    41\n",
       "Name: age, Length: 1314, dtype: int64"
      ]
     },
     "execution_count": 17,
     "metadata": {},
     "output_type": "execute_result"
    }
   ],
   "source": [
    "smoking.age"
   ]
  },
  {
   "cell_type": "code",
   "execution_count": 18,
   "metadata": {},
   "outputs": [],
   "source": [
    "byage = smoking.groupby(['ageGroup','smoker']).outcome.value_counts(normalize=True)"
   ]
  },
  {
   "cell_type": "code",
   "execution_count": 19,
   "metadata": {},
   "outputs": [
    {
     "data": {
      "text/plain": [
       "ageGroup  smoker  outcome\n",
       "0-30      No      Alive      0.981818\n",
       "                  Dead       0.018182\n",
       "          Yes     Alive      0.975610\n",
       "                  Dead       0.024390\n",
       "30-40     No      Alive      0.955224\n",
       "                  Dead       0.044776\n",
       "          Yes     Alive      0.940678\n",
       "                  Dead       0.059322\n",
       "40-53     No      Alive      0.876106\n",
       "                  Dead       0.123894\n",
       "          Yes     Alive      0.802395\n",
       "                  Dead       0.197605\n",
       "53-64     No      Alive      0.669291\n",
       "                  Dead       0.330709\n",
       "          Yes     Alive      0.580645\n",
       "                  Dead       0.419355\n",
       "Name: outcome, dtype: float64"
      ]
     },
     "execution_count": 19,
     "metadata": {},
     "output_type": "execute_result"
    }
   ],
   "source": [
    "byage"
   ]
  },
  {
   "cell_type": "code",
   "execution_count": 36,
   "metadata": {},
   "outputs": [
    {
     "data": {
      "text/plain": [
       "Text(0.5,1,'smoker')"
      ]
     },
     "execution_count": 36,
     "metadata": {},
     "output_type": "execute_result"
    },
    {
     "data": {
      "image/png": "[encoded data removed]",
      "text/plain": [
       "<Figure size 720x288 with 2 Axes>"
      ]
     },
     "metadata": {
      "needs_background": "light"
     },
     "output_type": "display_data"
    }
   ],
   "source": [
    "# smoking.outcome.value_counts().plot(kind='bar')\n",
    "pp.figure(figsize=(10,4))\n",
    "pp.subplot(1,2,2);smoking.outcome.value_counts().plot(kind='barh',color=['C0','C1']);pp.title('outcome')\n",
    "pp.subplot(1,2,1);smoking.smoker.value_counts().plot(kind='barh',color=['C2','C3']);pp.title('smoker')"
   ]
  },
  {
   "cell_type": "code",
   "execution_count": 38,
   "metadata": {},
   "outputs": [
    {
     "data": {
      "text/plain": [
       "Text(0.5,1,'smoker')"
      ]
     },
     "execution_count": 38,
     "metadata": {},
     "output_type": "execute_result"
    },
    {
     "data": {
      "image/png": "[encoded data removed]",
      "text/plain": [
       "<Figure size 720x288 with 2 Axes>"
      ]
     },
     "metadata": {},
     "output_type": "display_data"
    }
   ],
   "source": [
    "# smoking.outcome.value_counts().plot(kind='bar')\n",
    "pp.figure(figsize=(10,4))\n",
    "pp.subplot(1,2,2);smoking.outcome.value_counts().plot(kind='pie',colors=['C0','C1']);pp.title('outcome')\n",
    "pp.subplot(1,2,1);smoking.smoker.value_counts().plot(kind='pie',colors=['C2','C3']);pp.title('smoker')"
   ]
  },
  {
   "cell_type": "code",
   "execution_count": 40,
   "metadata": {},
   "outputs": [
    {
     "data": {
      "text/plain": [
       "smoker  outcome\n",
       "No      Alive      0.685792\n",
       "        Dead       0.314208\n",
       "Yes     Alive      0.761168\n",
       "        Dead       0.238832\n",
       "Name: outcome, dtype: float64"
      ]
     },
     "execution_count": 40,
     "metadata": {},
     "output_type": "execute_result"
    }
   ],
   "source": [
    "bysmoer"
   ]
  },
  {
   "cell_type": "code",
   "execution_count": 42,
   "metadata": {},
   "outputs": [
    {
     "data": {
      "text/plain": [
       "<matplotlib.axes._subplots.AxesSubplot at 0x7f2f536eb5c0>"
      ]
     },
     "execution_count": 42,
     "metadata": {},
     "output_type": "execute_result"
    },
    {
     "data": {
      "image/png": "[encoded data removed]",
      "text/plain": [
       "<Figure size 432x288 with 1 Axes>"
      ]
     },
     "metadata": {
      "needs_background": "light"
     },
     "output_type": "display_data"
    }
   ],
   "source": [
    "bysmoer.plot(kind='bar')"
   ]
  },
  {
   "cell_type": "code",
   "execution_count": 48,
   "metadata": {},
   "outputs": [
    {
     "data": {
      "text/plain": [
       "<matplotlib.axes._subplots.AxesSubplot at 0x7f2f537bb5c0>"
      ]
     },
     "execution_count": 48,
     "metadata": {},
     "output_type": "execute_result"
    },
    {
     "data": {
      "image/png": "[encoded data removed]",
      "text/plain": [
       "<Figure size 432x288 with 1 Axes>"
      ]
     },
     "metadata": {
      "needs_background": "light"
     },
     "output_type": "display_data"
    }
   ],
   "source": [
    "bysmoer.unstack().plot(kind='bar',stacked=True)"
   ]
  },
  {
   "cell_type": "code",
   "execution_count": 49,
   "metadata": {},
   "outputs": [
    {
     "data": {
      "text/plain": [
       "<matplotlib.axes._subplots.AxesSubplot at 0x7f2f535f6240>"
      ]
     },
     "execution_count": 49,
     "metadata": {},
     "output_type": "execute_result"
    },
    {
     "data": {
      "image/png": "[encoded data removed]",
      "text/plain": [
       "<Figure size 432x288 with 1 Axes>"
      ]
     },
     "metadata": {
      "needs_background": "light"
     },
     "output_type": "display_data"
    }
   ],
   "source": [
    "byage.unstack().plot(kind='bar',stacked=True)"
   ]
  },
  {
   "cell_type": "code",
   "execution_count": 50,
   "metadata": {},
   "outputs": [
    {
     "data": {
      "text/html": [
       "<div>\n",
       "<style scoped>\n",
       "    .dataframe tbody tr th:only-of-type {\n",
       "        vertical-align: middle;\n",
       "    }\n",
       "\n",
       "    .dataframe tbody tr th {\n",
       "        vertical-align: top;\n",
       "    }\n",
       "\n",
       "    .dataframe thead th {\n",
       "        text-align: right;\n",
       "    }\n",
       "</style>\n",
       "<table border=\"1\" class=\"dataframe\">\n",
       "  <thead>\n",
       "    <tr style=\"text-align: right;\">\n",
       "      <th></th>\n",
       "      <th>outcome</th>\n",
       "      <th>Alive</th>\n",
       "      <th>Dead</th>\n",
       "    </tr>\n",
       "    <tr>\n",
       "      <th>ageGroup</th>\n",
       "      <th>smoker</th>\n",
       "      <th></th>\n",
       "      <th></th>\n",
       "    </tr>\n",
       "  </thead>\n",
       "  <tbody>\n",
       "    <tr>\n",
       "      <th rowspan=\"2\" valign=\"top\">0-30</th>\n",
       "      <th>No</th>\n",
       "      <td>0.981818</td>\n",
       "      <td>0.018182</td>\n",
       "    </tr>\n",
       "    <tr>\n",
       "      <th>Yes</th>\n",
       "      <td>0.975610</td>\n",
       "      <td>0.024390</td>\n",
       "    </tr>\n",
       "    <tr>\n",
       "      <th rowspan=\"2\" valign=\"top\">30-40</th>\n",
       "      <th>No</th>\n",
       "      <td>0.955224</td>\n",
       "      <td>0.044776</td>\n",
       "    </tr>\n",
       "    <tr>\n",
       "      <th>Yes</th>\n",
       "      <td>0.940678</td>\n",
       "      <td>0.059322</td>\n",
       "    </tr>\n",
       "    <tr>\n",
       "      <th rowspan=\"2\" valign=\"top\">40-53</th>\n",
       "      <th>No</th>\n",
       "      <td>0.876106</td>\n",
       "      <td>0.123894</td>\n",
       "    </tr>\n",
       "    <tr>\n",
       "      <th>Yes</th>\n",
       "      <td>0.802395</td>\n",
       "      <td>0.197605</td>\n",
       "    </tr>\n",
       "    <tr>\n",
       "      <th rowspan=\"2\" valign=\"top\">53-64</th>\n",
       "      <th>No</th>\n",
       "      <td>0.669291</td>\n",
       "      <td>0.330709</td>\n",
       "    </tr>\n",
       "    <tr>\n",
       "      <th>Yes</th>\n",
       "      <td>0.580645</td>\n",
       "      <td>0.419355</td>\n",
       "    </tr>\n",
       "  </tbody>\n",
       "</table>\n",
       "</div>"
      ],
      "text/plain": [
       "outcome             Alive      Dead\n",
       "ageGroup smoker                    \n",
       "0-30     No      0.981818  0.018182\n",
       "         Yes     0.975610  0.024390\n",
       "30-40    No      0.955224  0.044776\n",
       "         Yes     0.940678  0.059322\n",
       "40-53    No      0.876106  0.123894\n",
       "         Yes     0.802395  0.197605\n",
       "53-64    No      0.669291  0.330709\n",
       "         Yes     0.580645  0.419355"
      ]
     },
     "execution_count": 50,
     "metadata": {},
     "output_type": "execute_result"
    }
   ],
   "source": [
    "byage.unstack()"
   ]
  },
  {
   "cell_type": "code",
   "execution_count": 51,
   "metadata": {},
   "outputs": [
    {
     "data": {
      "text/plain": [
       "ageGroup  smoker  outcome\n",
       "0-30      No      Alive      0.981818\n",
       "                  Dead       0.018182\n",
       "          Yes     Alive      0.975610\n",
       "                  Dead       0.024390\n",
       "30-40     No      Alive      0.955224\n",
       "                  Dead       0.044776\n",
       "          Yes     Alive      0.940678\n",
       "                  Dead       0.059322\n",
       "40-53     No      Alive      0.876106\n",
       "                  Dead       0.123894\n",
       "          Yes     Alive      0.802395\n",
       "                  Dead       0.197605\n",
       "53-64     No      Alive      0.669291\n",
       "                  Dead       0.330709\n",
       "          Yes     Alive      0.580645\n",
       "                  Dead       0.419355\n",
       "Name: outcome, dtype: float64"
      ]
     },
     "execution_count": 51,
     "metadata": {},
     "output_type": "execute_result"
    }
   ],
   "source": [
    "byage"
   ]
  },
  {
   "cell_type": "code",
   "execution_count": 52,
   "metadata": {},
   "outputs": [
    {
     "data": {
      "text/html": [
       "<div>\n",
       "<style scoped>\n",
       "    .dataframe tbody tr th:only-of-type {\n",
       "        vertical-align: middle;\n",
       "    }\n",
       "\n",
       "    .dataframe tbody tr th {\n",
       "        vertical-align: top;\n",
       "    }\n",
       "\n",
       "    .dataframe thead tr th {\n",
       "        text-align: left;\n",
       "    }\n",
       "\n",
       "    .dataframe thead tr:last-of-type th {\n",
       "        text-align: right;\n",
       "    }\n",
       "</style>\n",
       "<table border=\"1\" class=\"dataframe\">\n",
       "  <thead>\n",
       "    <tr>\n",
       "      <th>outcome</th>\n",
       "      <th colspan=\"2\" halign=\"left\">Alive</th>\n",
       "    </tr>\n",
       "    <tr>\n",
       "      <th>smoker</th>\n",
       "      <th>No</th>\n",
       "      <th>Yes</th>\n",
       "    </tr>\n",
       "    <tr>\n",
       "      <th>ageGroup</th>\n",
       "      <th></th>\n",
       "      <th></th>\n",
       "    </tr>\n",
       "  </thead>\n",
       "  <tbody>\n",
       "    <tr>\n",
       "      <th>0-30</th>\n",
       "      <td>0.981818</td>\n",
       "      <td>0.975610</td>\n",
       "    </tr>\n",
       "    <tr>\n",
       "      <th>30-40</th>\n",
       "      <td>0.955224</td>\n",
       "      <td>0.940678</td>\n",
       "    </tr>\n",
       "    <tr>\n",
       "      <th>40-53</th>\n",
       "      <td>0.876106</td>\n",
       "      <td>0.802395</td>\n",
       "    </tr>\n",
       "    <tr>\n",
       "      <th>53-64</th>\n",
       "      <td>0.669291</td>\n",
       "      <td>0.580645</td>\n",
       "    </tr>\n",
       "  </tbody>\n",
       "</table>\n",
       "</div>"
      ],
      "text/plain": [
       "outcome      Alive          \n",
       "smoker          No       Yes\n",
       "ageGroup                    \n",
       "0-30      0.981818  0.975610\n",
       "30-40     0.955224  0.940678\n",
       "40-53     0.876106  0.802395\n",
       "53-64     0.669291  0.580645"
      ]
     },
     "execution_count": 52,
     "metadata": {},
     "output_type": "execute_result"
    }
   ],
   "source": [
    "byage.unstack().drop(\"Dead\",axis=1).unstack()"
   ]
  },
  {
   "cell_type": "code",
   "execution_count": 53,
   "metadata": {},
   "outputs": [],
   "source": [
    "byage_new = byage.unstack().drop(\"Dead\",axis=1).unstack()\n",
    "byage_new.columns = [\"No\",\"Yes\"]\n",
    "byage_new.columns.name = \"smoker\""
   ]
  },
  {
   "cell_type": "code",
   "execution_count": 54,
   "metadata": {},
   "outputs": [
    {
     "data": {
      "text/html": [
       "<div>\n",
       "<style scoped>\n",
       "    .dataframe tbody tr th:only-of-type {\n",
       "        vertical-align: middle;\n",
       "    }\n",
       "\n",
       "    .dataframe tbody tr th {\n",
       "        vertical-align: top;\n",
       "    }\n",
       "\n",
       "    .dataframe thead th {\n",
       "        text-align: right;\n",
       "    }\n",
       "</style>\n",
       "<table border=\"1\" class=\"dataframe\">\n",
       "  <thead>\n",
       "    <tr style=\"text-align: right;\">\n",
       "      <th>smoker</th>\n",
       "      <th>No</th>\n",
       "      <th>Yes</th>\n",
       "    </tr>\n",
       "    <tr>\n",
       "      <th>ageGroup</th>\n",
       "      <th></th>\n",
       "      <th></th>\n",
       "    </tr>\n",
       "  </thead>\n",
       "  <tbody>\n",
       "    <tr>\n",
       "      <th>0-30</th>\n",
       "      <td>0.981818</td>\n",
       "      <td>0.975610</td>\n",
       "    </tr>\n",
       "    <tr>\n",
       "      <th>30-40</th>\n",
       "      <td>0.955224</td>\n",
       "      <td>0.940678</td>\n",
       "    </tr>\n",
       "    <tr>\n",
       "      <th>40-53</th>\n",
       "      <td>0.876106</td>\n",
       "      <td>0.802395</td>\n",
       "    </tr>\n",
       "    <tr>\n",
       "      <th>53-64</th>\n",
       "      <td>0.669291</td>\n",
       "      <td>0.580645</td>\n",
       "    </tr>\n",
       "  </tbody>\n",
       "</table>\n",
       "</div>"
      ],
      "text/plain": [
       "smoker          No       Yes\n",
       "ageGroup                    \n",
       "0-30      0.981818  0.975610\n",
       "30-40     0.955224  0.940678\n",
       "40-53     0.876106  0.802395\n",
       "53-64     0.669291  0.580645"
      ]
     },
     "execution_count": 54,
     "metadata": {},
     "output_type": "execute_result"
    }
   ],
   "source": [
    "byage_new"
   ]
  },
  {
   "cell_type": "code",
   "execution_count": 55,
   "metadata": {},
   "outputs": [
    {
     "data": {
      "text/plain": [
       "<matplotlib.axes._subplots.AxesSubplot at 0x7f2f535c38d0>"
      ]
     },
     "execution_count": 55,
     "metadata": {},
     "output_type": "execute_result"
    },
    {
     "data": {
      "image/png": "[encoded data removed]",
      "text/plain": [
       "<Figure size 432x288 with 1 Axes>"
      ]
     },
     "metadata": {
      "needs_background": "light"
     },
     "output_type": "display_data"
    }
   ],
   "source": [
    "byage_new.plot(kind='bar')"
   ]
  },
  {
   "cell_type": "code",
   "execution_count": 1,
   "metadata": {},
   "outputs": [],
   "source": [
    "# LECTURE NEW - EMAIL ANALYSIS AND Exploratory data analysis in python"
   ]
  },
  {
   "cell_type": "code",
   "execution_count": 69,
   "metadata": {},
   "outputs": [],
   "source": [
    "import numpy as np\n",
    "import scipy.stats\n",
    "import pandas as pd\n",
    "import matplotlib\n",
    "import matplotlib.pyplot as pp\n",
    "import pandas.plotting\n",
    "from IPython import display\n",
    "from ipywidgets import interact,widgets\n",
    "%matplotlib inline\n",
    "import re\n",
    "import mailbox\n",
    "import csv"
   ]
  },
  {
   "cell_type": "code",
   "execution_count": 70,
   "metadata": {},
   "outputs": [],
   "source": [
    "mbox = mailbox.mbox('Inbox.mbox')"
   ]
  },
  {
   "cell_type": "code",
   "execution_count": 71,
   "metadata": {},
   "outputs": [
    {
     "data": {
      "text/plain": [
       "['X-GM-THRID',\n",
       " 'X-Gmail-Labels',\n",
       " 'Delivered-To',\n",
       " 'Received',\n",
       " 'X-Google-Smtp-Source',\n",
       " 'X-Received',\n",
       " 'ARC-Seal',\n",
       " 'ARC-Message-Signature',\n",
       " 'ARC-Authentication-Results',\n",
       " 'Return-Path',\n",
       " 'Received',\n",
       " 'Received-SPF',\n",
       " 'Authentication-Results',\n",
       " 'DKIM-Signature',\n",
       " 'DKIM-Signature',\n",
       " 'Date',\n",
       " 'From',\n",
       " 'To',\n",
       " 'Message-ID',\n",
       " 'Subject',\n",
       " 'MIME-Version',\n",
       " 'Content-Type',\n",
       " 'X-AMAZON-RTE-VERSION',\n",
       " 'Bounces-to',\n",
       " 'X-AMAZON-MAIL-RELAY-TYPE',\n",
       " 'X-Original-MessageID',\n",
       " 'X-SES-Outgoing',\n",
       " 'Feedback-ID']"
      ]
     },
     "execution_count": 71,
     "metadata": {},
     "output_type": "execute_result"
    }
   ],
   "source": [
    "mbox[0].keys()"
   ]
  },
  {
   "cell_type": "code",
   "execution_count": 72,
   "metadata": {},
   "outputs": [],
   "source": [
    "with open('mbox.csv','w') as outfile:\n",
    "    writer = csv.writer(outfile)\n",
    "    writer.writerow(['subject','from','to','date'])\n",
    "    \n",
    "    for message in mbox:\n",
    "        writer.writerow([message['subject'],message['from'],message['to'],message['date']])"
   ]
  },
  {
   "cell_type": "code",
   "execution_count": 73,
   "metadata": {},
   "outputs": [],
   "source": [
    "messages = pd.read_csv('mbox.csv')"
   ]
  },
  {
   "cell_type": "code",
   "execution_count": 74,
   "metadata": {},
   "outputs": [
    {
     "name": "stdout",
     "output_type": "stream",
     "text": [
      "<class 'pandas.core.frame.DataFrame'>\n",
      "RangeIndex: 422 entries, 0 to 421\n",
      "Data columns (total 4 columns):\n",
      "subject    419 non-null object\n",
      "from       422 non-null object\n",
      "to         408 non-null object\n",
      "date       422 non-null object\n",
      "dtypes: object(4)\n",
      "memory usage: 13.3+ KB\n"
     ]
    }
   ],
   "source": [
    "messages.info()"
   ]
  },
  {
   "cell_type": "code",
   "execution_count": 75,
   "metadata": {},
   "outputs": [
    {
     "data": {
      "text/html": [
       "<div>\n",
       "<style scoped>\n",
       "    .dataframe tbody tr th:only-of-type {\n",
       "        vertical-align: middle;\n",
       "    }\n",
       "\n",
       "    .dataframe tbody tr th {\n",
       "        vertical-align: top;\n",
       "    }\n",
       "\n",
       "    .dataframe thead th {\n",
       "        text-align: right;\n",
       "    }\n",
       "</style>\n",
       "<table border=\"1\" class=\"dataframe\">\n",
       "  <thead>\n",
       "    <tr style=\"text-align: right;\">\n",
       "      <th></th>\n",
       "      <th>subject</th>\n",
       "      <th>from</th>\n",
       "      <th>to</th>\n",
       "      <th>date</th>\n",
       "    </tr>\n",
       "  </thead>\n",
       "  <tbody>\n",
       "    <tr>\n",
       "      <th>0</th>\n",
       "      <td>Thank you for creating a new Case: 5541885871</td>\n",
       "      <td>Amazon Developer Support &lt;no-reply-skilldev@am...</td>\n",
       "      <td>\"sanyamjaincs@gmail.com\" &lt;sanyamjaincs@gmail.com&gt;</td>\n",
       "      <td>Thu, 22 Nov 2018 09:56:49 +0000</td>\n",
       "    </tr>\n",
       "    <tr>\n",
       "      <th>1</th>\n",
       "      <td>[Register Today] Webinar: Building Skills with...</td>\n",
       "      <td>Amazon Alexa Team &lt;no-reply-alexa@amazon.com&gt;</td>\n",
       "      <td>sanyamjaincs@gmail.com</td>\n",
       "      <td>Fri, 12 Oct 2018 17:47:41 -0500 (CDT)</td>\n",
       "    </tr>\n",
       "    <tr>\n",
       "      <th>2</th>\n",
       "      <td>Capturing good email addresses on your forms.</td>\n",
       "      <td>\"Elena Aguirre\" &lt;eaguirre@mailgun.com&gt;</td>\n",
       "      <td>&lt;sanyamjaincs@gmail.com&gt;</td>\n",
       "      <td>Thu, 04 Oct 2018 17:02:52 +0000</td>\n",
       "    </tr>\n",
       "    <tr>\n",
       "      <th>3</th>\n",
       "      <td>Exciting new roles available at Capgemini Group</td>\n",
       "      <td>capgemini-jobnotification@noreply12.jobs2web.com</td>\n",
       "      <td>Sanyam Jain &lt;sanyamjaincs@gmail.com&gt;</td>\n",
       "      <td>Thu, 16 Aug 2018 08:46:30 +0000 (UTC)</td>\n",
       "    </tr>\n",
       "    <tr>\n",
       "      <th>4</th>\n",
       "      <td>Know Your Ethnicity submitted for review</td>\n",
       "      <td>Actions on Google &lt;actions-noreply@google.com&gt;</td>\n",
       "      <td>sanyamjaincs@gmail.com</td>\n",
       "      <td>Wed, 26 Sep 2018 03:22:28 -0700</td>\n",
       "    </tr>\n",
       "  </tbody>\n",
       "</table>\n",
       "</div>"
      ],
      "text/plain": [
       "                                             subject  \\\n",
       "0      Thank you for creating a new Case: 5541885871   \n",
       "1  [Register Today] Webinar: Building Skills with...   \n",
       "2      Capturing good email addresses on your forms.   \n",
       "3    Exciting new roles available at Capgemini Group   \n",
       "4           Know Your Ethnicity submitted for review   \n",
       "\n",
       "                                                from  \\\n",
       "0  Amazon Developer Support <no-reply-skilldev@am...   \n",
       "1      Amazon Alexa Team <no-reply-alexa@amazon.com>   \n",
       "2             \"Elena Aguirre\" <eaguirre@mailgun.com>   \n",
       "3   capgemini-jobnotification@noreply12.jobs2web.com   \n",
       "4     Actions on Google <actions-noreply@google.com>   \n",
       "\n",
       "                                                  to  \\\n",
       "0  \"sanyamjaincs@gmail.com\" <sanyamjaincs@gmail.com>   \n",
       "1                             sanyamjaincs@gmail.com   \n",
       "2                           <sanyamjaincs@gmail.com>   \n",
       "3               Sanyam Jain <sanyamjaincs@gmail.com>   \n",
       "4                             sanyamjaincs@gmail.com   \n",
       "\n",
       "                                    date  \n",
       "0        Thu, 22 Nov 2018 09:56:49 +0000  \n",
       "1  Fri, 12 Oct 2018 17:47:41 -0500 (CDT)  \n",
       "2        Thu, 04 Oct 2018 17:02:52 +0000  \n",
       "3  Thu, 16 Aug 2018 08:46:30 +0000 (UTC)  \n",
       "4        Wed, 26 Sep 2018 03:22:28 -0700  "
      ]
     },
     "execution_count": 75,
     "metadata": {},
     "output_type": "execute_result"
    }
   ],
   "source": [
    "messages.head()"
   ]
  },
  {
   "cell_type": "code",
   "execution_count": 76,
   "metadata": {},
   "outputs": [
    {
     "data": {
      "text/plain": [
       "0      Amazon Developer Support <no-reply-skilldev@am...\n",
       "1          Amazon Alexa Team <no-reply-alexa@amazon.com>\n",
       "2                 \"Elena Aguirre\" <eaguirre@mailgun.com>\n",
       "3       capgemini-jobnotification@noreply12.jobs2web.com\n",
       "4         Actions on Google <actions-noreply@google.com>\n",
       "5                     No-Reply <no-reply@apowersoft.com>\n",
       "6      Google Cloud Platform <CloudPlatform-noreply@g...\n",
       "7                  Google <no-reply@accounts.google.com>\n",
       "8                       OYO Rooms <noreply@oyorooms.com>\n",
       "9                   \"Amazon.in\" <ship-confirm@amazon.in>\n",
       "10     Microsoft account team\\r\\n\\t<account-security-...\n",
       "11         Amazon Web Services <no-reply-aws@amazon.com>\n",
       "12                    \"Amazon.in\" <store-news@amazon.in>\n",
       "13     \"Amazon.in Reviews\" <customer-reviews-messages...\n",
       "14                      Epam <support.epam@myanatomy.in>\n",
       "15                    \"Paytm Mall\" <mail@info.paytm.com>\n",
       "16                \"Amazon.in\" <account-update@amazon.in>\n",
       "17                             support@geeksforgeeks.org\n",
       "18     \"Amazon @ icims\" <amazon+autoreply@agents.icim...\n",
       "19                              Surge <surge@iitk.ac.in>\n",
       "20                              Surge <surge@iitk.ac.in>\n",
       "21               icacccn2018 <icacccn2018@easychair.org>\n",
       "22                      \"Amazon.in\" <delivers@amazon.in>\n",
       "23       Google Assistant <assistant-noreply@google.com>\n",
       "24               icacccn2018 <icacccn2018@easychair.org>\n",
       "25                    \"Amazon.in\" <store-news@amazon.in>\n",
       "26                 Trainee Kvch <trainee.kvch@gmail.com>\n",
       "27                     Amazon <account-update@amazon.in>\n",
       "28                         \"Paytm\" <mail@info.paytm.com>\n",
       "29                          NHCE <mailer@careers360.org>\n",
       "                             ...                        \n",
       "392    \"Anne from Magoosh\" <anne.bercilla@magoosh.int...\n",
       "393              Alexa Skills Team <no-reply@amazon.com>\n",
       "394               \"Amazon.in\" <account-update@amazon.in>\n",
       "395               Campus Commune <CampusCommune@tcs.com>\n",
       "396                             Paytm <alerts@paytm.com>\n",
       "397                 \"Amazon.in\" <ship-confirm@amazon.in>\n",
       "398                B-School 2018 <mailer@careers360.org>\n",
       "399    \"no-reply-skilldev@amazon.com\" <no-reply-skill...\n",
       "400                     Epam <support.epam@myanatomy.in>\n",
       "401                     Epam <support.epam@myanatomy.in>\n",
       "402                     Epam <support.epam@myanatomy.in>\n",
       "403    Microsoft account team\\r\\n\\t<account-security-...\n",
       "404                BookMyShow <tickets@bookmyshow.email>\n",
       "405        Convener DSMLA 2019 <convenerdsmla@gmail.com>\n",
       "406        Amazon Alexa Team <no-reply-alexa@amazon.com>\n",
       "407    \"no-reply-skilldev@amazon.com\" <no-reply-skill...\n",
       "408                   sanyam jain <sanyamlala@gmail.com>\n",
       "409                   \"Amazon.in\" <store-news@amazon.in>\n",
       "410     \"SimplyCast Team\" <notifications@simplycast.com>\n",
       "411            \"Motherconcern\" <help1@motherconcern.org>\n",
       "412                   \"Amazon.in\" <store-news@amazon.in>\n",
       "413                            Careers <Careers@tcs.com>\n",
       "414                         Twilio <no-reply@twilio.com>\n",
       "415    \"Andrew from Magoosh\" <andrew.gealy@magoosh.in...\n",
       "416        Amazon Web Services <no-reply-aws@amazon.com>\n",
       "417                               sanyamjain@upesacm.org\n",
       "418                   \"Amazon.com\" <delivery@amazon.com>\n",
       "419                PVR Cinemas <bookings@pvrcinemas.com>\n",
       "420              icacccn2018 <icacccn2018@easychair.org>\n",
       "421    Amazon Developer Support <no-reply-skilldev@am...\n",
       "Name: from, Length: 422, dtype: object"
      ]
     },
     "execution_count": 76,
     "metadata": {},
     "output_type": "execute_result"
    }
   ],
   "source": [
    "messages['from']"
   ]
  },
  {
   "cell_type": "code",
   "execution_count": 77,
   "metadata": {},
   "outputs": [
    {
     "data": {
      "text/plain": [
       "'Amazon Developer Support <no-reply-skilldev@amazon.com>'"
      ]
     },
     "execution_count": 77,
     "metadata": {},
     "output_type": "execute_result"
    }
   ],
   "source": [
    "messages['from'][0]"
   ]
  },
  {
   "cell_type": "code",
   "execution_count": 78,
   "metadata": {},
   "outputs": [
    {
     "data": {
      "text/plain": [
       "0    Amazon Developer Support <no-reply-skilldev@am...\n",
       "1        Amazon Alexa Team <no-reply-alexa@amazon.com>\n",
       "2               \"Elena Aguirre\" <eaguirre@mailgun.com>\n",
       "3     capgemini-jobnotification@noreply12.jobs2web.com\n",
       "4       Actions on Google <actions-noreply@google.com>\n",
       "5                   No-Reply <no-reply@apowersoft.com>\n",
       "6    Google Cloud Platform <CloudPlatform-noreply@g...\n",
       "7                Google <no-reply@accounts.google.com>\n",
       "8                     OYO Rooms <noreply@oyorooms.com>\n",
       "9                 \"Amazon.in\" <ship-confirm@amazon.in>\n",
       "Name: from, dtype: object"
      ]
     },
     "execution_count": 78,
     "metadata": {},
     "output_type": "execute_result"
    }
   ],
   "source": [
    "messages['from'][0:10]"
   ]
  },
  {
   "cell_type": "code",
   "execution_count": 79,
   "metadata": {},
   "outputs": [
    {
     "data": {
      "text/plain": [
       "<_sre.SRE_Match object; span=(25, 55), match='<no-reply-skilldev@amazon.com>'>"
      ]
     },
     "execution_count": 79,
     "metadata": {},
     "output_type": "execute_result"
    }
   ],
   "source": [
    "re.search('<(.+)>',messages['from'][0])"
   ]
  },
  {
   "cell_type": "code",
   "execution_count": 80,
   "metadata": {},
   "outputs": [
    {
     "data": {
      "text/plain": [
       "'no-reply-skilldev@amazon.com'"
      ]
     },
     "execution_count": 80,
     "metadata": {},
     "output_type": "execute_result"
    }
   ],
   "source": [
    "re.search('<(.+)>',messages['from'][0]).group(1)"
   ]
  },
  {
   "cell_type": "code",
   "execution_count": 81,
   "metadata": {},
   "outputs": [],
   "source": [
    "def clean_address(raw):\n",
    "    match = re.search('<(.+)>',raw)\n",
    "    \n",
    "    if match is None:\n",
    "        return raw\n",
    "    else:\n",
    "        return match.group(1)"
   ]
  },
  {
   "cell_type": "code",
   "execution_count": 82,
   "metadata": {},
   "outputs": [
    {
     "data": {
      "text/plain": [
       "'no-reply-skilldev@amazon.com'"
      ]
     },
     "execution_count": 82,
     "metadata": {},
     "output_type": "execute_result"
    }
   ],
   "source": [
    "clean_address(messages['from'][0])"
   ]
  },
  {
   "cell_type": "code",
   "execution_count": 83,
   "metadata": {},
   "outputs": [
    {
     "data": {
      "text/plain": [
       "'CloudPlatform-noreply@google.com'"
      ]
     },
     "execution_count": 83,
     "metadata": {},
     "output_type": "execute_result"
    }
   ],
   "source": [
    "clean_address(messages['from'][6])"
   ]
  },
  {
   "cell_type": "code",
   "execution_count": 84,
   "metadata": {},
   "outputs": [],
   "source": [
    "messages['from'] = messages['from'].apply(clean_address)"
   ]
  },
  {
   "cell_type": "code",
   "execution_count": 85,
   "metadata": {},
   "outputs": [
    {
     "data": {
      "text/plain": [
       "0                           no-reply-skilldev@amazon.com\n",
       "1                              no-reply-alexa@amazon.com\n",
       "2                                   eaguirre@mailgun.com\n",
       "3       capgemini-jobnotification@noreply12.jobs2web.com\n",
       "4                             actions-noreply@google.com\n",
       "5                                no-reply@apowersoft.com\n",
       "6                       CloudPlatform-noreply@google.com\n",
       "7                           no-reply@accounts.google.com\n",
       "8                                   noreply@oyorooms.com\n",
       "9                                 ship-confirm@amazon.in\n",
       "10     account-security-noreply@accountprotection.mic...\n",
       "11                               no-reply-aws@amazon.com\n",
       "12                                  store-news@amazon.in\n",
       "13                   customer-reviews-messages@amazon.in\n",
       "14                             support.epam@myanatomy.in\n",
       "15                                   mail@info.paytm.com\n",
       "16                              account-update@amazon.in\n",
       "17                             support@geeksforgeeks.org\n",
       "18                     amazon+autoreply@agents.icims.com\n",
       "19                                      surge@iitk.ac.in\n",
       "20                                      surge@iitk.ac.in\n",
       "21                             icacccn2018@easychair.org\n",
       "22                                    delivers@amazon.in\n",
       "23                          assistant-noreply@google.com\n",
       "24                             icacccn2018@easychair.org\n",
       "25                                  store-news@amazon.in\n",
       "26                                trainee.kvch@gmail.com\n",
       "27                              account-update@amazon.in\n",
       "28                                   mail@info.paytm.com\n",
       "29                                 mailer@careers360.org\n",
       "                             ...                        \n",
       "392              anne.bercilla@magoosh.intercom-mail.com\n",
       "393                                  no-reply@amazon.com\n",
       "394                             account-update@amazon.in\n",
       "395                                CampusCommune@tcs.com\n",
       "396                                     alerts@paytm.com\n",
       "397                               ship-confirm@amazon.in\n",
       "398                                mailer@careers360.org\n",
       "399                         no-reply-skilldev@amazon.com\n",
       "400                            support.epam@myanatomy.in\n",
       "401                            support.epam@myanatomy.in\n",
       "402                            support.epam@myanatomy.in\n",
       "403    account-security-noreply@accountprotection.mic...\n",
       "404                             tickets@bookmyshow.email\n",
       "405                              convenerdsmla@gmail.com\n",
       "406                            no-reply-alexa@amazon.com\n",
       "407                         no-reply-skilldev@amazon.com\n",
       "408                                 sanyamlala@gmail.com\n",
       "409                                 store-news@amazon.in\n",
       "410                         notifications@simplycast.com\n",
       "411                              help1@motherconcern.org\n",
       "412                                 store-news@amazon.in\n",
       "413                                      Careers@tcs.com\n",
       "414                                  no-reply@twilio.com\n",
       "415               andrew.gealy@magoosh.intercom-mail.com\n",
       "416                              no-reply-aws@amazon.com\n",
       "417                               sanyamjain@upesacm.org\n",
       "418                                  delivery@amazon.com\n",
       "419                              bookings@pvrcinemas.com\n",
       "420                            icacccn2018@easychair.org\n",
       "421                         no-reply-skilldev@amazon.com\n",
       "Name: from, Length: 422, dtype: object"
      ]
     },
     "execution_count": 85,
     "metadata": {},
     "output_type": "execute_result"
    }
   ],
   "source": [
    "messages['from']"
   ]
  },
  {
   "cell_type": "code",
   "execution_count": 86,
   "metadata": {},
   "outputs": [],
   "source": [
    "messages['to'] = messages['to'].dropna().apply(clean_address)"
   ]
  },
  {
   "cell_type": "code",
   "execution_count": 87,
   "metadata": {},
   "outputs": [
    {
     "data": {
      "text/plain": [
       "0                                 sanyamjaincs@gmail.com\n",
       "1                                 sanyamjaincs@gmail.com\n",
       "2                                 sanyamjaincs@gmail.com\n",
       "3                                 sanyamjaincs@gmail.com\n",
       "4                                 sanyamjaincs@gmail.com\n",
       "5                                 sanyamjaincs@gmail.com\n",
       "6                                 sanyamjaincs@gmail.com\n",
       "7                                 sanyamjaincs@gmail.com\n",
       "8                                 sanyamjaincs@gmail.com\n",
       "9                                 sanyamjaincs@gmail.com\n",
       "10                                sanyamjaincs@gmail.com\n",
       "11                                sanyamjaincs@gmail.com\n",
       "12                                sanyamjaincs@gmail.com\n",
       "13                                sanyamjaincs@gmail.com\n",
       "14                                sanyamjaincs@gmail.com\n",
       "15                                sanyamjaincs@gmail.com\n",
       "16                                sanyamjaincs@gmail.com\n",
       "17                                sanyamjaincs@gmail.com\n",
       "18                                sanyamjaincs@gmail.com\n",
       "19     surge@iitk.ac.in>, SANYAM JAIN <sanyamjaincs@g...\n",
       "20     surge@iitk.ac.in>, SANYAM JAIN <sanyamjaincs@g...\n",
       "21                                sanyamjaincs@gmail.com\n",
       "22                                sanyamjaincs@gmail.com\n",
       "23                                sanyamjaincs@gmail.com\n",
       "24                                sanyamjaincs@gmail.com\n",
       "25                                sanyamjaincs@gmail.com\n",
       "26                                sanyamjaincs@gmail.com\n",
       "27                                sanyamjaincs@gmail.com\n",
       "28                                sanyamjaincs@gmail.com\n",
       "29                                sanyamjaincs@gmail.com\n",
       "                             ...                        \n",
       "392                               sanyamjaincs@gmail.com\n",
       "393                               sanyamjaincs@gmail.com\n",
       "394                               sanyamjaincs@gmail.com\n",
       "395                                                  NaN\n",
       "396                               sanyamjaincs@gmail.com\n",
       "397                               sanyamjaincs@gmail.com\n",
       "398                               sanyamjaincs@gmail.com\n",
       "399                               sanyamjaincs@gmail.com\n",
       "400                               sanyamjaincs@gmail.com\n",
       "401                               sanyamjaincs@gmail.com\n",
       "402                               sanyamjaincs@gmail.com\n",
       "403                               sanyamjaincs@gmail.com\n",
       "404                               sanyamjaincs@gmail.com\n",
       "405                           springer@cmritonline.ac.in\n",
       "406                               sanyamjaincs@gmail.com\n",
       "407                               sanyamjaincs@gmail.com\n",
       "408                               sanyamjaincs@gmail.com\n",
       "409                               sanyamjaincs@gmail.com\n",
       "410                               sanyamjaincs@gmail.com\n",
       "411                              help1@motherconcern.org\n",
       "412                               sanyamjaincs@gmail.com\n",
       "413                               sanyamjaincs@gmail.com\n",
       "414                               sanyamjaincs@gmail.com\n",
       "415                               sanyamjaincs@gmail.com\n",
       "416                               sanyamjaincs@gmail.com\n",
       "417                              Amara_Meena@infosys.com\n",
       "418                               sanyamjaincs@gmail.com\n",
       "419                               sanyamjaincs@gmail.com\n",
       "420                               sanyamjaincs@gmail.com\n",
       "421                               sanyamjaincs@gmail.com\n",
       "Name: to, Length: 422, dtype: object"
      ]
     },
     "execution_count": 87,
     "metadata": {},
     "output_type": "execute_result"
    }
   ],
   "source": [
    "messages['to']"
   ]
  },
  {
   "cell_type": "code",
   "execution_count": 88,
   "metadata": {},
   "outputs": [
    {
     "data": {
      "text/plain": [
       "0            Thu, 22 Nov 2018 09:56:49 +0000\n",
       "1      Fri, 12 Oct 2018 17:47:41 -0500 (CDT)\n",
       "2            Thu, 04 Oct 2018 17:02:52 +0000\n",
       "3      Thu, 16 Aug 2018 08:46:30 +0000 (UTC)\n",
       "4            Wed, 26 Sep 2018 03:22:28 -0700\n",
       "5            Fri, 07 Sep 2018 16:43:28 +0000\n",
       "6            Wed, 26 Sep 2018 19:05:11 +0000\n",
       "7      Tue, 15 May 2018 13:19:31 +0000 (UTC)\n",
       "8      Tue, 20 Nov 2018 15:07:25 +0000 (UTC)\n",
       "9            Mon, 17 Oct 2016 22:47:18 +0000\n",
       "10            Thu, 7 Jun 2018 03:12:19 -0700\n",
       "11           Thu, 11 Oct 2018 19:40:34 +0000\n",
       "12           Sun, 15 Oct 2017 09:43:23 +0000\n",
       "13           Sat, 11 Feb 2017 03:27:10 +0000\n",
       "14     Mon, 20 Aug 2018 12:06:45 +0000 (UTC)\n",
       "15     Sat, 08 Sep 2018 08:51:27 +0000 (UTC)\n",
       "16            Thu, 7 Dec 2017 18:53:44 +0000\n",
       "17           Sun, 18 Feb 2018 06:30:22 +0000\n",
       "18     Tue, 31 Jul 2018 01:26:00 -0400 (EDT)\n",
       "19           Tue, 30 Jan 2018 16:56:44 +0000\n",
       "20           Tue, 30 Jan 2018 16:48:18 +0000\n",
       "21           Mon, 15 Oct 2018 04:46:55 +0200\n",
       "22            Thu, 8 Jun 2017 04:53:46 +0000\n",
       "23           Thu, 27 Sep 2018 06:09:22 -0700\n",
       "24           Mon, 27 Aug 2018 06:50:08 +0200\n",
       "25           Thu, 20 Apr 2017 00:12:19 +0000\n",
       "26           Fri, 27 Apr 2018 12:02:10 +0530\n",
       "27           Wed, 17 Oct 2018 11:19:00 +0000\n",
       "28     Fri, 20 Apr 2018 13:00:42 +0000 (UTC)\n",
       "29           Tue, 15 May 2018 15:37:12 +0530\n",
       "                       ...                  \n",
       "392          Tue, 28 Aug 2018 07:40:34 +0000\n",
       "393           Sun, 2 Sep 2018 07:05:36 +0000\n",
       "394          Mon, 17 Oct 2016 12:37:28 +0000\n",
       "395           Wed, 8 Aug 2018 19:31:15 +0530\n",
       "396    Mon, 18 Jun 2018 08:47:46 +0000 (UTC)\n",
       "397           Thu, 9 Feb 2017 20:56:38 +0000\n",
       "398           Sat, 5 May 2018 17:12:43 +0530\n",
       "399          Wed, 17 Oct 2018 06:40:03 +0000\n",
       "400    Mon, 20 Aug 2018 14:57:12 +0000 (UTC)\n",
       "401    Mon, 20 Aug 2018 14:57:13 +0000 (UTC)\n",
       "402    Mon, 20 Aug 2018 14:57:12 +0000 (UTC)\n",
       "403           Sat, 8 Sep 2018 10:28:10 -0700\n",
       "404          Sun, 22 Apr 2018 18:27:09 +0000\n",
       "405          Mon, 12 Nov 2018 10:51:36 +0530\n",
       "406    Fri, 28 Sep 2018 17:34:26 -0500 (CDT)\n",
       "407          Fri, 19 Oct 2018 07:24:57 +0000\n",
       "408          Tue, 22 Nov 2016 22:31:19 +0530\n",
       "409          Mon, 22 Oct 2018 15:21:19 +0000\n",
       "410          Thu, 02 Aug 2018 04:01:17 -0400\n",
       "411          Wed, 28 Sep 2016 10:42:22 +0530\n",
       "412          Tue, 15 Nov 2016 02:26:24 +0000\n",
       "413          Fri, 31 Aug 2018 19:52:07 +0530\n",
       "414    Sun, 05 Aug 2018 20:21:41 +0000 (UTC)\n",
       "415          Mon, 03 Sep 2018 06:28:02 +0000\n",
       "416          Fri, 13 Jul 2018 07:53:52 +0000\n",
       "417          Fri, 03 Aug 2018 16:04:03 +0530\n",
       "418          Mon, 17 Oct 2016 22:47:18 +0000\n",
       "419           Tue, 8 May 2018 17:23:03 +0530\n",
       "420          Wed, 22 Aug 2018 15:13:23 +0200\n",
       "421          Mon, 26 Nov 2018 20:36:23 +0000\n",
       "Name: date, Length: 422, dtype: object"
      ]
     },
     "execution_count": 88,
     "metadata": {},
     "output_type": "execute_result"
    }
   ],
   "source": [
    "messages['date']"
   ]
  },
  {
   "cell_type": "code",
   "execution_count": 89,
   "metadata": {},
   "outputs": [
    {
     "data": {
      "text/plain": [
       "'Thu, 22 Nov 2018 09:56:49 +0000'"
      ]
     },
     "execution_count": 89,
     "metadata": {},
     "output_type": "execute_result"
    }
   ],
   "source": [
    "messages['date'][0]"
   ]
  },
  {
   "cell_type": "code",
   "execution_count": 90,
   "metadata": {},
   "outputs": [
    {
     "data": {
      "text/plain": [
       "Timestamp('2018-11-22 09:56:49')"
      ]
     },
     "execution_count": 90,
     "metadata": {},
     "output_type": "execute_result"
    }
   ],
   "source": [
    "pd.to_datetime(messages['date'][0])"
   ]
  },
  {
   "cell_type": "code",
   "execution_count": 91,
   "metadata": {},
   "outputs": [
    {
     "data": {
      "text/plain": [
       "Timestamp('2018-11-22 04:56:49-0500', tz='Etc/GMT+5')"
      ]
     },
     "execution_count": 91,
     "metadata": {},
     "output_type": "execute_result"
    }
   ],
   "source": [
    "pd.to_datetime(messages['date'][0]).tz_localize('UTC').tz_convert('Etc/GMT+5')"
   ]
  },
  {
   "cell_type": "code",
   "execution_count": 92,
   "metadata": {},
   "outputs": [],
   "source": [
    "messages['date'] = messages['date'].apply(lambda s: pd.to_datetime(s).tz_localize('UTC').tz_convert('Etc/GMT+5'))"
   ]
  },
  {
   "cell_type": "code",
   "execution_count": 93,
   "metadata": {},
   "outputs": [
    {
     "data": {
      "text/plain": [
       "0     2018-11-22 04:56:49-05:00\n",
       "1     2018-10-12 17:47:41-05:00\n",
       "2     2018-10-04 12:02:52-05:00\n",
       "3     2018-08-16 03:46:30-05:00\n",
       "4     2018-09-26 05:22:28-05:00\n",
       "5     2018-09-07 11:43:28-05:00\n",
       "6     2018-09-26 14:05:11-05:00\n",
       "7     2018-05-15 08:19:31-05:00\n",
       "8     2018-11-20 10:07:25-05:00\n",
       "9     2016-10-17 17:47:18-05:00\n",
       "10    2018-06-07 05:12:19-05:00\n",
       "11    2018-10-11 14:40:34-05:00\n",
       "12    2017-10-15 04:43:23-05:00\n",
       "13    2017-02-10 22:27:10-05:00\n",
       "14    2018-08-20 07:06:45-05:00\n",
       "15    2018-09-08 03:51:27-05:00\n",
       "16    2017-12-07 13:53:44-05:00\n",
       "17    2018-02-18 01:30:22-05:00\n",
       "18    2018-07-31 00:26:00-05:00\n",
       "19    2018-01-30 11:56:44-05:00\n",
       "20    2018-01-30 11:48:18-05:00\n",
       "21    2018-10-14 21:46:55-05:00\n",
       "22    2017-06-07 23:53:46-05:00\n",
       "23    2018-09-27 08:09:22-05:00\n",
       "24    2018-08-26 23:50:08-05:00\n",
       "25    2017-04-19 19:12:19-05:00\n",
       "26    2018-04-27 01:32:10-05:00\n",
       "27    2018-10-17 06:19:00-05:00\n",
       "28    2018-04-20 08:00:42-05:00\n",
       "29    2018-05-15 05:07:12-05:00\n",
       "                 ...           \n",
       "392   2018-08-28 02:40:34-05:00\n",
       "393   2018-09-02 02:05:36-05:00\n",
       "394   2016-10-17 07:37:28-05:00\n",
       "395   2018-08-08 09:01:15-05:00\n",
       "396   2018-06-18 03:47:46-05:00\n",
       "397   2017-02-09 15:56:38-05:00\n",
       "398   2018-05-05 06:42:43-05:00\n",
       "399   2018-10-17 01:40:03-05:00\n",
       "400   2018-08-20 09:57:12-05:00\n",
       "401   2018-08-20 09:57:13-05:00\n",
       "402   2018-08-20 09:57:12-05:00\n",
       "403   2018-09-08 12:28:10-05:00\n",
       "404   2018-04-22 13:27:09-05:00\n",
       "405   2018-11-12 00:21:36-05:00\n",
       "406   2018-09-28 17:34:26-05:00\n",
       "407   2018-10-19 02:24:57-05:00\n",
       "408   2016-11-22 12:01:19-05:00\n",
       "409   2018-10-22 10:21:19-05:00\n",
       "410   2018-08-02 03:01:17-05:00\n",
       "411   2016-09-28 00:12:22-05:00\n",
       "412   2016-11-14 21:26:24-05:00\n",
       "413   2018-08-31 09:22:07-05:00\n",
       "414   2018-08-05 15:21:41-05:00\n",
       "415   2018-09-03 01:28:02-05:00\n",
       "416   2018-07-13 02:53:52-05:00\n",
       "417   2018-08-03 05:34:03-05:00\n",
       "418   2016-10-17 17:47:18-05:00\n",
       "419   2018-05-08 06:53:03-05:00\n",
       "420   2018-08-22 08:13:23-05:00\n",
       "421   2018-11-26 15:36:23-05:00\n",
       "Name: date, Length: 422, dtype: datetime64[ns, Etc/GMT+5]"
      ]
     },
     "execution_count": 93,
     "metadata": {},
     "output_type": "execute_result"
    }
   ],
   "source": [
    "messages['date']"
   ]
  },
  {
   "cell_type": "code",
   "execution_count": 94,
   "metadata": {},
   "outputs": [
    {
     "data": {
      "text/plain": [
       "0   2018-11-22 04:56:49-05:00\n",
       "1   2018-10-12 17:47:41-05:00\n",
       "2   2018-10-04 12:02:52-05:00\n",
       "3   2018-08-16 03:46:30-05:00\n",
       "4   2018-09-26 05:22:28-05:00\n",
       "Name: date, dtype: datetime64[ns, Etc/GMT+5]"
      ]
     },
     "execution_count": 94,
     "metadata": {},
     "output_type": "execute_result"
    }
   ],
   "source": [
    "messages.date.head()"
   ]
  },
  {
   "cell_type": "code",
   "execution_count": 95,
   "metadata": {},
   "outputs": [
    {
     "data": {
      "text/plain": [
       "(Timestamp('2016-09-12 08:23:12-0500', tz='Etc/GMT+5'),\n",
       " Timestamp('2018-11-27 07:52:25-0500', tz='Etc/GMT+5'))"
      ]
     },
     "execution_count": 95,
     "metadata": {},
     "output_type": "execute_result"
    }
   ],
   "source": [
    "messages.date.min(), messages.date.max()"
   ]
  },
  {
   "cell_type": "code",
   "execution_count": 96,
   "metadata": {},
   "outputs": [
    {
     "data": {
      "text/plain": [
       "0     Thursday\n",
       "1       Friday\n",
       "2     Thursday\n",
       "3     Thursday\n",
       "4    Wednesday\n",
       "Name: date, dtype: object"
      ]
     },
     "execution_count": 96,
     "metadata": {},
     "output_type": "execute_result"
    }
   ],
   "source": [
    "messages.date.dt.weekday_name.head()"
   ]
  },
  {
   "cell_type": "code",
   "execution_count": 97,
   "metadata": {},
   "outputs": [
    {
     "data": {
      "text/plain": [
       "0       Thursday\n",
       "1         Friday\n",
       "2       Thursday\n",
       "3       Thursday\n",
       "4      Wednesday\n",
       "5         Friday\n",
       "6      Wednesday\n",
       "7        Tuesday\n",
       "8        Tuesday\n",
       "9         Monday\n",
       "10      Thursday\n",
       "11      Thursday\n",
       "12        Sunday\n",
       "13        Friday\n",
       "14        Monday\n",
       "15      Saturday\n",
       "16      Thursday\n",
       "17        Sunday\n",
       "18       Tuesday\n",
       "19       Tuesday\n",
       "20       Tuesday\n",
       "21        Sunday\n",
       "22     Wednesday\n",
       "23      Thursday\n",
       "24        Sunday\n",
       "25     Wednesday\n",
       "26        Friday\n",
       "27     Wednesday\n",
       "28        Friday\n",
       "29       Tuesday\n",
       "         ...    \n",
       "392      Tuesday\n",
       "393       Sunday\n",
       "394       Monday\n",
       "395    Wednesday\n",
       "396       Monday\n",
       "397     Thursday\n",
       "398     Saturday\n",
       "399    Wednesday\n",
       "400       Monday\n",
       "401       Monday\n",
       "402       Monday\n",
       "403     Saturday\n",
       "404       Sunday\n",
       "405       Monday\n",
       "406       Friday\n",
       "407       Friday\n",
       "408      Tuesday\n",
       "409       Monday\n",
       "410     Thursday\n",
       "411    Wednesday\n",
       "412       Monday\n",
       "413       Friday\n",
       "414       Sunday\n",
       "415       Monday\n",
       "416       Friday\n",
       "417       Friday\n",
       "418       Monday\n",
       "419      Tuesday\n",
       "420    Wednesday\n",
       "421       Monday\n",
       "Name: date, Length: 422, dtype: object"
      ]
     },
     "execution_count": 97,
     "metadata": {},
     "output_type": "execute_result"
    }
   ],
   "source": [
    "messages.date.dt.weekday_name"
   ]
  },
  {
   "cell_type": "code",
   "execution_count": 98,
   "metadata": {},
   "outputs": [],
   "source": [
    "messages['dayofweek'] = pd.Categorical(messages['date'].dt.weekday_name,ordered=True,categories=['Monday','Tuesday','Wednesday','Thursday','Friday','Saturday','Sunday'])"
   ]
  },
  {
   "cell_type": "code",
   "execution_count": 99,
   "metadata": {},
   "outputs": [
    {
     "data": {
      "text/plain": [
       "0       Thursday\n",
       "1         Friday\n",
       "2       Thursday\n",
       "3       Thursday\n",
       "4      Wednesday\n",
       "5         Friday\n",
       "6      Wednesday\n",
       "7        Tuesday\n",
       "8        Tuesday\n",
       "9         Monday\n",
       "10      Thursday\n",
       "11      Thursday\n",
       "12        Sunday\n",
       "13        Friday\n",
       "14        Monday\n",
       "15      Saturday\n",
       "16      Thursday\n",
       "17        Sunday\n",
       "18       Tuesday\n",
       "19       Tuesday\n",
       "20       Tuesday\n",
       "21        Sunday\n",
       "22     Wednesday\n",
       "23      Thursday\n",
       "24        Sunday\n",
       "25     Wednesday\n",
       "26        Friday\n",
       "27     Wednesday\n",
       "28        Friday\n",
       "29       Tuesday\n",
       "         ...    \n",
       "392      Tuesday\n",
       "393       Sunday\n",
       "394       Monday\n",
       "395    Wednesday\n",
       "396       Monday\n",
       "397     Thursday\n",
       "398     Saturday\n",
       "399    Wednesday\n",
       "400       Monday\n",
       "401       Monday\n",
       "402       Monday\n",
       "403     Saturday\n",
       "404       Sunday\n",
       "405       Monday\n",
       "406       Friday\n",
       "407       Friday\n",
       "408      Tuesday\n",
       "409       Monday\n",
       "410     Thursday\n",
       "411    Wednesday\n",
       "412       Monday\n",
       "413       Friday\n",
       "414       Sunday\n",
       "415       Monday\n",
       "416       Friday\n",
       "417       Friday\n",
       "418       Monday\n",
       "419      Tuesday\n",
       "420    Wednesday\n",
       "421       Monday\n",
       "Name: dayofweek, Length: 422, dtype: category\n",
       "Categories (7, object): [Monday < Tuesday < Wednesday < Thursday < Friday < Saturday < Sunday]"
      ]
     },
     "execution_count": 99,
     "metadata": {},
     "output_type": "execute_result"
    }
   ],
   "source": [
    "messages.dayofweek"
   ]
  },
  {
   "cell_type": "code",
   "execution_count": 100,
   "metadata": {},
   "outputs": [],
   "source": [
    "messages['timeofday'] = messages['date'].dt.hour + messages['date'].dt.minute/60"
   ]
  },
  {
   "cell_type": "code",
   "execution_count": 101,
   "metadata": {},
   "outputs": [
    {
     "data": {
      "text/html": [
       "<div>\n",
       "<style scoped>\n",
       "    .dataframe tbody tr th:only-of-type {\n",
       "        vertical-align: middle;\n",
       "    }\n",
       "\n",
       "    .dataframe tbody tr th {\n",
       "        vertical-align: top;\n",
       "    }\n",
       "\n",
       "    .dataframe thead th {\n",
       "        text-align: right;\n",
       "    }\n",
       "</style>\n",
       "<table border=\"1\" class=\"dataframe\">\n",
       "  <thead>\n",
       "    <tr style=\"text-align: right;\">\n",
       "      <th></th>\n",
       "      <th>subject</th>\n",
       "      <th>from</th>\n",
       "      <th>to</th>\n",
       "      <th>date</th>\n",
       "      <th>dayofweek</th>\n",
       "      <th>timeofday</th>\n",
       "    </tr>\n",
       "  </thead>\n",
       "  <tbody>\n",
       "    <tr>\n",
       "      <th>0</th>\n",
       "      <td>Thank you for creating a new Case: 5541885871</td>\n",
       "      <td>no-reply-skilldev@amazon.com</td>\n",
       "      <td>sanyamjaincs@gmail.com</td>\n",
       "      <td>2018-11-22 04:56:49-05:00</td>\n",
       "      <td>Thursday</td>\n",
       "      <td>4.933333</td>\n",
       "    </tr>\n",
       "    <tr>\n",
       "      <th>1</th>\n",
       "      <td>[Register Today] Webinar: Building Skills with...</td>\n",
       "      <td>no-reply-alexa@amazon.com</td>\n",
       "      <td>sanyamjaincs@gmail.com</td>\n",
       "      <td>2018-10-12 17:47:41-05:00</td>\n",
       "      <td>Friday</td>\n",
       "      <td>17.783333</td>\n",
       "    </tr>\n",
       "    <tr>\n",
       "      <th>2</th>\n",
       "      <td>Capturing good email addresses on your forms.</td>\n",
       "      <td>eaguirre@mailgun.com</td>\n",
       "      <td>sanyamjaincs@gmail.com</td>\n",
       "      <td>2018-10-04 12:02:52-05:00</td>\n",
       "      <td>Thursday</td>\n",
       "      <td>12.033333</td>\n",
       "    </tr>\n",
       "    <tr>\n",
       "      <th>3</th>\n",
       "      <td>Exciting new roles available at Capgemini Group</td>\n",
       "      <td>capgemini-jobnotification@noreply12.jobs2web.com</td>\n",
       "      <td>sanyamjaincs@gmail.com</td>\n",
       "      <td>2018-08-16 03:46:30-05:00</td>\n",
       "      <td>Thursday</td>\n",
       "      <td>3.766667</td>\n",
       "    </tr>\n",
       "    <tr>\n",
       "      <th>4</th>\n",
       "      <td>Know Your Ethnicity submitted for review</td>\n",
       "      <td>actions-noreply@google.com</td>\n",
       "      <td>sanyamjaincs@gmail.com</td>\n",
       "      <td>2018-09-26 05:22:28-05:00</td>\n",
       "      <td>Wednesday</td>\n",
       "      <td>5.366667</td>\n",
       "    </tr>\n",
       "    <tr>\n",
       "      <th>5</th>\n",
       "      <td>Apowersoft Verification Code</td>\n",
       "      <td>no-reply@apowersoft.com</td>\n",
       "      <td>sanyamjaincs@gmail.com</td>\n",
       "      <td>2018-09-07 11:43:28-05:00</td>\n",
       "      <td>Friday</td>\n",
       "      <td>11.716667</td>\n",
       "    </tr>\n",
       "    <tr>\n",
       "      <th>6</th>\n",
       "      <td>Google Cloud Newsletter, September 2018 | The ...</td>\n",
       "      <td>CloudPlatform-noreply@google.com</td>\n",
       "      <td>sanyamjaincs@gmail.com</td>\n",
       "      <td>2018-09-26 14:05:11-05:00</td>\n",
       "      <td>Wednesday</td>\n",
       "      <td>14.083333</td>\n",
       "    </tr>\n",
       "    <tr>\n",
       "      <th>7</th>\n",
       "      <td>Mailtrack connected to your Google Account</td>\n",
       "      <td>no-reply@accounts.google.com</td>\n",
       "      <td>sanyamjaincs@gmail.com</td>\n",
       "      <td>2018-05-15 08:19:31-05:00</td>\n",
       "      <td>Tuesday</td>\n",
       "      <td>8.316667</td>\n",
       "    </tr>\n",
       "    <tr>\n",
       "      <th>8</th>\n",
       "      <td>Booking Confirmed - OYO 6064 Home Stay Siddhi ...</td>\n",
       "      <td>noreply@oyorooms.com</td>\n",
       "      <td>sanyamjaincs@gmail.com</td>\n",
       "      <td>2018-11-20 10:07:25-05:00</td>\n",
       "      <td>Tuesday</td>\n",
       "      <td>10.116667</td>\n",
       "    </tr>\n",
       "    <tr>\n",
       "      <th>9</th>\n",
       "      <td>Your Amazon.in order (#403-2317612-3378733) of...</td>\n",
       "      <td>ship-confirm@amazon.in</td>\n",
       "      <td>sanyamjaincs@gmail.com</td>\n",
       "      <td>2016-10-17 17:47:18-05:00</td>\n",
       "      <td>Monday</td>\n",
       "      <td>17.783333</td>\n",
       "    </tr>\n",
       "    <tr>\n",
       "      <th>10</th>\n",
       "      <td>Verify your email address</td>\n",
       "      <td>account-security-noreply@accountprotection.mic...</td>\n",
       "      <td>sanyamjaincs@gmail.com</td>\n",
       "      <td>2018-06-07 05:12:19-05:00</td>\n",
       "      <td>Thursday</td>\n",
       "      <td>5.200000</td>\n",
       "    </tr>\n",
       "    <tr>\n",
       "      <th>11</th>\n",
       "      <td>AWS Email Verification</td>\n",
       "      <td>no-reply-aws@amazon.com</td>\n",
       "      <td>sanyamjaincs@gmail.com</td>\n",
       "      <td>2018-10-11 14:40:34-05:00</td>\n",
       "      <td>Thursday</td>\n",
       "      <td>14.666667</td>\n",
       "    </tr>\n",
       "    <tr>\n",
       "      <th>12</th>\n",
       "      <td>=?UTF-8?Q?Up_to_40%_off_Mobiles_=F0=9F=93=B1|_...</td>\n",
       "      <td>store-news@amazon.in</td>\n",
       "      <td>sanyamjaincs@gmail.com</td>\n",
       "      <td>2017-10-15 04:43:23-05:00</td>\n",
       "      <td>Sunday</td>\n",
       "      <td>4.716667</td>\n",
       "    </tr>\n",
       "    <tr>\n",
       "      <th>13</th>\n",
       "      <td>Sanyam, did 'Lapfones branded Headphones For A...</td>\n",
       "      <td>customer-reviews-messages@amazon.in</td>\n",
       "      <td>sanyamjaincs@gmail.com</td>\n",
       "      <td>2017-02-10 22:27:10-05:00</td>\n",
       "      <td>Friday</td>\n",
       "      <td>22.450000</td>\n",
       "    </tr>\n",
       "    <tr>\n",
       "      <th>14</th>\n",
       "      <td>PHASE 1 ROUND 1 GRADUATED IN 2019 verification</td>\n",
       "      <td>support.epam@myanatomy.in</td>\n",
       "      <td>sanyamjaincs@gmail.com</td>\n",
       "      <td>2018-08-20 07:06:45-05:00</td>\n",
       "      <td>Monday</td>\n",
       "      <td>7.100000</td>\n",
       "    </tr>\n",
       "    <tr>\n",
       "      <th>15</th>\n",
       "      <td>Conquer the Roads with a New Set of Wheels</td>\n",
       "      <td>mail@info.paytm.com</td>\n",
       "      <td>sanyamjaincs@gmail.com</td>\n",
       "      <td>2018-09-08 03:51:27-05:00</td>\n",
       "      <td>Saturday</td>\n",
       "      <td>3.850000</td>\n",
       "    </tr>\n",
       "    <tr>\n",
       "      <th>16</th>\n",
       "      <td>Your Amazon verification code</td>\n",
       "      <td>account-update@amazon.in</td>\n",
       "      <td>sanyamjaincs@gmail.com</td>\n",
       "      <td>2017-12-07 13:53:44-05:00</td>\n",
       "      <td>Thursday</td>\n",
       "      <td>13.883333</td>\n",
       "    </tr>\n",
       "    <tr>\n",
       "      <th>17</th>\n",
       "      <td>Welcome to GeeksforGeeks!</td>\n",
       "      <td>support@geeksforgeeks.org</td>\n",
       "      <td>sanyamjaincs@gmail.com</td>\n",
       "      <td>2018-02-18 01:30:22-05:00</td>\n",
       "      <td>Sunday</td>\n",
       "      <td>1.500000</td>\n",
       "    </tr>\n",
       "    <tr>\n",
       "      <th>18</th>\n",
       "      <td>You've started your Amazon job application!</td>\n",
       "      <td>amazon+autoreply@agents.icims.com</td>\n",
       "      <td>sanyamjaincs@gmail.com</td>\n",
       "      <td>2018-07-31 00:26:00-05:00</td>\n",
       "      <td>Tuesday</td>\n",
       "      <td>0.433333</td>\n",
       "    </tr>\n",
       "    <tr>\n",
       "      <th>19</th>\n",
       "      <td>[2018 Surge Programme - NON IITK INDIAN Students]</td>\n",
       "      <td>surge@iitk.ac.in</td>\n",
       "      <td>surge@iitk.ac.in&gt;, SANYAM JAIN &lt;sanyamjaincs@g...</td>\n",
       "      <td>2018-01-30 11:56:44-05:00</td>\n",
       "      <td>Tuesday</td>\n",
       "      <td>11.933333</td>\n",
       "    </tr>\n",
       "    <tr>\n",
       "      <th>20</th>\n",
       "      <td>[2018 Surge Programme - NON IITK INDIAN Students]</td>\n",
       "      <td>surge@iitk.ac.in</td>\n",
       "      <td>surge@iitk.ac.in&gt;, SANYAM JAIN &lt;sanyamjaincs@g...</td>\n",
       "      <td>2018-01-30 11:48:18-05:00</td>\n",
       "      <td>Tuesday</td>\n",
       "      <td>11.800000</td>\n",
       "    </tr>\n",
       "    <tr>\n",
       "      <th>21</th>\n",
       "      <td>Thanks for Participation: ICACCCN-2018@ Galgot...</td>\n",
       "      <td>icacccn2018@easychair.org</td>\n",
       "      <td>sanyamjaincs@gmail.com</td>\n",
       "      <td>2018-10-14 21:46:55-05:00</td>\n",
       "      <td>Sunday</td>\n",
       "      <td>21.766667</td>\n",
       "    </tr>\n",
       "    <tr>\n",
       "      <th>22</th>\n",
       "      <td>Redmi 4A Sale Today, 12 PM</td>\n",
       "      <td>delivers@amazon.in</td>\n",
       "      <td>sanyamjaincs@gmail.com</td>\n",
       "      <td>2017-06-07 23:53:46-05:00</td>\n",
       "      <td>Wednesday</td>\n",
       "      <td>23.883333</td>\n",
       "    </tr>\n",
       "    <tr>\n",
       "      <th>23</th>\n",
       "      <td>Good news about your Action, Know Your Ethnici...</td>\n",
       "      <td>assistant-noreply@google.com</td>\n",
       "      <td>sanyamjaincs@gmail.com</td>\n",
       "      <td>2018-09-27 08:09:22-05:00</td>\n",
       "      <td>Thursday</td>\n",
       "      <td>8.150000</td>\n",
       "    </tr>\n",
       "    <tr>\n",
       "      <th>24</th>\n",
       "      <td>Updated Tentative Paper Presentation Schedule_...</td>\n",
       "      <td>icacccn2018@easychair.org</td>\n",
       "      <td>sanyamjaincs@gmail.com</td>\n",
       "      <td>2018-08-26 23:50:08-05:00</td>\n",
       "      <td>Sunday</td>\n",
       "      <td>23.833333</td>\n",
       "    </tr>\n",
       "    <tr>\n",
       "      <th>25</th>\n",
       "      <td>World Book Day: Celebrate Reading</td>\n",
       "      <td>store-news@amazon.in</td>\n",
       "      <td>sanyamjaincs@gmail.com</td>\n",
       "      <td>2017-04-19 19:12:19-05:00</td>\n",
       "      <td>Wednesday</td>\n",
       "      <td>19.200000</td>\n",
       "    </tr>\n",
       "    <tr>\n",
       "      <th>26</th>\n",
       "      <td>Selection Confirmation from IBMCE-KVCH!!</td>\n",
       "      <td>trainee.kvch@gmail.com</td>\n",
       "      <td>sanyamjaincs@gmail.com</td>\n",
       "      <td>2018-04-27 01:32:10-05:00</td>\n",
       "      <td>Friday</td>\n",
       "      <td>1.533333</td>\n",
       "    </tr>\n",
       "    <tr>\n",
       "      <th>27</th>\n",
       "      <td>Revision to Your Amazon Account</td>\n",
       "      <td>account-update@amazon.in</td>\n",
       "      <td>sanyamjaincs@gmail.com</td>\n",
       "      <td>2018-10-17 06:19:00-05:00</td>\n",
       "      <td>Wednesday</td>\n",
       "      <td>6.316667</td>\n",
       "    </tr>\n",
       "    <tr>\n",
       "      <th>28</th>\n",
       "      <td>How About Rs.200 Cashback for You &amp; Your Friends?</td>\n",
       "      <td>mail@info.paytm.com</td>\n",
       "      <td>sanyamjaincs@gmail.com</td>\n",
       "      <td>2018-04-20 08:00:42-05:00</td>\n",
       "      <td>Friday</td>\n",
       "      <td>8.000000</td>\n",
       "    </tr>\n",
       "    <tr>\n",
       "      <th>29</th>\n",
       "      <td>Application Deadline Approaching for MBA 2018</td>\n",
       "      <td>mailer@careers360.org</td>\n",
       "      <td>sanyamjaincs@gmail.com</td>\n",
       "      <td>2018-05-15 05:07:12-05:00</td>\n",
       "      <td>Tuesday</td>\n",
       "      <td>5.116667</td>\n",
       "    </tr>\n",
       "    <tr>\n",
       "      <th>...</th>\n",
       "      <td>...</td>\n",
       "      <td>...</td>\n",
       "      <td>...</td>\n",
       "      <td>...</td>\n",
       "      <td>...</td>\n",
       "      <td>...</td>\n",
       "    </tr>\n",
       "    <tr>\n",
       "      <th>392</th>\n",
       "      <td>You're invited...</td>\n",
       "      <td>anne.bercilla@magoosh.intercom-mail.com</td>\n",
       "      <td>sanyamjaincs@gmail.com</td>\n",
       "      <td>2018-08-28 02:40:34-05:00</td>\n",
       "      <td>Tuesday</td>\n",
       "      <td>2.666667</td>\n",
       "    </tr>\n",
       "    <tr>\n",
       "      <th>393</th>\n",
       "      <td>Your skill \"Conversations - Google Home\" has b...</td>\n",
       "      <td>no-reply@amazon.com</td>\n",
       "      <td>sanyamjaincs@gmail.com</td>\n",
       "      <td>2018-09-02 02:05:36-05:00</td>\n",
       "      <td>Sunday</td>\n",
       "      <td>2.083333</td>\n",
       "    </tr>\n",
       "    <tr>\n",
       "      <th>394</th>\n",
       "      <td>Revision to Your Amazon Account</td>\n",
       "      <td>account-update@amazon.in</td>\n",
       "      <td>sanyamjaincs@gmail.com</td>\n",
       "      <td>2016-10-17 07:37:28-05:00</td>\n",
       "      <td>Monday</td>\n",
       "      <td>7.616667</td>\n",
       "    </tr>\n",
       "    <tr>\n",
       "      <th>395</th>\n",
       "      <td>=?ISO-8859-1?Q?Apply_to_be_a_part_of_DISQ=3Fs_...</td>\n",
       "      <td>CampusCommune@tcs.com</td>\n",
       "      <td>NaN</td>\n",
       "      <td>2018-08-08 09:01:15-05:00</td>\n",
       "      <td>Wednesday</td>\n",
       "      <td>9.016667</td>\n",
       "    </tr>\n",
       "    <tr>\n",
       "      <th>396</th>\n",
       "      <td>Rs 200 added as cashback in Paytm wallet</td>\n",
       "      <td>alerts@paytm.com</td>\n",
       "      <td>sanyamjaincs@gmail.com</td>\n",
       "      <td>2018-06-18 03:47:46-05:00</td>\n",
       "      <td>Monday</td>\n",
       "      <td>3.783333</td>\n",
       "    </tr>\n",
       "    <tr>\n",
       "      <th>397</th>\n",
       "      <td>Your Amazon.in order (#407-1828118-5323555) of...</td>\n",
       "      <td>ship-confirm@amazon.in</td>\n",
       "      <td>sanyamjaincs@gmail.com</td>\n",
       "      <td>2017-02-09 15:56:38-05:00</td>\n",
       "      <td>Thursday</td>\n",
       "      <td>15.933333</td>\n",
       "    </tr>\n",
       "    <tr>\n",
       "      <th>398</th>\n",
       "      <td>Colleges/ Institutes based on your profile</td>\n",
       "      <td>mailer@careers360.org</td>\n",
       "      <td>sanyamjaincs@gmail.com</td>\n",
       "      <td>2018-05-05 06:42:43-05:00</td>\n",
       "      <td>Saturday</td>\n",
       "      <td>6.700000</td>\n",
       "    </tr>\n",
       "    <tr>\n",
       "      <th>399</th>\n",
       "      <td>Certification feedback for your Alexa skill Ma...</td>\n",
       "      <td>no-reply-skilldev@amazon.com</td>\n",
       "      <td>sanyamjaincs@gmail.com</td>\n",
       "      <td>2018-10-17 01:40:03-05:00</td>\n",
       "      <td>Wednesday</td>\n",
       "      <td>1.666667</td>\n",
       "    </tr>\n",
       "    <tr>\n",
       "      <th>400</th>\n",
       "      <td>Test: 'PHASE 1 ROUND 1 GRADUATED IN 2019' subm...</td>\n",
       "      <td>support.epam@myanatomy.in</td>\n",
       "      <td>sanyamjaincs@gmail.com</td>\n",
       "      <td>2018-08-20 09:57:12-05:00</td>\n",
       "      <td>Monday</td>\n",
       "      <td>9.950000</td>\n",
       "    </tr>\n",
       "    <tr>\n",
       "      <th>401</th>\n",
       "      <td>Test: 'PHASE 1 ROUND 1 GRADUATED IN 2019' subm...</td>\n",
       "      <td>support.epam@myanatomy.in</td>\n",
       "      <td>sanyamjaincs@gmail.com</td>\n",
       "      <td>2018-08-20 09:57:13-05:00</td>\n",
       "      <td>Monday</td>\n",
       "      <td>9.950000</td>\n",
       "    </tr>\n",
       "    <tr>\n",
       "      <th>402</th>\n",
       "      <td>Test: 'PHASE 1 ROUND 1 GRADUATED IN 2019' subm...</td>\n",
       "      <td>support.epam@myanatomy.in</td>\n",
       "      <td>sanyamjaincs@gmail.com</td>\n",
       "      <td>2018-08-20 09:57:12-05:00</td>\n",
       "      <td>Monday</td>\n",
       "      <td>9.950000</td>\n",
       "    </tr>\n",
       "    <tr>\n",
       "      <th>403</th>\n",
       "      <td>Microsoft account unusual sign-in activity</td>\n",
       "      <td>account-security-noreply@accountprotection.mic...</td>\n",
       "      <td>sanyamjaincs@gmail.com</td>\n",
       "      <td>2018-09-08 12:28:10-05:00</td>\n",
       "      <td>Saturday</td>\n",
       "      <td>12.466667</td>\n",
       "    </tr>\n",
       "    <tr>\n",
       "      <th>404</th>\n",
       "      <td>Your Coupons</td>\n",
       "      <td>tickets@bookmyshow.email</td>\n",
       "      <td>sanyamjaincs@gmail.com</td>\n",
       "      <td>2018-04-22 13:27:09-05:00</td>\n",
       "      <td>Sunday</td>\n",
       "      <td>13.450000</td>\n",
       "    </tr>\n",
       "    <tr>\n",
       "      <th>405</th>\n",
       "      <td>Call for Paper Springer DSMLA 2019 : CMR Insti...</td>\n",
       "      <td>convenerdsmla@gmail.com</td>\n",
       "      <td>springer@cmritonline.ac.in</td>\n",
       "      <td>2018-11-12 00:21:36-05:00</td>\n",
       "      <td>Monday</td>\n",
       "      <td>0.350000</td>\n",
       "    </tr>\n",
       "    <tr>\n",
       "      <th>406</th>\n",
       "      <td>New: Echo Buttons Game Skills Contest</td>\n",
       "      <td>no-reply-alexa@amazon.com</td>\n",
       "      <td>sanyamjaincs@gmail.com</td>\n",
       "      <td>2018-09-28 17:34:26-05:00</td>\n",
       "      <td>Friday</td>\n",
       "      <td>17.566667</td>\n",
       "    </tr>\n",
       "    <tr>\n",
       "      <th>407</th>\n",
       "      <td>Your Alexa skill Indian TV shows suggestion of...</td>\n",
       "      <td>no-reply-skilldev@amazon.com</td>\n",
       "      <td>sanyamjaincs@gmail.com</td>\n",
       "      <td>2018-10-19 02:24:57-05:00</td>\n",
       "      <td>Friday</td>\n",
       "      <td>2.400000</td>\n",
       "    </tr>\n",
       "    <tr>\n",
       "      <th>408</th>\n",
       "      <td>Fwd: rise</td>\n",
       "      <td>sanyamlala@gmail.com</td>\n",
       "      <td>sanyamjaincs@gmail.com</td>\n",
       "      <td>2016-11-22 12:01:19-05:00</td>\n",
       "      <td>Tuesday</td>\n",
       "      <td>12.016667</td>\n",
       "    </tr>\n",
       "    <tr>\n",
       "      <th>409</th>\n",
       "      <td>Take a sneak peek | Great Indian Festival: 24t...</td>\n",
       "      <td>store-news@amazon.in</td>\n",
       "      <td>sanyamjaincs@gmail.com</td>\n",
       "      <td>2018-10-22 10:21:19-05:00</td>\n",
       "      <td>Monday</td>\n",
       "      <td>10.350000</td>\n",
       "    </tr>\n",
       "    <tr>\n",
       "      <th>410</th>\n",
       "      <td>Check out these resources!</td>\n",
       "      <td>notifications@simplycast.com</td>\n",
       "      <td>sanyamjaincs@gmail.com</td>\n",
       "      <td>2018-08-02 03:01:17-05:00</td>\n",
       "      <td>Thursday</td>\n",
       "      <td>3.016667</td>\n",
       "    </tr>\n",
       "    <tr>\n",
       "      <th>411</th>\n",
       "      <td>*********Baby Jasmeet - 1.7 years old sufferin...</td>\n",
       "      <td>help1@motherconcern.org</td>\n",
       "      <td>help1@motherconcern.org</td>\n",
       "      <td>2016-09-28 00:12:22-05:00</td>\n",
       "      <td>Wednesday</td>\n",
       "      <td>0.200000</td>\n",
       "    </tr>\n",
       "    <tr>\n",
       "      <th>412</th>\n",
       "      <td>One Indian Girl</td>\n",
       "      <td>store-news@amazon.in</td>\n",
       "      <td>sanyamjaincs@gmail.com</td>\n",
       "      <td>2016-11-14 21:26:24-05:00</td>\n",
       "      <td>Monday</td>\n",
       "      <td>21.433333</td>\n",
       "    </tr>\n",
       "    <tr>\n",
       "      <th>413</th>\n",
       "      <td>Hall Ticket for TCS National Qualifier Test</td>\n",
       "      <td>Careers@tcs.com</td>\n",
       "      <td>sanyamjaincs@gmail.com</td>\n",
       "      <td>2018-08-31 09:22:07-05:00</td>\n",
       "      <td>Friday</td>\n",
       "      <td>9.366667</td>\n",
       "    </tr>\n",
       "    <tr>\n",
       "      <th>414</th>\n",
       "      <td>[Twilio Alert] On 1st error each day</td>\n",
       "      <td>no-reply@twilio.com</td>\n",
       "      <td>sanyamjaincs@gmail.com</td>\n",
       "      <td>2018-08-05 15:21:41-05:00</td>\n",
       "      <td>Sunday</td>\n",
       "      <td>15.350000</td>\n",
       "    </tr>\n",
       "    <tr>\n",
       "      <th>415</th>\n",
       "      <td>Magoosh has a Flashcard App</td>\n",
       "      <td>andrew.gealy@magoosh.intercom-mail.com</td>\n",
       "      <td>sanyamjaincs@gmail.com</td>\n",
       "      <td>2018-09-03 01:28:02-05:00</td>\n",
       "      <td>Monday</td>\n",
       "      <td>1.466667</td>\n",
       "    </tr>\n",
       "    <tr>\n",
       "      <th>416</th>\n",
       "      <td>Welcome to Amazon Web Services</td>\n",
       "      <td>no-reply-aws@amazon.com</td>\n",
       "      <td>sanyamjaincs@gmail.com</td>\n",
       "      <td>2018-07-13 02:53:52-05:00</td>\n",
       "      <td>Friday</td>\n",
       "      <td>2.883333</td>\n",
       "    </tr>\n",
       "    <tr>\n",
       "      <th>417</th>\n",
       "      <td>Applying for Computer Science and Engineering ...</td>\n",
       "      <td>sanyamjain@upesacm.org</td>\n",
       "      <td>Amara_Meena@infosys.com</td>\n",
       "      <td>2018-08-03 05:34:03-05:00</td>\n",
       "      <td>Friday</td>\n",
       "      <td>5.566667</td>\n",
       "    </tr>\n",
       "    <tr>\n",
       "      <th>418</th>\n",
       "      <td>Welcome to your first Amazon delivery!</td>\n",
       "      <td>delivery@amazon.com</td>\n",
       "      <td>sanyamjaincs@gmail.com</td>\n",
       "      <td>2016-10-17 17:47:18-05:00</td>\n",
       "      <td>Monday</td>\n",
       "      <td>17.783333</td>\n",
       "    </tr>\n",
       "    <tr>\n",
       "      <th>419</th>\n",
       "      <td>Welcome to the PVR family!</td>\n",
       "      <td>bookings@pvrcinemas.com</td>\n",
       "      <td>sanyamjaincs@gmail.com</td>\n",
       "      <td>2018-05-08 06:53:03-05:00</td>\n",
       "      <td>Tuesday</td>\n",
       "      <td>6.883333</td>\n",
       "    </tr>\n",
       "    <tr>\n",
       "      <th>420</th>\n",
       "      <td>Tentative Paper Presentation Schedule_ICACCCN2...</td>\n",
       "      <td>icacccn2018@easychair.org</td>\n",
       "      <td>sanyamjaincs@gmail.com</td>\n",
       "      <td>2018-08-22 08:13:23-05:00</td>\n",
       "      <td>Wednesday</td>\n",
       "      <td>8.216667</td>\n",
       "    </tr>\n",
       "    <tr>\n",
       "      <th>421</th>\n",
       "      <td>RE:[CASE 5541885871] Keyring Corp.[ALEXA][M372...</td>\n",
       "      <td>no-reply-skilldev@amazon.com</td>\n",
       "      <td>sanyamjaincs@gmail.com</td>\n",
       "      <td>2018-11-26 15:36:23-05:00</td>\n",
       "      <td>Monday</td>\n",
       "      <td>15.600000</td>\n",
       "    </tr>\n",
       "  </tbody>\n",
       "</table>\n",
       "<p>422 rows × 6 columns</p>\n",
       "</div>"
      ],
      "text/plain": [
       "                                               subject  \\\n",
       "0        Thank you for creating a new Case: 5541885871   \n",
       "1    [Register Today] Webinar: Building Skills with...   \n",
       "2        Capturing good email addresses on your forms.   \n",
       "3      Exciting new roles available at Capgemini Group   \n",
       "4             Know Your Ethnicity submitted for review   \n",
       "5                         Apowersoft Verification Code   \n",
       "6    Google Cloud Newsletter, September 2018 | The ...   \n",
       "7           Mailtrack connected to your Google Account   \n",
       "8    Booking Confirmed - OYO 6064 Home Stay Siddhi ...   \n",
       "9    Your Amazon.in order (#403-2317612-3378733) of...   \n",
       "10                           Verify your email address   \n",
       "11                              AWS Email Verification   \n",
       "12   =?UTF-8?Q?Up_to_40%_off_Mobiles_=F0=9F=93=B1|_...   \n",
       "13   Sanyam, did 'Lapfones branded Headphones For A...   \n",
       "14      PHASE 1 ROUND 1 GRADUATED IN 2019 verification   \n",
       "15          Conquer the Roads with a New Set of Wheels   \n",
       "16                       Your Amazon verification code   \n",
       "17                           Welcome to GeeksforGeeks!   \n",
       "18         You've started your Amazon job application!   \n",
       "19   [2018 Surge Programme - NON IITK INDIAN Students]   \n",
       "20   [2018 Surge Programme - NON IITK INDIAN Students]   \n",
       "21   Thanks for Participation: ICACCCN-2018@ Galgot...   \n",
       "22                          Redmi 4A Sale Today, 12 PM   \n",
       "23   Good news about your Action, Know Your Ethnici...   \n",
       "24   Updated Tentative Paper Presentation Schedule_...   \n",
       "25                   World Book Day: Celebrate Reading   \n",
       "26            Selection Confirmation from IBMCE-KVCH!!   \n",
       "27                     Revision to Your Amazon Account   \n",
       "28   How About Rs.200 Cashback for You & Your Friends?   \n",
       "29       Application Deadline Approaching for MBA 2018   \n",
       "..                                                 ...   \n",
       "392                                  You're invited...   \n",
       "393  Your skill \"Conversations - Google Home\" has b...   \n",
       "394                    Revision to Your Amazon Account   \n",
       "395  =?ISO-8859-1?Q?Apply_to_be_a_part_of_DISQ=3Fs_...   \n",
       "396           Rs 200 added as cashback in Paytm wallet   \n",
       "397  Your Amazon.in order (#407-1828118-5323555) of...   \n",
       "398         Colleges/ Institutes based on your profile   \n",
       "399  Certification feedback for your Alexa skill Ma...   \n",
       "400  Test: 'PHASE 1 ROUND 1 GRADUATED IN 2019' subm...   \n",
       "401  Test: 'PHASE 1 ROUND 1 GRADUATED IN 2019' subm...   \n",
       "402  Test: 'PHASE 1 ROUND 1 GRADUATED IN 2019' subm...   \n",
       "403         Microsoft account unusual sign-in activity   \n",
       "404                                       Your Coupons   \n",
       "405  Call for Paper Springer DSMLA 2019 : CMR Insti...   \n",
       "406              New: Echo Buttons Game Skills Contest   \n",
       "407  Your Alexa skill Indian TV shows suggestion of...   \n",
       "408                                          Fwd: rise   \n",
       "409  Take a sneak peek | Great Indian Festival: 24t...   \n",
       "410                         Check out these resources!   \n",
       "411  *********Baby Jasmeet - 1.7 years old sufferin...   \n",
       "412                                    One Indian Girl   \n",
       "413        Hall Ticket for TCS National Qualifier Test   \n",
       "414               [Twilio Alert] On 1st error each day   \n",
       "415                        Magoosh has a Flashcard App   \n",
       "416                     Welcome to Amazon Web Services   \n",
       "417  Applying for Computer Science and Engineering ...   \n",
       "418             Welcome to your first Amazon delivery!   \n",
       "419                         Welcome to the PVR family!   \n",
       "420  Tentative Paper Presentation Schedule_ICACCCN2...   \n",
       "421  RE:[CASE 5541885871] Keyring Corp.[ALEXA][M372...   \n",
       "\n",
       "                                                  from  \\\n",
       "0                         no-reply-skilldev@amazon.com   \n",
       "1                            no-reply-alexa@amazon.com   \n",
       "2                                 eaguirre@mailgun.com   \n",
       "3     capgemini-jobnotification@noreply12.jobs2web.com   \n",
       "4                           actions-noreply@google.com   \n",
       "5                              no-reply@apowersoft.com   \n",
       "6                     CloudPlatform-noreply@google.com   \n",
       "7                         no-reply@accounts.google.com   \n",
       "8                                 noreply@oyorooms.com   \n",
       "9                               ship-confirm@amazon.in   \n",
       "10   account-security-noreply@accountprotection.mic...   \n",
       "11                             no-reply-aws@amazon.com   \n",
       "12                                store-news@amazon.in   \n",
       "13                 customer-reviews-messages@amazon.in   \n",
       "14                           support.epam@myanatomy.in   \n",
       "15                                 mail@info.paytm.com   \n",
       "16                            account-update@amazon.in   \n",
       "17                           support@geeksforgeeks.org   \n",
       "18                   amazon+autoreply@agents.icims.com   \n",
       "19                                    surge@iitk.ac.in   \n",
       "20                                    surge@iitk.ac.in   \n",
       "21                           icacccn2018@easychair.org   \n",
       "22                                  delivers@amazon.in   \n",
       "23                        assistant-noreply@google.com   \n",
       "24                           icacccn2018@easychair.org   \n",
       "25                                store-news@amazon.in   \n",
       "26                              trainee.kvch@gmail.com   \n",
       "27                            account-update@amazon.in   \n",
       "28                                 mail@info.paytm.com   \n",
       "29                               mailer@careers360.org   \n",
       "..                                                 ...   \n",
       "392            anne.bercilla@magoosh.intercom-mail.com   \n",
       "393                                no-reply@amazon.com   \n",
       "394                           account-update@amazon.in   \n",
       "395                              CampusCommune@tcs.com   \n",
       "396                                   alerts@paytm.com   \n",
       "397                             ship-confirm@amazon.in   \n",
       "398                              mailer@careers360.org   \n",
       "399                       no-reply-skilldev@amazon.com   \n",
       "400                          support.epam@myanatomy.in   \n",
       "401                          support.epam@myanatomy.in   \n",
       "402                          support.epam@myanatomy.in   \n",
       "403  account-security-noreply@accountprotection.mic...   \n",
       "404                           tickets@bookmyshow.email   \n",
       "405                            convenerdsmla@gmail.com   \n",
       "406                          no-reply-alexa@amazon.com   \n",
       "407                       no-reply-skilldev@amazon.com   \n",
       "408                               sanyamlala@gmail.com   \n",
       "409                               store-news@amazon.in   \n",
       "410                       notifications@simplycast.com   \n",
       "411                            help1@motherconcern.org   \n",
       "412                               store-news@amazon.in   \n",
       "413                                    Careers@tcs.com   \n",
       "414                                no-reply@twilio.com   \n",
       "415             andrew.gealy@magoosh.intercom-mail.com   \n",
       "416                            no-reply-aws@amazon.com   \n",
       "417                             sanyamjain@upesacm.org   \n",
       "418                                delivery@amazon.com   \n",
       "419                            bookings@pvrcinemas.com   \n",
       "420                          icacccn2018@easychair.org   \n",
       "421                       no-reply-skilldev@amazon.com   \n",
       "\n",
       "                                                    to  \\\n",
       "0                               sanyamjaincs@gmail.com   \n",
       "1                               sanyamjaincs@gmail.com   \n",
       "2                               sanyamjaincs@gmail.com   \n",
       "3                               sanyamjaincs@gmail.com   \n",
       "4                               sanyamjaincs@gmail.com   \n",
       "5                               sanyamjaincs@gmail.com   \n",
       "6                               sanyamjaincs@gmail.com   \n",
       "7                               sanyamjaincs@gmail.com   \n",
       "8                               sanyamjaincs@gmail.com   \n",
       "9                               sanyamjaincs@gmail.com   \n",
       "10                              sanyamjaincs@gmail.com   \n",
       "11                              sanyamjaincs@gmail.com   \n",
       "12                              sanyamjaincs@gmail.com   \n",
       "13                              sanyamjaincs@gmail.com   \n",
       "14                              sanyamjaincs@gmail.com   \n",
       "15                              sanyamjaincs@gmail.com   \n",
       "16                              sanyamjaincs@gmail.com   \n",
       "17                              sanyamjaincs@gmail.com   \n",
       "18                              sanyamjaincs@gmail.com   \n",
       "19   surge@iitk.ac.in>, SANYAM JAIN <sanyamjaincs@g...   \n",
       "20   surge@iitk.ac.in>, SANYAM JAIN <sanyamjaincs@g...   \n",
       "21                              sanyamjaincs@gmail.com   \n",
       "22                              sanyamjaincs@gmail.com   \n",
       "23                              sanyamjaincs@gmail.com   \n",
       "24                              sanyamjaincs@gmail.com   \n",
       "25                              sanyamjaincs@gmail.com   \n",
       "26                              sanyamjaincs@gmail.com   \n",
       "27                              sanyamjaincs@gmail.com   \n",
       "28                              sanyamjaincs@gmail.com   \n",
       "29                              sanyamjaincs@gmail.com   \n",
       "..                                                 ...   \n",
       "392                             sanyamjaincs@gmail.com   \n",
       "393                             sanyamjaincs@gmail.com   \n",
       "394                             sanyamjaincs@gmail.com   \n",
       "395                                                NaN   \n",
       "396                             sanyamjaincs@gmail.com   \n",
       "397                             sanyamjaincs@gmail.com   \n",
       "398                             sanyamjaincs@gmail.com   \n",
       "399                             sanyamjaincs@gmail.com   \n",
       "400                             sanyamjaincs@gmail.com   \n",
       "401                             sanyamjaincs@gmail.com   \n",
       "402                             sanyamjaincs@gmail.com   \n",
       "403                             sanyamjaincs@gmail.com   \n",
       "404                             sanyamjaincs@gmail.com   \n",
       "405                         springer@cmritonline.ac.in   \n",
       "406                             sanyamjaincs@gmail.com   \n",
       "407                             sanyamjaincs@gmail.com   \n",
       "408                             sanyamjaincs@gmail.com   \n",
       "409                             sanyamjaincs@gmail.com   \n",
       "410                             sanyamjaincs@gmail.com   \n",
       "411                            help1@motherconcern.org   \n",
       "412                             sanyamjaincs@gmail.com   \n",
       "413                             sanyamjaincs@gmail.com   \n",
       "414                             sanyamjaincs@gmail.com   \n",
       "415                             sanyamjaincs@gmail.com   \n",
       "416                             sanyamjaincs@gmail.com   \n",
       "417                            Amara_Meena@infosys.com   \n",
       "418                             sanyamjaincs@gmail.com   \n",
       "419                             sanyamjaincs@gmail.com   \n",
       "420                             sanyamjaincs@gmail.com   \n",
       "421                             sanyamjaincs@gmail.com   \n",
       "\n",
       "                         date  dayofweek  timeofday  \n",
       "0   2018-11-22 04:56:49-05:00   Thursday   4.933333  \n",
       "1   2018-10-12 17:47:41-05:00     Friday  17.783333  \n",
       "2   2018-10-04 12:02:52-05:00   Thursday  12.033333  \n",
       "3   2018-08-16 03:46:30-05:00   Thursday   3.766667  \n",
       "4   2018-09-26 05:22:28-05:00  Wednesday   5.366667  \n",
       "5   2018-09-07 11:43:28-05:00     Friday  11.716667  \n",
       "6   2018-09-26 14:05:11-05:00  Wednesday  14.083333  \n",
       "7   2018-05-15 08:19:31-05:00    Tuesday   8.316667  \n",
       "8   2018-11-20 10:07:25-05:00    Tuesday  10.116667  \n",
       "9   2016-10-17 17:47:18-05:00     Monday  17.783333  \n",
       "10  2018-06-07 05:12:19-05:00   Thursday   5.200000  \n",
       "11  2018-10-11 14:40:34-05:00   Thursday  14.666667  \n",
       "12  2017-10-15 04:43:23-05:00     Sunday   4.716667  \n",
       "13  2017-02-10 22:27:10-05:00     Friday  22.450000  \n",
       "14  2018-08-20 07:06:45-05:00     Monday   7.100000  \n",
       "15  2018-09-08 03:51:27-05:00   Saturday   3.850000  \n",
       "16  2017-12-07 13:53:44-05:00   Thursday  13.883333  \n",
       "17  2018-02-18 01:30:22-05:00     Sunday   1.500000  \n",
       "18  2018-07-31 00:26:00-05:00    Tuesday   0.433333  \n",
       "19  2018-01-30 11:56:44-05:00    Tuesday  11.933333  \n",
       "20  2018-01-30 11:48:18-05:00    Tuesday  11.800000  \n",
       "21  2018-10-14 21:46:55-05:00     Sunday  21.766667  \n",
       "22  2017-06-07 23:53:46-05:00  Wednesday  23.883333  \n",
       "23  2018-09-27 08:09:22-05:00   Thursday   8.150000  \n",
       "24  2018-08-26 23:50:08-05:00     Sunday  23.833333  \n",
       "25  2017-04-19 19:12:19-05:00  Wednesday  19.200000  \n",
       "26  2018-04-27 01:32:10-05:00     Friday   1.533333  \n",
       "27  2018-10-17 06:19:00-05:00  Wednesday   6.316667  \n",
       "28  2018-04-20 08:00:42-05:00     Friday   8.000000  \n",
       "29  2018-05-15 05:07:12-05:00    Tuesday   5.116667  \n",
       "..                        ...        ...        ...  \n",
       "392 2018-08-28 02:40:34-05:00    Tuesday   2.666667  \n",
       "393 2018-09-02 02:05:36-05:00     Sunday   2.083333  \n",
       "394 2016-10-17 07:37:28-05:00     Monday   7.616667  \n",
       "395 2018-08-08 09:01:15-05:00  Wednesday   9.016667  \n",
       "396 2018-06-18 03:47:46-05:00     Monday   3.783333  \n",
       "397 2017-02-09 15:56:38-05:00   Thursday  15.933333  \n",
       "398 2018-05-05 06:42:43-05:00   Saturday   6.700000  \n",
       "399 2018-10-17 01:40:03-05:00  Wednesday   1.666667  \n",
       "400 2018-08-20 09:57:12-05:00     Monday   9.950000  \n",
       "401 2018-08-20 09:57:13-05:00     Monday   9.950000  \n",
       "402 2018-08-20 09:57:12-05:00     Monday   9.950000  \n",
       "403 2018-09-08 12:28:10-05:00   Saturday  12.466667  \n",
       "404 2018-04-22 13:27:09-05:00     Sunday  13.450000  \n",
       "405 2018-11-12 00:21:36-05:00     Monday   0.350000  \n",
       "406 2018-09-28 17:34:26-05:00     Friday  17.566667  \n",
       "407 2018-10-19 02:24:57-05:00     Friday   2.400000  \n",
       "408 2016-11-22 12:01:19-05:00    Tuesday  12.016667  \n",
       "409 2018-10-22 10:21:19-05:00     Monday  10.350000  \n",
       "410 2018-08-02 03:01:17-05:00   Thursday   3.016667  \n",
       "411 2016-09-28 00:12:22-05:00  Wednesday   0.200000  \n",
       "412 2016-11-14 21:26:24-05:00     Monday  21.433333  \n",
       "413 2018-08-31 09:22:07-05:00     Friday   9.366667  \n",
       "414 2018-08-05 15:21:41-05:00     Sunday  15.350000  \n",
       "415 2018-09-03 01:28:02-05:00     Monday   1.466667  \n",
       "416 2018-07-13 02:53:52-05:00     Friday   2.883333  \n",
       "417 2018-08-03 05:34:03-05:00     Friday   5.566667  \n",
       "418 2016-10-17 17:47:18-05:00     Monday  17.783333  \n",
       "419 2018-05-08 06:53:03-05:00    Tuesday   6.883333  \n",
       "420 2018-08-22 08:13:23-05:00  Wednesday   8.216667  \n",
       "421 2018-11-26 15:36:23-05:00     Monday  15.600000  \n",
       "\n",
       "[422 rows x 6 columns]"
      ]
     },
     "execution_count": 101,
     "metadata": {},
     "output_type": "execute_result"
    }
   ],
   "source": [
    "messages"
   ]
  },
  {
   "cell_type": "code",
   "execution_count": 102,
   "metadata": {},
   "outputs": [],
   "source": [
    "messages['nyear'] = messages['date'].dt.year + messages['date'].dt.dayofyear/365.25 + messages['timeofday']/24/365.25"
   ]
  },
  {
   "cell_type": "code",
   "execution_count": 105,
   "metadata": {},
   "outputs": [
    {
     "data": {
      "text/plain": [
       "0      2018.893102\n",
       "1      2018.782316\n",
       "2      2018.759757\n",
       "3      2018.624660\n",
       "4      2018.737094\n",
       "5      2018.685799\n",
       "6      2018.738088\n",
       "7      2018.370559\n",
       "8      2018.888218\n",
       "9      2016.798743\n",
       "10     2018.433174\n",
       "11     2018.779223\n",
       "12     2017.789039\n",
       "13     2017.114813\n",
       "14     2018.635991\n",
       "15     2018.687640\n",
       "16     2017.935191\n",
       "17     2018.134326\n",
       "18     2018.580474\n",
       "19     2018.083497\n",
       "20     2018.083482\n",
       "21     2018.788246\n",
       "22     2017.435305\n",
       "23     2018.740149\n",
       "24     2018.654327\n",
       "25     2017.300616\n",
       "26     2018.320503\n",
       "27     2018.794697\n",
       "28     2018.302076\n",
       "29     2018.370194\n",
       "          ...     \n",
       "392    2018.657388\n",
       "393    2018.671011\n",
       "394    2016.797583\n",
       "395    2018.603356\n",
       "396    2018.463128\n",
       "397    2017.111332\n",
       "398    2018.342996\n",
       "399    2018.794167\n",
       "400    2018.636316\n",
       "401    2018.636316\n",
       "402    2018.636316\n",
       "403    2018.688623\n",
       "404    2018.308174\n",
       "405    2018.865201\n",
       "406    2018.743962\n",
       "407    2018.799726\n",
       "408    2016.896648\n",
       "409    2018.808847\n",
       "410    2018.586244\n",
       "411    2016.744718\n",
       "412    2016.875819\n",
       "413    2018.666366\n",
       "414    2018.595865\n",
       "415    2018.673679\n",
       "416    2018.531472\n",
       "417    2018.589273\n",
       "418    2016.798743\n",
       "419    2018.351230\n",
       "420    2018.641594\n",
       "421    2018.905270\n",
       "Name: nyear, Length: 422, dtype: float64"
      ]
     },
     "execution_count": 105,
     "metadata": {},
     "output_type": "execute_result"
    }
   ],
   "source": [
    "messages.nyear"
   ]
  },
  {
   "cell_type": "code",
   "execution_count": 106,
   "metadata": {},
   "outputs": [
    {
     "data": {
      "text/plain": [
       "<matplotlib.axes._subplots.AxesSubplot at 0x7ff96fc494a8>"
      ]
     },
     "execution_count": 106,
     "metadata": {},
     "output_type": "execute_result"
    },
    {
     "data": {
      "image/png": "[encoded data removed]",
      "text/plain": [
       "<Figure size 432x288 with 1 Axes>"
      ]
     },
     "metadata": {
      "needs_background": "light"
     },
     "output_type": "display_data"
    }
   ],
   "source": [
    "messages.plot.scatter('nyear','timeofday')"
   ]
  },
  {
   "cell_type": "code",
   "execution_count": 107,
   "metadata": {},
   "outputs": [
    {
     "data": {
      "text/plain": [
       "<matplotlib.axes._subplots.AxesSubplot at 0x7ff96dbc1eb8>"
      ]
     },
     "execution_count": 107,
     "metadata": {},
     "output_type": "execute_result"
    },
    {
     "data": {
      "image/png": "[encoded data removed]",
      "text/plain": [
       "<Figure size 432x288 with 1 Axes>"
      ]
     },
     "metadata": {
      "needs_background": "light"
     },
     "output_type": "display_data"
    }
   ],
   "source": [
    "messages.plot.scatter('nyear','timeofday',s=2)"
   ]
  },
  {
   "cell_type": "code",
   "execution_count": 108,
   "metadata": {},
   "outputs": [
    {
     "data": {
      "text/plain": [
       "<matplotlib.axes._subplots.AxesSubplot at 0x7ff96dbe0c18>"
      ]
     },
     "execution_count": 108,
     "metadata": {},
     "output_type": "execute_result"
    },
    {
     "data": {
      "image/png": "[encoded data removed]",
      "text/plain": [
       "<Figure size 432x288 with 1 Axes>"
      ]
     },
     "metadata": {
      "needs_background": "light"
     },
     "output_type": "display_data"
    }
   ],
   "source": [
    "messages.nyear.hist()"
   ]
  },
  {
   "cell_type": "code",
   "execution_count": 109,
   "metadata": {},
   "outputs": [
    {
     "data": {
      "text/plain": [
       "<matplotlib.axes._subplots.AxesSubplot at 0x7ff96db4ab70>"
      ]
     },
     "execution_count": 109,
     "metadata": {},
     "output_type": "execute_result"
    },
    {
     "data": {
      "image/png": "[encoded data removed]",
      "text/plain": [
       "<Figure size 432x288 with 1 Axes>"
      ]
     },
     "metadata": {
      "needs_background": "light"
     },
     "output_type": "display_data"
    }
   ],
   "source": [
    "messages.timeofday.hist()"
   ]
  },
  {
   "cell_type": "code",
   "execution_count": 111,
   "metadata": {},
   "outputs": [
    {
     "data": {
      "text/plain": [
       "Monday       75\n",
       "Friday       71\n",
       "Thursday     71\n",
       "Tuesday      71\n",
       "Wednesday    61\n",
       "Sunday       37\n",
       "Saturday     36\n",
       "Name: dayofweek, dtype: int64"
      ]
     },
     "execution_count": 111,
     "metadata": {},
     "output_type": "execute_result"
    }
   ],
   "source": [
    "messages.dayofweek.value_counts()"
   ]
  },
  {
   "cell_type": "code",
   "execution_count": 114,
   "metadata": {},
   "outputs": [
    {
     "data": {
      "text/plain": [
       "<matplotlib.axes._subplots.AxesSubplot at 0x7ff96dbfa748>"
      ]
     },
     "execution_count": 114,
     "metadata": {},
     "output_type": "execute_result"
    },
    {
     "data": {
      "image/png": "[encoded data removed]",
      "text/plain": [
       "<Figure size 432x288 with 1 Axes>"
      ]
     },
     "metadata": {
      "needs_background": "light"
     },
     "output_type": "display_data"
    }
   ],
   "source": [
    "counts = messages.dayofweek.value_counts(sort=False)\n",
    "counts.plot(kind = 'bar')"
   ]
  },
  {
   "cell_type": "code",
   "execution_count": 115,
   "metadata": {},
   "outputs": [],
   "source": [
    "days = messages.dayofweek.cat.categories"
   ]
  },
  {
   "cell_type": "code",
   "execution_count": 116,
   "metadata": {},
   "outputs": [
    {
     "data": {
      "text/plain": [
       "Index(['Monday', 'Tuesday', 'Wednesday', 'Thursday', 'Friday', 'Saturday',\n",
       "       'Sunday'],\n",
       "      dtype='object')"
      ]
     },
     "execution_count": 116,
     "metadata": {},
     "output_type": "execute_result"
    }
   ],
   "source": [
    "days"
   ]
  },
  {
   "cell_type": "code",
   "execution_count": 117,
   "metadata": {},
   "outputs": [
    {
     "data": {
      "text/plain": [
       "<matplotlib.legend.Legend at 0x7ff96da95be0>"
      ]
     },
     "execution_count": 117,
     "metadata": {},
     "output_type": "execute_result"
    },
    {
     "data": {
      "image/png": "[encoded data removed]",
      "text/plain": [
       "<Figure size 432x288 with 1 Axes>"
      ]
     },
     "metadata": {
      "needs_background": "light"
     },
     "output_type": "display_data"
    }
   ],
   "source": [
    "for day in days:\n",
    "    messages[messages.dayofweek == day].timeofday.plot(kind='density')\n",
    "    \n",
    "pp.legend(days)"
   ]
  },
  {
   "cell_type": "code",
   "execution_count": 118,
   "metadata": {},
   "outputs": [
    {
     "data": {
      "text/plain": [
       "dayofweek\n",
       "Monday       AxesSubplot(0.125,0.125;0.775x0.755)\n",
       "Tuesday      AxesSubplot(0.125,0.125;0.775x0.755)\n",
       "Wednesday    AxesSubplot(0.125,0.125;0.775x0.755)\n",
       "Thursday     AxesSubplot(0.125,0.125;0.775x0.755)\n",
       "Friday       AxesSubplot(0.125,0.125;0.775x0.755)\n",
       "Saturday     AxesSubplot(0.125,0.125;0.775x0.755)\n",
       "Sunday       AxesSubplot(0.125,0.125;0.775x0.755)\n",
       "Name: timeofday, dtype: object"
      ]
     },
     "execution_count": 118,
     "metadata": {},
     "output_type": "execute_result"
    },
    {
     "data": {
      "image/png": "[encoded data removed]",
      "text/plain": [
       "<Figure size 432x288 with 1 Axes>"
      ]
     },
     "metadata": {
      "needs_background": "light"
     },
     "output_type": "display_data"
    }
   ],
   "source": [
    "messages.groupby('dayofweek').timeofday.plot(kind='density')"
   ]
  },
  {
   "cell_type": "code",
   "execution_count": null,
   "metadata": {},
   "outputs": [],
   "source": []
  }
 ],
 "metadata": {
  "kernelspec": {
   "display_name": "Python 2",
   "language": "python",
   "name": "python2"
  },
  "language_info": {
   "codemirror_mode": {
    "name": "ipython",
    "version": 3
   },
   "file_extension": ".py",
   "mimetype": "text/x-python",
   "name": "python",
   "nbconvert_exporter": "python",
   "pygments_lexer": "ipython3",
   "version": "3.5.2"
  }
 },
 "nbformat": 4,
 "nbformat_minor": 2
}
